{
 "cells": [
  {
   "cell_type": "markdown",
   "metadata": {},
   "source": [
    "## Simple neural network on iris dataset"
   ]
  },
  {
   "cell_type": "code",
   "execution_count": 10,
   "metadata": {},
   "outputs": [],
   "source": [
    "%matplotlib inline\n",
    "from sklearn import datasets\n",
    "from sklearn.utils import shuffle\n",
    "from keras.utils import np_utils\n",
    "from keras.models import Sequential\n",
    "from keras.layers.core import Dense, Activation"
   ]
  },
  {
   "cell_type": "markdown",
   "metadata": {},
   "source": [
    "## Prepare dataset"
   ]
  },
  {
   "cell_type": "code",
   "execution_count": 2,
   "metadata": {},
   "outputs": [],
   "source": [
    "iris = datasets.load_iris()"
   ]
  },
  {
   "cell_type": "code",
   "execution_count": 3,
   "metadata": {},
   "outputs": [],
   "source": [
    "X = iris.data\n",
    "y = iris.target"
   ]
  },
  {
   "cell_type": "code",
   "execution_count": 6,
   "metadata": {},
   "outputs": [],
   "source": [
    "X_shuffled, y_shuffled = shuffle(X, y)"
   ]
  },
  {
   "cell_type": "code",
   "execution_count": 8,
   "metadata": {},
   "outputs": [],
   "source": [
    "y_onehot = np_utils.to_categorical(y_shuffled)"
   ]
  },
  {
   "cell_type": "markdown",
   "metadata": {},
   "source": [
    "## Neural Network"
   ]
  },
  {
   "cell_type": "code",
   "execution_count": 11,
   "metadata": {},
   "outputs": [],
   "source": [
    "model = Sequential()\n",
    "model.add(Dense(8, input_shape=(4,), activation='relu'))\n",
    "model.add(Dense(3, activation='softmax'))"
   ]
  },
  {
   "cell_type": "code",
   "execution_count": 13,
   "metadata": {},
   "outputs": [
    {
     "name": "stdout",
     "output_type": "stream",
     "text": [
      "Train on 90 samples, validate on 60 samples\n",
      "Epoch 1/100\n",
      "90/90 [==============================] - 0s 4ms/step - loss: 0.1053 - acc: 0.9444 - val_loss: 0.0681 - val_acc: 0.9833\n",
      "Epoch 2/100\n",
      "90/90 [==============================] - 0s 2ms/step - loss: 0.0953 - acc: 0.9667 - val_loss: 0.0864 - val_acc: 0.9667\n",
      "Epoch 3/100\n",
      "90/90 [==============================] - 0s 2ms/step - loss: 0.1051 - acc: 0.9556 - val_loss: 0.0892 - val_acc: 0.9500\n",
      "Epoch 4/100\n",
      "90/90 [==============================] - 0s 3ms/step - loss: 0.0983 - acc: 0.9778 - val_loss: 0.0796 - val_acc: 0.9833\n",
      "Epoch 5/100\n",
      "90/90 [==============================] - 0s 2ms/step - loss: 0.0941 - acc: 0.9667 - val_loss: 0.0694 - val_acc: 0.9833\n",
      "Epoch 6/100\n",
      "90/90 [==============================] - 0s 3ms/step - loss: 0.0947 - acc: 0.9778 - val_loss: 0.0777 - val_acc: 0.9833\n",
      "Epoch 7/100\n",
      "90/90 [==============================] - 0s 2ms/step - loss: 0.0914 - acc: 0.9667 - val_loss: 0.0771 - val_acc: 0.9833\n",
      "Epoch 8/100\n",
      "90/90 [==============================] - 0s 2ms/step - loss: 0.0928 - acc: 0.9778 - val_loss: 0.0879 - val_acc: 0.9500\n",
      "Epoch 9/100\n",
      "90/90 [==============================] - 0s 2ms/step - loss: 0.0926 - acc: 0.9667 - val_loss: 0.0802 - val_acc: 0.9667\n",
      "Epoch 10/100\n",
      "90/90 [==============================] - 0s 3ms/step - loss: 0.0936 - acc: 0.9778 - val_loss: 0.0596 - val_acc: 1.0000\n",
      "Epoch 11/100\n",
      "90/90 [==============================] - 0s 2ms/step - loss: 0.0862 - acc: 0.9556 - val_loss: 0.0716 - val_acc: 0.9833\n",
      "Epoch 12/100\n",
      "90/90 [==============================] - 0s 2ms/step - loss: 0.0899 - acc: 0.9667 - val_loss: 0.0607 - val_acc: 1.0000\n",
      "Epoch 13/100\n",
      "90/90 [==============================] - 0s 2ms/step - loss: 0.0967 - acc: 0.9667 - val_loss: 0.0516 - val_acc: 1.0000\n",
      "Epoch 14/100\n",
      "90/90 [==============================] - 0s 2ms/step - loss: 0.0983 - acc: 0.9556 - val_loss: 0.0628 - val_acc: 0.9833\n",
      "Epoch 15/100\n",
      "90/90 [==============================] - 0s 2ms/step - loss: 0.0856 - acc: 0.9667 - val_loss: 0.1510 - val_acc: 0.9167\n",
      "Epoch 16/100\n",
      "90/90 [==============================] - 0s 2ms/step - loss: 0.1032 - acc: 0.9556 - val_loss: 0.1029 - val_acc: 0.9500\n",
      "Epoch 17/100\n",
      "90/90 [==============================] - 0s 2ms/step - loss: 0.0883 - acc: 0.9667 - val_loss: 0.0714 - val_acc: 0.9833\n",
      "Epoch 18/100\n",
      "90/90 [==============================] - 0s 2ms/step - loss: 0.0905 - acc: 0.9778 - val_loss: 0.1018 - val_acc: 0.9500\n",
      "Epoch 19/100\n",
      "90/90 [==============================] - 0s 2ms/step - loss: 0.0897 - acc: 0.9667 - val_loss: 0.0860 - val_acc: 0.9500\n",
      "Epoch 20/100\n",
      "90/90 [==============================] - 0s 3ms/step - loss: 0.0920 - acc: 0.9556 - val_loss: 0.1019 - val_acc: 0.9500\n",
      "Epoch 21/100\n",
      "90/90 [==============================] - 0s 3ms/step - loss: 0.0845 - acc: 0.9778 - val_loss: 0.0594 - val_acc: 0.9833\n",
      "Epoch 22/100\n",
      "90/90 [==============================] - 0s 3ms/step - loss: 0.0885 - acc: 0.9778 - val_loss: 0.0719 - val_acc: 0.9833\n",
      "Epoch 23/100\n",
      "90/90 [==============================] - 0s 3ms/step - loss: 0.0964 - acc: 0.9556 - val_loss: 0.0699 - val_acc: 0.9833\n",
      "Epoch 24/100\n",
      "90/90 [==============================] - 0s 3ms/step - loss: 0.0887 - acc: 0.9778 - val_loss: 0.0872 - val_acc: 0.9500\n",
      "Epoch 25/100\n",
      "90/90 [==============================] - 0s 2ms/step - loss: 0.0866 - acc: 0.9778 - val_loss: 0.0710 - val_acc: 0.9833\n",
      "Epoch 26/100\n",
      "90/90 [==============================] - 0s 3ms/step - loss: 0.0892 - acc: 0.9778 - val_loss: 0.0691 - val_acc: 0.9833\n",
      "Epoch 27/100\n",
      "90/90 [==============================] - 0s 2ms/step - loss: 0.0829 - acc: 0.9778 - val_loss: 0.1015 - val_acc: 0.9500\n",
      "Epoch 28/100\n",
      "90/90 [==============================] - 0s 2ms/step - loss: 0.0866 - acc: 0.9667 - val_loss: 0.0993 - val_acc: 0.9500\n",
      "Epoch 29/100\n",
      "90/90 [==============================] - 0s 2ms/step - loss: 0.0894 - acc: 0.9444 - val_loss: 0.0600 - val_acc: 0.9833\n",
      "Epoch 30/100\n",
      "90/90 [==============================] - 0s 3ms/step - loss: 0.0888 - acc: 0.9778 - val_loss: 0.0649 - val_acc: 0.9833\n",
      "Epoch 31/100\n",
      "90/90 [==============================] - 0s 4ms/step - loss: 0.0833 - acc: 0.9889 - val_loss: 0.0635 - val_acc: 0.9833\n",
      "Epoch 32/100\n",
      "90/90 [==============================] - 0s 3ms/step - loss: 0.0824 - acc: 0.9778 - val_loss: 0.0703 - val_acc: 0.9833\n",
      "Epoch 33/100\n",
      "90/90 [==============================] - 0s 3ms/step - loss: 0.0838 - acc: 0.9889 - val_loss: 0.0943 - val_acc: 0.9500\n",
      "Epoch 34/100\n",
      "90/90 [==============================] - 0s 2ms/step - loss: 0.0793 - acc: 0.9778 - val_loss: 0.0494 - val_acc: 1.0000\n",
      "Epoch 35/100\n",
      "90/90 [==============================] - 0s 2ms/step - loss: 0.0880 - acc: 0.9667 - val_loss: 0.0843 - val_acc: 0.9500\n",
      "Epoch 36/100\n",
      "90/90 [==============================] - 0s 2ms/step - loss: 0.0836 - acc: 0.9778 - val_loss: 0.0823 - val_acc: 0.9500\n",
      "Epoch 37/100\n",
      "90/90 [==============================] - 0s 2ms/step - loss: 0.0838 - acc: 0.9778 - val_loss: 0.0832 - val_acc: 0.9500\n",
      "Epoch 38/100\n",
      "90/90 [==============================] - 0s 2ms/step - loss: 0.0833 - acc: 0.9889 - val_loss: 0.0795 - val_acc: 0.9667\n",
      "Epoch 39/100\n",
      "90/90 [==============================] - 0s 2ms/step - loss: 0.0823 - acc: 0.9667 - val_loss: 0.0554 - val_acc: 0.9833\n",
      "Epoch 40/100\n",
      "90/90 [==============================] - 0s 2ms/step - loss: 0.0825 - acc: 0.9778 - val_loss: 0.0643 - val_acc: 0.9833\n",
      "Epoch 41/100\n",
      "90/90 [==============================] - 0s 2ms/step - loss: 0.0905 - acc: 0.9667 - val_loss: 0.0743 - val_acc: 0.9667\n",
      "Epoch 42/100\n",
      "90/90 [==============================] - 0s 2ms/step - loss: 0.0831 - acc: 0.9778 - val_loss: 0.0753 - val_acc: 0.9667\n",
      "Epoch 43/100\n",
      "90/90 [==============================] - 0s 2ms/step - loss: 0.0829 - acc: 0.9667 - val_loss: 0.0880 - val_acc: 0.9500\n",
      "Epoch 44/100\n",
      "90/90 [==============================] - 0s 2ms/step - loss: 0.0785 - acc: 0.9889 - val_loss: 0.0833 - val_acc: 0.9500\n",
      "Epoch 45/100\n",
      "90/90 [==============================] - 0s 2ms/step - loss: 0.0836 - acc: 0.9778 - val_loss: 0.0606 - val_acc: 0.9833\n",
      "Epoch 46/100\n",
      "90/90 [==============================] - 0s 2ms/step - loss: 0.0830 - acc: 0.9667 - val_loss: 0.0887 - val_acc: 0.9500\n",
      "Epoch 47/100\n",
      "90/90 [==============================] - 0s 2ms/step - loss: 0.0775 - acc: 0.9667 - val_loss: 0.0533 - val_acc: 0.9833\n",
      "Epoch 48/100\n",
      "90/90 [==============================] - 0s 2ms/step - loss: 0.0911 - acc: 0.9556 - val_loss: 0.0441 - val_acc: 1.0000\n",
      "Epoch 49/100\n",
      "90/90 [==============================] - 0s 2ms/step - loss: 0.0872 - acc: 0.9667 - val_loss: 0.0486 - val_acc: 1.0000\n",
      "Epoch 50/100\n",
      "90/90 [==============================] - 0s 2ms/step - loss: 0.0898 - acc: 0.9667 - val_loss: 0.0938 - val_acc: 0.9500\n",
      "Epoch 51/100\n",
      "90/90 [==============================] - 0s 2ms/step - loss: 0.0758 - acc: 0.9778 - val_loss: 0.0508 - val_acc: 1.0000\n",
      "Epoch 52/100\n",
      "90/90 [==============================] - 0s 2ms/step - loss: 0.0886 - acc: 0.9667 - val_loss: 0.0900 - val_acc: 0.9500\n",
      "Epoch 53/100\n",
      "90/90 [==============================] - 0s 2ms/step - loss: 0.0800 - acc: 0.9778 - val_loss: 0.0655 - val_acc: 0.9833\n",
      "Epoch 54/100\n",
      "90/90 [==============================] - 0s 2ms/step - loss: 0.0820 - acc: 0.9778 - val_loss: 0.0867 - val_acc: 0.9500\n",
      "Epoch 55/100\n",
      "90/90 [==============================] - 0s 2ms/step - loss: 0.0770 - acc: 0.9667 - val_loss: 0.0889 - val_acc: 0.9500\n",
      "Epoch 56/100\n",
      "90/90 [==============================] - 0s 2ms/step - loss: 0.0810 - acc: 0.9778 - val_loss: 0.0792 - val_acc: 0.9667\n",
      "Epoch 57/100\n",
      "90/90 [==============================] - 0s 3ms/step - loss: 0.0811 - acc: 0.9667 - val_loss: 0.0754 - val_acc: 0.9667\n",
      "Epoch 58/100\n",
      "90/90 [==============================] - 0s 3ms/step - loss: 0.0807 - acc: 0.9667 - val_loss: 0.0549 - val_acc: 0.9833\n",
      "Epoch 59/100\n",
      "90/90 [==============================] - 0s 3ms/step - loss: 0.0790 - acc: 0.9667 - val_loss: 0.0812 - val_acc: 0.9500\n",
      "Epoch 60/100\n",
      "90/90 [==============================] - 0s 2ms/step - loss: 0.0801 - acc: 0.9667 - val_loss: 0.0598 - val_acc: 0.9833\n",
      "Epoch 61/100\n",
      "90/90 [==============================] - 0s 3ms/step - loss: 0.0758 - acc: 0.9667 - val_loss: 0.0521 - val_acc: 0.9833\n",
      "Epoch 62/100\n",
      "90/90 [==============================] - 0s 3ms/step - loss: 0.0799 - acc: 0.9556 - val_loss: 0.0859 - val_acc: 0.9500\n"
     ]
    },
    {
     "name": "stdout",
     "output_type": "stream",
     "text": [
      "Epoch 63/100\n",
      "90/90 [==============================] - 0s 2ms/step - loss: 0.0790 - acc: 0.9778 - val_loss: 0.0791 - val_acc: 0.9667\n",
      "Epoch 64/100\n",
      "90/90 [==============================] - 0s 2ms/step - loss: 0.0798 - acc: 0.9778 - val_loss: 0.0777 - val_acc: 0.9667\n",
      "Epoch 65/100\n",
      "90/90 [==============================] - 0s 2ms/step - loss: 0.0785 - acc: 0.9667 - val_loss: 0.0549 - val_acc: 0.9833\n",
      "Epoch 66/100\n",
      "90/90 [==============================] - 0s 2ms/step - loss: 0.0854 - acc: 0.9778 - val_loss: 0.0713 - val_acc: 0.9667\n",
      "Epoch 67/100\n",
      "90/90 [==============================] - 0s 3ms/step - loss: 0.0887 - acc: 0.9778 - val_loss: 0.0601 - val_acc: 0.9833\n",
      "Epoch 68/100\n",
      "90/90 [==============================] - 0s 3ms/step - loss: 0.0761 - acc: 0.9778 - val_loss: 0.0611 - val_acc: 0.9833\n",
      "Epoch 69/100\n",
      "90/90 [==============================] - 0s 2ms/step - loss: 0.0771 - acc: 0.9667 - val_loss: 0.0756 - val_acc: 0.9667\n",
      "Epoch 70/100\n",
      "90/90 [==============================] - 0s 2ms/step - loss: 0.0792 - acc: 0.9556 - val_loss: 0.0940 - val_acc: 0.9500\n",
      "Epoch 71/100\n",
      "90/90 [==============================] - 0s 2ms/step - loss: 0.0814 - acc: 0.9667 - val_loss: 0.0833 - val_acc: 0.9500\n",
      "Epoch 72/100\n",
      "90/90 [==============================] - 0s 3ms/step - loss: 0.0778 - acc: 0.9778 - val_loss: 0.0592 - val_acc: 0.9833\n",
      "Epoch 73/100\n",
      "90/90 [==============================] - 0s 3ms/step - loss: 0.0762 - acc: 0.9778 - val_loss: 0.0705 - val_acc: 0.9667\n",
      "Epoch 74/100\n",
      "90/90 [==============================] - 0s 3ms/step - loss: 0.0742 - acc: 0.9778 - val_loss: 0.1265 - val_acc: 0.9167\n",
      "Epoch 75/100\n",
      "90/90 [==============================] - 0s 3ms/step - loss: 0.0676 - acc: 0.9778 - val_loss: 0.0435 - val_acc: 1.0000\n",
      "Epoch 76/100\n",
      "90/90 [==============================] - 0s 2ms/step - loss: 0.0807 - acc: 0.9778 - val_loss: 0.0670 - val_acc: 0.9667\n",
      "Epoch 77/100\n",
      "90/90 [==============================] - 0s 2ms/step - loss: 0.0735 - acc: 0.9778 - val_loss: 0.0539 - val_acc: 0.9833\n",
      "Epoch 78/100\n",
      "90/90 [==============================] - 0s 2ms/step - loss: 0.0747 - acc: 0.9778 - val_loss: 0.0802 - val_acc: 0.9500\n",
      "Epoch 79/100\n",
      "90/90 [==============================] - 0s 2ms/step - loss: 0.0744 - acc: 0.9778 - val_loss: 0.0906 - val_acc: 0.9500\n",
      "Epoch 80/100\n",
      "90/90 [==============================] - 0s 2ms/step - loss: 0.0740 - acc: 0.9778 - val_loss: 0.1081 - val_acc: 0.9500\n",
      "Epoch 81/100\n",
      "90/90 [==============================] - 0s 2ms/step - loss: 0.0764 - acc: 0.9667 - val_loss: 0.0568 - val_acc: 0.9833\n",
      "Epoch 82/100\n",
      "90/90 [==============================] - 0s 2ms/step - loss: 0.0767 - acc: 0.9667 - val_loss: 0.0527 - val_acc: 0.9833\n",
      "Epoch 83/100\n",
      "90/90 [==============================] - 0s 2ms/step - loss: 0.0755 - acc: 0.9889 - val_loss: 0.0565 - val_acc: 0.9833\n",
      "Epoch 84/100\n",
      "90/90 [==============================] - 0s 2ms/step - loss: 0.0744 - acc: 0.9667 - val_loss: 0.0867 - val_acc: 0.9500\n",
      "Epoch 85/100\n",
      "90/90 [==============================] - 0s 2ms/step - loss: 0.0754 - acc: 0.9778 - val_loss: 0.0919 - val_acc: 0.9500\n",
      "Epoch 86/100\n",
      "90/90 [==============================] - 0s 2ms/step - loss: 0.0745 - acc: 0.9778 - val_loss: 0.0517 - val_acc: 0.9833\n",
      "Epoch 87/100\n",
      "90/90 [==============================] - 0s 2ms/step - loss: 0.0739 - acc: 0.9889 - val_loss: 0.0637 - val_acc: 0.9833\n",
      "Epoch 88/100\n",
      "90/90 [==============================] - 0s 2ms/step - loss: 0.0747 - acc: 0.9778 - val_loss: 0.0625 - val_acc: 0.9833\n",
      "Epoch 89/100\n",
      "90/90 [==============================] - 0s 2ms/step - loss: 0.0740 - acc: 0.9778 - val_loss: 0.0601 - val_acc: 0.9833\n",
      "Epoch 90/100\n",
      "90/90 [==============================] - 0s 2ms/step - loss: 0.0793 - acc: 0.9778 - val_loss: 0.0699 - val_acc: 0.9667\n",
      "Epoch 91/100\n",
      "90/90 [==============================] - 0s 2ms/step - loss: 0.0744 - acc: 0.9778 - val_loss: 0.0716 - val_acc: 0.9667\n",
      "Epoch 92/100\n",
      "90/90 [==============================] - 0s 2ms/step - loss: 0.0759 - acc: 0.9667 - val_loss: 0.0529 - val_acc: 0.9833\n",
      "Epoch 93/100\n",
      "90/90 [==============================] - 0s 2ms/step - loss: 0.0692 - acc: 0.9778 - val_loss: 0.0911 - val_acc: 0.9500\n",
      "Epoch 94/100\n",
      "90/90 [==============================] - 0s 2ms/step - loss: 0.0819 - acc: 0.9667 - val_loss: 0.0618 - val_acc: 0.9833\n",
      "Epoch 95/100\n",
      "90/90 [==============================] - 0s 2ms/step - loss: 0.0745 - acc: 0.9778 - val_loss: 0.0745 - val_acc: 0.9667\n",
      "Epoch 96/100\n",
      "90/90 [==============================] - 0s 2ms/step - loss: 0.0700 - acc: 0.9889 - val_loss: 0.0502 - val_acc: 0.9833\n",
      "Epoch 97/100\n",
      "90/90 [==============================] - 0s 2ms/step - loss: 0.0674 - acc: 0.9778 - val_loss: 0.1272 - val_acc: 0.9167\n",
      "Epoch 98/100\n",
      "90/90 [==============================] - 0s 2ms/step - loss: 0.0731 - acc: 0.9556 - val_loss: 0.0523 - val_acc: 0.9833\n",
      "Epoch 99/100\n",
      "90/90 [==============================] - 0s 2ms/step - loss: 0.0748 - acc: 0.9667 - val_loss: 0.0423 - val_acc: 1.0000\n",
      "Epoch 100/100\n",
      "90/90 [==============================] - 0s 2ms/step - loss: 0.0794 - acc: 0.9667 - val_loss: 0.0510 - val_acc: 0.9833\n"
     ]
    },
    {
     "data": {
      "text/plain": [
       "<keras.callbacks.History at 0x7feedee02710>"
      ]
     },
     "execution_count": 13,
     "metadata": {},
     "output_type": "execute_result"
    }
   ],
   "source": [
    "model.compile(optimizer=\"adam\",loss=\"categorical_crossentropy\",metrics=[\"accuracy\"])\n",
    "\n",
    "model.fit(X_shuffled, y_onehot, epochs=100, batch_size=1, verbose=1, validation_split=0.4)"
   ]
  },
  {
   "cell_type": "code",
   "execution_count": null,
   "metadata": {},
   "outputs": [],
   "source": []
  }
 ],
 "metadata": {
  "kernelspec": {
   "display_name": "Python 3",
   "language": "python",
   "name": "python3"
  },
  "language_info": {
   "codemirror_mode": {
    "name": "ipython",
    "version": 3
   },
   "file_extension": ".py",
   "mimetype": "text/x-python",
   "name": "python",
   "nbconvert_exporter": "python",
   "pygments_lexer": "ipython3",
   "version": "3.6.5"
  }
 },
 "nbformat": 4,
 "nbformat_minor": 2
}
