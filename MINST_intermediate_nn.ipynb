{
 "cells": [
  {
   "cell_type": "markdown",
   "metadata": {},
   "source": [
    "## MNIST intermediate"
   ]
  },
  {
   "cell_type": "code",
   "execution_count": 1,
   "metadata": {},
   "outputs": [
    {
     "name": "stderr",
     "output_type": "stream",
     "text": [
      "/usr/local/lib/python3.6/dist-packages/h5py/__init__.py:36: FutureWarning: Conversion of the second argument of issubdtype from `float` to `np.floating` is deprecated. In future, it will be treated as `np.float64 == np.dtype(float).type`.\n",
      "  from ._conv import register_converters as _register_converters\n",
      "Using TensorFlow backend.\n"
     ]
    }
   ],
   "source": [
    "import numpy as np\n",
    "import keras\n",
    "from keras.datasets import mnist\n",
    "from keras.models import Sequential\n",
    "from keras.layers import Dense\n",
    "from keras.optimizers import SGD\n",
    "from sklearn.preprocessing import MinMaxScaler\n",
    "\n",
    "np.random.seed(42)"
   ]
  },
  {
   "cell_type": "markdown",
   "metadata": {},
   "source": [
    "## Load data"
   ]
  },
  {
   "cell_type": "code",
   "execution_count": 2,
   "metadata": {},
   "outputs": [],
   "source": [
    "(X_train, y_train), (X_test, y_test) = mnist.load_data()"
   ]
  },
  {
   "cell_type": "markdown",
   "metadata": {},
   "source": [
    "### Preprocess data"
   ]
  },
  {
   "cell_type": "code",
   "execution_count": 3,
   "metadata": {},
   "outputs": [],
   "source": [
    "X_train = X_train.reshape(60000, 784).astype('float32')\n",
    "X_test = X_test.reshape(10000, 784).astype('float32')"
   ]
  },
  {
   "cell_type": "code",
   "execution_count": 4,
   "metadata": {},
   "outputs": [],
   "source": [
    "scaler = MinMaxScaler()"
   ]
  },
  {
   "cell_type": "code",
   "execution_count": 5,
   "metadata": {},
   "outputs": [
    {
     "data": {
      "text/plain": [
       "MinMaxScaler(copy=True, feature_range=(0, 1))"
      ]
     },
     "execution_count": 5,
     "metadata": {},
     "output_type": "execute_result"
    }
   ],
   "source": [
    "scaler.fit(X_train)"
   ]
  },
  {
   "cell_type": "code",
   "execution_count": 6,
   "metadata": {},
   "outputs": [],
   "source": [
    "X_train = scaler.transform(X_train)"
   ]
  },
  {
   "cell_type": "code",
   "execution_count": 7,
   "metadata": {},
   "outputs": [],
   "source": [
    "X_test = scaler.transform(X_test)"
   ]
  },
  {
   "cell_type": "code",
   "execution_count": 8,
   "metadata": {},
   "outputs": [],
   "source": [
    "clases = 10\n",
    "y_train = keras.utils.to_categorical(y_train, clases)\n",
    "y_test = keras.utils.to_categorical(y_test, clases)"
   ]
  },
  {
   "cell_type": "markdown",
   "metadata": {},
   "source": [
    "### Design neural network"
   ]
  },
  {
   "cell_type": "code",
   "execution_count": 9,
   "metadata": {},
   "outputs": [],
   "source": [
    "model = Sequential()"
   ]
  },
  {
   "cell_type": "code",
   "execution_count": 10,
   "metadata": {},
   "outputs": [],
   "source": [
    "model.add(Dense(64, activation = 'relu', input_shape=(784, )))\n",
    "model.add(Dense(64, activation = 'relu'))\n",
    "model.add(Dense(10, activation = 'softmax'))"
   ]
  },
  {
   "cell_type": "code",
   "execution_count": 11,
   "metadata": {},
   "outputs": [
    {
     "name": "stdout",
     "output_type": "stream",
     "text": [
      "_________________________________________________________________\n",
      "Layer (type)                 Output Shape              Param #   \n",
      "=================================================================\n",
      "dense_1 (Dense)              (None, 64)                50240     \n",
      "_________________________________________________________________\n",
      "dense_2 (Dense)              (None, 64)                4160      \n",
      "_________________________________________________________________\n",
      "dense_3 (Dense)              (None, 10)                650       \n",
      "=================================================================\n",
      "Total params: 55,050\n",
      "Trainable params: 55,050\n",
      "Non-trainable params: 0\n",
      "_________________________________________________________________\n"
     ]
    }
   ],
   "source": [
    "model.summary()"
   ]
  },
  {
   "cell_type": "markdown",
   "metadata": {},
   "source": [
    "### Configure the model"
   ]
  },
  {
   "cell_type": "code",
   "execution_count": 12,
   "metadata": {},
   "outputs": [],
   "source": [
    "model.compile(loss='categorical_crossentropy', optimizer=SGD(lr=0.01), metrics=['accuracy'])"
   ]
  },
  {
   "cell_type": "markdown",
   "metadata": {},
   "source": [
    "### Train"
   ]
  },
  {
   "cell_type": "code",
   "execution_count": 13,
   "metadata": {},
   "outputs": [
    {
     "name": "stdout",
     "output_type": "stream",
     "text": [
      "Train on 60000 samples, validate on 10000 samples\n",
      "Epoch 1/200\n",
      "60000/60000 [==============================] - 2s 27us/step - loss: 1.4651 - acc: 0.6199 - val_loss: 0.6842 - val_acc: 0.8409\n",
      "Epoch 2/200\n",
      "60000/60000 [==============================] - 1s 17us/step - loss: 0.5434 - acc: 0.8597 - val_loss: 0.4303 - val_acc: 0.8857\n",
      "Epoch 3/200\n",
      "60000/60000 [==============================] - 1s 16us/step - loss: 0.4106 - acc: 0.8850 - val_loss: 0.3612 - val_acc: 0.8987\n",
      "Epoch 4/200\n",
      "60000/60000 [==============================] - 1s 16us/step - loss: 0.3589 - acc: 0.8979 - val_loss: 0.3270 - val_acc: 0.9065\n",
      "Epoch 5/200\n",
      "60000/60000 [==============================] - 1s 17us/step - loss: 0.3277 - acc: 0.9071 - val_loss: 0.3026 - val_acc: 0.9138\n",
      "Epoch 6/200\n",
      "60000/60000 [==============================] - 1s 17us/step - loss: 0.3050 - acc: 0.9129 - val_loss: 0.2835 - val_acc: 0.9184\n",
      "Epoch 7/200\n",
      "60000/60000 [==============================] - 1s 16us/step - loss: 0.2874 - acc: 0.9182 - val_loss: 0.2685 - val_acc: 0.9240\n",
      "Epoch 8/200\n",
      "60000/60000 [==============================] - 1s 17us/step - loss: 0.2726 - acc: 0.9226 - val_loss: 0.2559 - val_acc: 0.9261\n",
      "Epoch 9/200\n",
      "60000/60000 [==============================] - 1s 17us/step - loss: 0.2600 - acc: 0.9264 - val_loss: 0.2454 - val_acc: 0.9293\n",
      "Epoch 10/200\n",
      "60000/60000 [==============================] - 1s 17us/step - loss: 0.2488 - acc: 0.9298 - val_loss: 0.2362 - val_acc: 0.9317\n",
      "Epoch 11/200\n",
      "60000/60000 [==============================] - 1s 18us/step - loss: 0.2390 - acc: 0.9326 - val_loss: 0.2267 - val_acc: 0.9349\n",
      "Epoch 12/200\n",
      "60000/60000 [==============================] - 1s 17us/step - loss: 0.2301 - acc: 0.9348 - val_loss: 0.2225 - val_acc: 0.9360\n",
      "Epoch 13/200\n",
      "60000/60000 [==============================] - 1s 17us/step - loss: 0.2217 - acc: 0.9368 - val_loss: 0.2132 - val_acc: 0.9385\n",
      "Epoch 14/200\n",
      "60000/60000 [==============================] - 1s 17us/step - loss: 0.2145 - acc: 0.9389 - val_loss: 0.2065 - val_acc: 0.9403\n",
      "Epoch 15/200\n",
      "60000/60000 [==============================] - 1s 17us/step - loss: 0.2076 - acc: 0.9408 - val_loss: 0.1992 - val_acc: 0.9429\n",
      "Epoch 16/200\n",
      "60000/60000 [==============================] - 1s 17us/step - loss: 0.2014 - acc: 0.9429 - val_loss: 0.1954 - val_acc: 0.9444\n",
      "Epoch 17/200\n",
      "60000/60000 [==============================] - 1s 17us/step - loss: 0.1954 - acc: 0.9449 - val_loss: 0.1910 - val_acc: 0.9449\n",
      "Epoch 18/200\n",
      "60000/60000 [==============================] - 1s 17us/step - loss: 0.1897 - acc: 0.9464 - val_loss: 0.1854 - val_acc: 0.9468\n",
      "Epoch 19/200\n",
      "60000/60000 [==============================] - 1s 19us/step - loss: 0.1846 - acc: 0.9473 - val_loss: 0.1807 - val_acc: 0.9473\n",
      "Epoch 20/200\n",
      "60000/60000 [==============================] - 1s 17us/step - loss: 0.1794 - acc: 0.9493 - val_loss: 0.1757 - val_acc: 0.9482\n",
      "Epoch 21/200\n",
      "60000/60000 [==============================] - 1s 20us/step - loss: 0.1749 - acc: 0.9503 - val_loss: 0.1724 - val_acc: 0.9484\n",
      "Epoch 22/200\n",
      "60000/60000 [==============================] - 1s 20us/step - loss: 0.1704 - acc: 0.9517 - val_loss: 0.1677 - val_acc: 0.9499\n",
      "Epoch 23/200\n",
      "60000/60000 [==============================] - 1s 20us/step - loss: 0.1661 - acc: 0.9525 - val_loss: 0.1654 - val_acc: 0.9503\n",
      "Epoch 24/200\n",
      "60000/60000 [==============================] - 1s 18us/step - loss: 0.1621 - acc: 0.9536 - val_loss: 0.1618 - val_acc: 0.9518\n",
      "Epoch 25/200\n",
      "60000/60000 [==============================] - 1s 17us/step - loss: 0.1581 - acc: 0.9546 - val_loss: 0.1582 - val_acc: 0.9533\n",
      "Epoch 26/200\n",
      "60000/60000 [==============================] - 1s 18us/step - loss: 0.1545 - acc: 0.9557 - val_loss: 0.1553 - val_acc: 0.9524\n",
      "Epoch 27/200\n",
      "60000/60000 [==============================] - 1s 20us/step - loss: 0.1511 - acc: 0.9564 - val_loss: 0.1521 - val_acc: 0.9553\n",
      "Epoch 28/200\n",
      "60000/60000 [==============================] - 1s 18us/step - loss: 0.1479 - acc: 0.9575 - val_loss: 0.1502 - val_acc: 0.9552\n",
      "Epoch 29/200\n",
      "60000/60000 [==============================] - 1s 15us/step - loss: 0.1446 - acc: 0.9581 - val_loss: 0.1504 - val_acc: 0.9554\n",
      "Epoch 30/200\n",
      "60000/60000 [==============================] - 1s 15us/step - loss: 0.1416 - acc: 0.9592 - val_loss: 0.1462 - val_acc: 0.9568\n",
      "Epoch 31/200\n",
      "60000/60000 [==============================] - 1s 15us/step - loss: 0.1387 - acc: 0.9598 - val_loss: 0.1431 - val_acc: 0.9582\n",
      "Epoch 32/200\n",
      "60000/60000 [==============================] - 1s 16us/step - loss: 0.1358 - acc: 0.9611 - val_loss: 0.1407 - val_acc: 0.9585\n",
      "Epoch 33/200\n",
      "60000/60000 [==============================] - 1s 15us/step - loss: 0.1330 - acc: 0.9613 - val_loss: 0.1408 - val_acc: 0.9587\n",
      "Epoch 34/200\n",
      "60000/60000 [==============================] - 1s 18us/step - loss: 0.1305 - acc: 0.9625 - val_loss: 0.1374 - val_acc: 0.9585\n",
      "Epoch 35/200\n",
      "60000/60000 [==============================] - 1s 17us/step - loss: 0.1280 - acc: 0.9635 - val_loss: 0.1359 - val_acc: 0.9609\n",
      "Epoch 36/200\n",
      "60000/60000 [==============================] - 1s 19us/step - loss: 0.1256 - acc: 0.9638 - val_loss: 0.1335 - val_acc: 0.9606\n",
      "Epoch 37/200\n",
      "60000/60000 [==============================] - 1s 18us/step - loss: 0.1232 - acc: 0.9648 - val_loss: 0.1338 - val_acc: 0.9606\n",
      "Epoch 38/200\n",
      "60000/60000 [==============================] - 1s 17us/step - loss: 0.1209 - acc: 0.9655 - val_loss: 0.1302 - val_acc: 0.9611\n",
      "Epoch 39/200\n",
      "60000/60000 [==============================] - 1s 18us/step - loss: 0.1188 - acc: 0.9662 - val_loss: 0.1294 - val_acc: 0.9625\n",
      "Epoch 40/200\n",
      "60000/60000 [==============================] - 1s 20us/step - loss: 0.1168 - acc: 0.9666 - val_loss: 0.1268 - val_acc: 0.9622\n",
      "Epoch 41/200\n",
      "60000/60000 [==============================] - 1s 18us/step - loss: 0.1147 - acc: 0.9670 - val_loss: 0.1257 - val_acc: 0.9637\n",
      "Epoch 42/200\n",
      "60000/60000 [==============================] - 1s 20us/step - loss: 0.1127 - acc: 0.9676 - val_loss: 0.1237 - val_acc: 0.9634\n",
      "Epoch 43/200\n",
      "60000/60000 [==============================] - 1s 19us/step - loss: 0.1106 - acc: 0.9684 - val_loss: 0.1231 - val_acc: 0.9644\n",
      "Epoch 44/200\n",
      "60000/60000 [==============================] - 1s 19us/step - loss: 0.1088 - acc: 0.9689 - val_loss: 0.1209 - val_acc: 0.9646\n",
      "Epoch 45/200\n",
      "60000/60000 [==============================] - 1s 22us/step - loss: 0.1071 - acc: 0.9696 - val_loss: 0.1207 - val_acc: 0.9644\n",
      "Epoch 46/200\n",
      "60000/60000 [==============================] - 1s 18us/step - loss: 0.1052 - acc: 0.9697 - val_loss: 0.1184 - val_acc: 0.9654\n",
      "Epoch 47/200\n",
      "60000/60000 [==============================] - 1s 18us/step - loss: 0.1037 - acc: 0.9705 - val_loss: 0.1185 - val_acc: 0.9652\n",
      "Epoch 48/200\n",
      "60000/60000 [==============================] - 1s 17us/step - loss: 0.1020 - acc: 0.9710 - val_loss: 0.1172 - val_acc: 0.9654\n",
      "Epoch 49/200\n",
      "60000/60000 [==============================] - 1s 17us/step - loss: 0.1004 - acc: 0.9714 - val_loss: 0.1160 - val_acc: 0.9658\n",
      "Epoch 50/200\n",
      "60000/60000 [==============================] - 1s 17us/step - loss: 0.0988 - acc: 0.9716 - val_loss: 0.1138 - val_acc: 0.9668\n",
      "Epoch 51/200\n",
      "60000/60000 [==============================] - 1s 17us/step - loss: 0.0973 - acc: 0.9724 - val_loss: 0.1136 - val_acc: 0.9669\n",
      "Epoch 52/200\n",
      "60000/60000 [==============================] - 1s 17us/step - loss: 0.0958 - acc: 0.9726 - val_loss: 0.1126 - val_acc: 0.9677\n",
      "Epoch 53/200\n",
      "60000/60000 [==============================] - 1s 17us/step - loss: 0.0944 - acc: 0.9731 - val_loss: 0.1141 - val_acc: 0.9664\n",
      "Epoch 54/200\n",
      "60000/60000 [==============================] - 1s 18us/step - loss: 0.0929 - acc: 0.9737 - val_loss: 0.1108 - val_acc: 0.9684\n",
      "Epoch 55/200\n",
      "60000/60000 [==============================] - 1s 17us/step - loss: 0.0916 - acc: 0.9742 - val_loss: 0.1095 - val_acc: 0.9681\n",
      "Epoch 56/200\n",
      "60000/60000 [==============================] - 1s 17us/step - loss: 0.0901 - acc: 0.9744 - val_loss: 0.1090 - val_acc: 0.9684\n",
      "Epoch 57/200\n",
      "60000/60000 [==============================] - 1s 17us/step - loss: 0.0887 - acc: 0.9749 - val_loss: 0.1076 - val_acc: 0.9692\n",
      "Epoch 58/200\n",
      "60000/60000 [==============================] - 1s 18us/step - loss: 0.0877 - acc: 0.9750 - val_loss: 0.1065 - val_acc: 0.9690\n",
      "Epoch 59/200\n"
     ]
    },
    {
     "name": "stdout",
     "output_type": "stream",
     "text": [
      "60000/60000 [==============================] - 1s 18us/step - loss: 0.0864 - acc: 0.9756 - val_loss: 0.1060 - val_acc: 0.9696\n",
      "Epoch 60/200\n",
      "60000/60000 [==============================] - 1s 18us/step - loss: 0.0851 - acc: 0.9758 - val_loss: 0.1066 - val_acc: 0.9693\n",
      "Epoch 61/200\n",
      "60000/60000 [==============================] - 1s 17us/step - loss: 0.0839 - acc: 0.9763 - val_loss: 0.1038 - val_acc: 0.9701\n",
      "Epoch 62/200\n",
      "60000/60000 [==============================] - 1s 18us/step - loss: 0.0828 - acc: 0.9767 - val_loss: 0.1031 - val_acc: 0.9712\n",
      "Epoch 63/200\n",
      "60000/60000 [==============================] - 1s 17us/step - loss: 0.0817 - acc: 0.9768 - val_loss: 0.1036 - val_acc: 0.9705\n",
      "Epoch 64/200\n",
      "60000/60000 [==============================] - 1s 18us/step - loss: 0.0807 - acc: 0.9773 - val_loss: 0.1021 - val_acc: 0.9705\n",
      "Epoch 65/200\n",
      "60000/60000 [==============================] - 1s 17us/step - loss: 0.0794 - acc: 0.9778 - val_loss: 0.1022 - val_acc: 0.9711\n",
      "Epoch 66/200\n",
      "60000/60000 [==============================] - 1s 18us/step - loss: 0.0785 - acc: 0.9778 - val_loss: 0.1020 - val_acc: 0.9705\n",
      "Epoch 67/200\n",
      "60000/60000 [==============================] - 1s 18us/step - loss: 0.0774 - acc: 0.9782 - val_loss: 0.1004 - val_acc: 0.9702\n",
      "Epoch 68/200\n",
      "60000/60000 [==============================] - 1s 17us/step - loss: 0.0765 - acc: 0.9789 - val_loss: 0.1008 - val_acc: 0.9709\n",
      "Epoch 69/200\n",
      "60000/60000 [==============================] - 1s 17us/step - loss: 0.0754 - acc: 0.9790 - val_loss: 0.1000 - val_acc: 0.9710\n",
      "Epoch 70/200\n",
      "60000/60000 [==============================] - 1s 18us/step - loss: 0.0745 - acc: 0.9789 - val_loss: 0.1004 - val_acc: 0.9704\n",
      "Epoch 71/200\n",
      "60000/60000 [==============================] - 1s 18us/step - loss: 0.0735 - acc: 0.9793 - val_loss: 0.0983 - val_acc: 0.9720\n",
      "Epoch 72/200\n",
      "60000/60000 [==============================] - 1s 18us/step - loss: 0.0726 - acc: 0.9796 - val_loss: 0.0987 - val_acc: 0.9708\n",
      "Epoch 73/200\n",
      "60000/60000 [==============================] - 1s 17us/step - loss: 0.0718 - acc: 0.9796 - val_loss: 0.0990 - val_acc: 0.9706\n",
      "Epoch 74/200\n",
      "60000/60000 [==============================] - 1s 18us/step - loss: 0.0709 - acc: 0.9802 - val_loss: 0.0964 - val_acc: 0.9723\n",
      "Epoch 75/200\n",
      "60000/60000 [==============================] - 1s 17us/step - loss: 0.0700 - acc: 0.9807 - val_loss: 0.0970 - val_acc: 0.9711\n",
      "Epoch 76/200\n",
      "60000/60000 [==============================] - 1s 18us/step - loss: 0.0690 - acc: 0.9807 - val_loss: 0.0960 - val_acc: 0.9719\n",
      "Epoch 77/200\n",
      "60000/60000 [==============================] - 1s 17us/step - loss: 0.0684 - acc: 0.9811 - val_loss: 0.0949 - val_acc: 0.9726\n",
      "Epoch 78/200\n",
      "60000/60000 [==============================] - 1s 17us/step - loss: 0.0673 - acc: 0.9814 - val_loss: 0.0953 - val_acc: 0.9719\n",
      "Epoch 79/200\n",
      "60000/60000 [==============================] - 1s 18us/step - loss: 0.0667 - acc: 0.9818 - val_loss: 0.0951 - val_acc: 0.9721\n",
      "Epoch 80/200\n",
      "60000/60000 [==============================] - 1s 18us/step - loss: 0.0659 - acc: 0.9817 - val_loss: 0.0934 - val_acc: 0.9724\n",
      "Epoch 81/200\n",
      "60000/60000 [==============================] - 1s 17us/step - loss: 0.0650 - acc: 0.9824 - val_loss: 0.0957 - val_acc: 0.9718\n",
      "Epoch 82/200\n",
      "60000/60000 [==============================] - 1s 17us/step - loss: 0.0643 - acc: 0.9820 - val_loss: 0.0935 - val_acc: 0.9723\n",
      "Epoch 83/200\n",
      "60000/60000 [==============================] - 1s 17us/step - loss: 0.0636 - acc: 0.9825 - val_loss: 0.0923 - val_acc: 0.9738\n",
      "Epoch 84/200\n",
      "60000/60000 [==============================] - 1s 16us/step - loss: 0.0629 - acc: 0.9824 - val_loss: 0.0945 - val_acc: 0.9727\n",
      "Epoch 85/200\n",
      "60000/60000 [==============================] - 1s 17us/step - loss: 0.0620 - acc: 0.9829 - val_loss: 0.0917 - val_acc: 0.9735\n",
      "Epoch 86/200\n",
      "60000/60000 [==============================] - 1s 17us/step - loss: 0.0615 - acc: 0.9831 - val_loss: 0.0922 - val_acc: 0.9739\n",
      "Epoch 87/200\n",
      "60000/60000 [==============================] - 1s 17us/step - loss: 0.0605 - acc: 0.9834 - val_loss: 0.0903 - val_acc: 0.9734\n",
      "Epoch 88/200\n",
      "60000/60000 [==============================] - 1s 17us/step - loss: 0.0600 - acc: 0.9836 - val_loss: 0.0911 - val_acc: 0.9730\n",
      "Epoch 89/200\n",
      "60000/60000 [==============================] - 1s 17us/step - loss: 0.0593 - acc: 0.9837 - val_loss: 0.0909 - val_acc: 0.9741\n",
      "Epoch 90/200\n",
      "60000/60000 [==============================] - 1s 17us/step - loss: 0.0587 - acc: 0.9839 - val_loss: 0.0904 - val_acc: 0.9741\n",
      "Epoch 91/200\n",
      "60000/60000 [==============================] - 1s 17us/step - loss: 0.0581 - acc: 0.9840 - val_loss: 0.0897 - val_acc: 0.9746\n",
      "Epoch 92/200\n",
      "60000/60000 [==============================] - 1s 18us/step - loss: 0.0573 - acc: 0.9845 - val_loss: 0.0897 - val_acc: 0.9738\n",
      "Epoch 93/200\n",
      "60000/60000 [==============================] - 1s 19us/step - loss: 0.0566 - acc: 0.9848 - val_loss: 0.0901 - val_acc: 0.9735\n",
      "Epoch 94/200\n",
      "60000/60000 [==============================] - 1s 18us/step - loss: 0.0560 - acc: 0.9848 - val_loss: 0.0904 - val_acc: 0.9730\n",
      "Epoch 95/200\n",
      "60000/60000 [==============================] - 1s 21us/step - loss: 0.0554 - acc: 0.9850 - val_loss: 0.0894 - val_acc: 0.9743\n",
      "Epoch 96/200\n",
      "60000/60000 [==============================] - 1s 18us/step - loss: 0.0549 - acc: 0.9851 - val_loss: 0.0898 - val_acc: 0.9730\n",
      "Epoch 97/200\n",
      "60000/60000 [==============================] - 1s 20us/step - loss: 0.0542 - acc: 0.9852 - val_loss: 0.0884 - val_acc: 0.9740\n",
      "Epoch 98/200\n",
      "60000/60000 [==============================] - 1s 18us/step - loss: 0.0537 - acc: 0.9854 - val_loss: 0.0881 - val_acc: 0.9742\n",
      "Epoch 99/200\n",
      "60000/60000 [==============================] - 1s 18us/step - loss: 0.0529 - acc: 0.9855 - val_loss: 0.0883 - val_acc: 0.9740\n",
      "Epoch 100/200\n",
      "60000/60000 [==============================] - 1s 18us/step - loss: 0.0525 - acc: 0.9858 - val_loss: 0.0868 - val_acc: 0.9743\n",
      "Epoch 101/200\n",
      "60000/60000 [==============================] - 1s 17us/step - loss: 0.0519 - acc: 0.9861 - val_loss: 0.0877 - val_acc: 0.9740\n",
      "Epoch 102/200\n",
      "60000/60000 [==============================] - 1s 19us/step - loss: 0.0514 - acc: 0.9863 - val_loss: 0.0895 - val_acc: 0.9737\n",
      "Epoch 103/200\n",
      "60000/60000 [==============================] - 1s 18us/step - loss: 0.0510 - acc: 0.9865 - val_loss: 0.0879 - val_acc: 0.9740\n",
      "Epoch 104/200\n",
      "60000/60000 [==============================] - 1s 18us/step - loss: 0.0504 - acc: 0.9866 - val_loss: 0.0864 - val_acc: 0.9745\n",
      "Epoch 105/200\n",
      "60000/60000 [==============================] - 1s 18us/step - loss: 0.0498 - acc: 0.9867 - val_loss: 0.0867 - val_acc: 0.9740\n",
      "Epoch 106/200\n",
      "60000/60000 [==============================] - 1s 18us/step - loss: 0.0494 - acc: 0.9865 - val_loss: 0.0869 - val_acc: 0.9741\n",
      "Epoch 107/200\n",
      "60000/60000 [==============================] - 1s 19us/step - loss: 0.0488 - acc: 0.9871 - val_loss: 0.0861 - val_acc: 0.9744\n",
      "Epoch 108/200\n",
      "60000/60000 [==============================] - 1s 20us/step - loss: 0.0481 - acc: 0.9873 - val_loss: 0.0863 - val_acc: 0.9738\n",
      "Epoch 109/200\n",
      "60000/60000 [==============================] - 1s 19us/step - loss: 0.0477 - acc: 0.9873 - val_loss: 0.0861 - val_acc: 0.9747\n",
      "Epoch 110/200\n",
      "60000/60000 [==============================] - 1s 17us/step - loss: 0.0472 - acc: 0.9871 - val_loss: 0.0854 - val_acc: 0.9748\n",
      "Epoch 111/200\n",
      "60000/60000 [==============================] - 1s 17us/step - loss: 0.0468 - acc: 0.9875 - val_loss: 0.0859 - val_acc: 0.9750\n",
      "Epoch 112/200\n",
      "60000/60000 [==============================] - 1s 17us/step - loss: 0.0463 - acc: 0.9878 - val_loss: 0.0859 - val_acc: 0.9736\n",
      "Epoch 113/200\n",
      "60000/60000 [==============================] - 1s 18us/step - loss: 0.0459 - acc: 0.9878 - val_loss: 0.0853 - val_acc: 0.9745\n",
      "Epoch 114/200\n",
      "60000/60000 [==============================] - 1s 17us/step - loss: 0.0453 - acc: 0.9880 - val_loss: 0.0859 - val_acc: 0.9753\n",
      "Epoch 115/200\n",
      "60000/60000 [==============================] - 1s 18us/step - loss: 0.0447 - acc: 0.9883 - val_loss: 0.0848 - val_acc: 0.9758\n",
      "Epoch 116/200\n",
      "60000/60000 [==============================] - 1s 17us/step - loss: 0.0444 - acc: 0.9882 - val_loss: 0.0851 - val_acc: 0.9743\n",
      "Epoch 117/200\n",
      "60000/60000 [==============================] - 1s 17us/step - loss: 0.0440 - acc: 0.9885 - val_loss: 0.0848 - val_acc: 0.9745\n"
     ]
    },
    {
     "name": "stdout",
     "output_type": "stream",
     "text": [
      "Epoch 118/200\n",
      "60000/60000 [==============================] - 1s 17us/step - loss: 0.0434 - acc: 0.9887 - val_loss: 0.0848 - val_acc: 0.9741\n",
      "Epoch 119/200\n",
      "60000/60000 [==============================] - 1s 17us/step - loss: 0.0431 - acc: 0.9886 - val_loss: 0.0850 - val_acc: 0.9747\n",
      "Epoch 120/200\n",
      "60000/60000 [==============================] - 1s 17us/step - loss: 0.0425 - acc: 0.9888 - val_loss: 0.0846 - val_acc: 0.9746\n",
      "Epoch 121/200\n",
      "60000/60000 [==============================] - 1s 17us/step - loss: 0.0423 - acc: 0.9891 - val_loss: 0.0841 - val_acc: 0.9757\n",
      "Epoch 122/200\n",
      "60000/60000 [==============================] - 1s 17us/step - loss: 0.0418 - acc: 0.9890 - val_loss: 0.0848 - val_acc: 0.9749\n",
      "Epoch 123/200\n",
      "60000/60000 [==============================] - 1s 18us/step - loss: 0.0413 - acc: 0.9894 - val_loss: 0.0848 - val_acc: 0.9742\n",
      "Epoch 124/200\n",
      "60000/60000 [==============================] - 1s 18us/step - loss: 0.0410 - acc: 0.9892 - val_loss: 0.0836 - val_acc: 0.9762\n",
      "Epoch 125/200\n",
      "60000/60000 [==============================] - 1s 17us/step - loss: 0.0405 - acc: 0.9896 - val_loss: 0.0840 - val_acc: 0.9752\n",
      "Epoch 126/200\n",
      "60000/60000 [==============================] - 1s 17us/step - loss: 0.0402 - acc: 0.9899 - val_loss: 0.0839 - val_acc: 0.9761\n",
      "Epoch 127/200\n",
      "60000/60000 [==============================] - 1s 17us/step - loss: 0.0397 - acc: 0.9900 - val_loss: 0.0852 - val_acc: 0.9741\n",
      "Epoch 128/200\n",
      "60000/60000 [==============================] - 1s 17us/step - loss: 0.0394 - acc: 0.9897 - val_loss: 0.0836 - val_acc: 0.9749\n",
      "Epoch 129/200\n",
      "60000/60000 [==============================] - 1s 17us/step - loss: 0.0389 - acc: 0.9899 - val_loss: 0.0840 - val_acc: 0.9746\n",
      "Epoch 130/200\n",
      "60000/60000 [==============================] - 1s 17us/step - loss: 0.0386 - acc: 0.9901 - val_loss: 0.0836 - val_acc: 0.9752\n",
      "Epoch 131/200\n",
      "60000/60000 [==============================] - 1s 18us/step - loss: 0.0382 - acc: 0.9902 - val_loss: 0.0834 - val_acc: 0.9760\n",
      "Epoch 132/200\n",
      "60000/60000 [==============================] - 1s 19us/step - loss: 0.0378 - acc: 0.9901 - val_loss: 0.0832 - val_acc: 0.9757\n",
      "Epoch 133/200\n",
      "60000/60000 [==============================] - 1s 19us/step - loss: 0.0375 - acc: 0.9903 - val_loss: 0.0833 - val_acc: 0.9763\n",
      "Epoch 134/200\n",
      "60000/60000 [==============================] - 1s 17us/step - loss: 0.0371 - acc: 0.9906 - val_loss: 0.0833 - val_acc: 0.9752\n",
      "Epoch 135/200\n",
      "60000/60000 [==============================] - 1s 17us/step - loss: 0.0367 - acc: 0.9908 - val_loss: 0.0832 - val_acc: 0.9750\n",
      "Epoch 136/200\n",
      "13056/60000 [=====>........................] - ETA: 0s - loss: 0.0372 - acc: 0.9900"
     ]
    },
    {
     "ename": "KeyboardInterrupt",
     "evalue": "",
     "output_type": "error",
     "traceback": [
      "\u001b[0;31m---------------------------------------------------------------------------\u001b[0m",
      "\u001b[0;31mKeyboardInterrupt\u001b[0m                         Traceback (most recent call last)",
      "\u001b[0;32m<ipython-input-13-47f910c29a78>\u001b[0m in \u001b[0;36m<module>\u001b[0;34m()\u001b[0m\n\u001b[0;32m----> 1\u001b[0;31m \u001b[0mmodel\u001b[0m\u001b[0;34m.\u001b[0m\u001b[0mfit\u001b[0m\u001b[0;34m(\u001b[0m\u001b[0mX_train\u001b[0m\u001b[0;34m,\u001b[0m \u001b[0my_train\u001b[0m\u001b[0;34m,\u001b[0m \u001b[0mbatch_size\u001b[0m\u001b[0;34m=\u001b[0m\u001b[0;36m128\u001b[0m\u001b[0;34m,\u001b[0m \u001b[0mepochs\u001b[0m\u001b[0;34m=\u001b[0m\u001b[0;36m200\u001b[0m\u001b[0;34m,\u001b[0m \u001b[0mverbose\u001b[0m\u001b[0;34m=\u001b[0m\u001b[0;36m1\u001b[0m\u001b[0;34m,\u001b[0m \u001b[0mvalidation_data\u001b[0m\u001b[0;34m=\u001b[0m\u001b[0;34m(\u001b[0m\u001b[0mX_test\u001b[0m\u001b[0;34m,\u001b[0m \u001b[0my_test\u001b[0m\u001b[0;34m)\u001b[0m\u001b[0;34m)\u001b[0m\u001b[0;34m\u001b[0m\u001b[0m\n\u001b[0m",
      "\u001b[0;32m/usr/local/lib/python3.6/dist-packages/keras/models.py\u001b[0m in \u001b[0;36mfit\u001b[0;34m(self, x, y, batch_size, epochs, verbose, callbacks, validation_split, validation_data, shuffle, class_weight, sample_weight, initial_epoch, steps_per_epoch, validation_steps, **kwargs)\u001b[0m\n\u001b[1;32m   1000\u001b[0m                               \u001b[0minitial_epoch\u001b[0m\u001b[0;34m=\u001b[0m\u001b[0minitial_epoch\u001b[0m\u001b[0;34m,\u001b[0m\u001b[0;34m\u001b[0m\u001b[0m\n\u001b[1;32m   1001\u001b[0m                               \u001b[0msteps_per_epoch\u001b[0m\u001b[0;34m=\u001b[0m\u001b[0msteps_per_epoch\u001b[0m\u001b[0;34m,\u001b[0m\u001b[0;34m\u001b[0m\u001b[0m\n\u001b[0;32m-> 1002\u001b[0;31m                               validation_steps=validation_steps)\n\u001b[0m\u001b[1;32m   1003\u001b[0m \u001b[0;34m\u001b[0m\u001b[0m\n\u001b[1;32m   1004\u001b[0m     def evaluate(self, x=None, y=None,\n",
      "\u001b[0;32m/usr/local/lib/python3.6/dist-packages/keras/engine/training.py\u001b[0m in \u001b[0;36mfit\u001b[0;34m(self, x, y, batch_size, epochs, verbose, callbacks, validation_split, validation_data, shuffle, class_weight, sample_weight, initial_epoch, steps_per_epoch, validation_steps, **kwargs)\u001b[0m\n\u001b[1;32m   1703\u001b[0m                               \u001b[0minitial_epoch\u001b[0m\u001b[0;34m=\u001b[0m\u001b[0minitial_epoch\u001b[0m\u001b[0;34m,\u001b[0m\u001b[0;34m\u001b[0m\u001b[0m\n\u001b[1;32m   1704\u001b[0m                               \u001b[0msteps_per_epoch\u001b[0m\u001b[0;34m=\u001b[0m\u001b[0msteps_per_epoch\u001b[0m\u001b[0;34m,\u001b[0m\u001b[0;34m\u001b[0m\u001b[0m\n\u001b[0;32m-> 1705\u001b[0;31m                               validation_steps=validation_steps)\n\u001b[0m\u001b[1;32m   1706\u001b[0m \u001b[0;34m\u001b[0m\u001b[0m\n\u001b[1;32m   1707\u001b[0m     def evaluate(self, x=None, y=None,\n",
      "\u001b[0;32m/usr/local/lib/python3.6/dist-packages/keras/engine/training.py\u001b[0m in \u001b[0;36m_fit_loop\u001b[0;34m(self, f, ins, out_labels, batch_size, epochs, verbose, callbacks, val_f, val_ins, shuffle, callback_metrics, initial_epoch, steps_per_epoch, validation_steps)\u001b[0m\n\u001b[1;32m   1234\u001b[0m                         \u001b[0mins_batch\u001b[0m\u001b[0;34m[\u001b[0m\u001b[0mi\u001b[0m\u001b[0;34m]\u001b[0m \u001b[0;34m=\u001b[0m \u001b[0mins_batch\u001b[0m\u001b[0;34m[\u001b[0m\u001b[0mi\u001b[0m\u001b[0;34m]\u001b[0m\u001b[0;34m.\u001b[0m\u001b[0mtoarray\u001b[0m\u001b[0;34m(\u001b[0m\u001b[0;34m)\u001b[0m\u001b[0;34m\u001b[0m\u001b[0m\n\u001b[1;32m   1235\u001b[0m \u001b[0;34m\u001b[0m\u001b[0m\n\u001b[0;32m-> 1236\u001b[0;31m                     \u001b[0mouts\u001b[0m \u001b[0;34m=\u001b[0m \u001b[0mf\u001b[0m\u001b[0;34m(\u001b[0m\u001b[0mins_batch\u001b[0m\u001b[0;34m)\u001b[0m\u001b[0;34m\u001b[0m\u001b[0m\n\u001b[0m\u001b[1;32m   1237\u001b[0m                     \u001b[0;32mif\u001b[0m \u001b[0;32mnot\u001b[0m \u001b[0misinstance\u001b[0m\u001b[0;34m(\u001b[0m\u001b[0mouts\u001b[0m\u001b[0;34m,\u001b[0m \u001b[0mlist\u001b[0m\u001b[0;34m)\u001b[0m\u001b[0;34m:\u001b[0m\u001b[0;34m\u001b[0m\u001b[0m\n\u001b[1;32m   1238\u001b[0m                         \u001b[0mouts\u001b[0m \u001b[0;34m=\u001b[0m \u001b[0;34m[\u001b[0m\u001b[0mouts\u001b[0m\u001b[0;34m]\u001b[0m\u001b[0;34m\u001b[0m\u001b[0m\n",
      "\u001b[0;32m/usr/local/lib/python3.6/dist-packages/keras/backend/tensorflow_backend.py\u001b[0m in \u001b[0;36m__call__\u001b[0;34m(self, inputs)\u001b[0m\n\u001b[1;32m   2480\u001b[0m         \u001b[0msession\u001b[0m \u001b[0;34m=\u001b[0m \u001b[0mget_session\u001b[0m\u001b[0;34m(\u001b[0m\u001b[0;34m)\u001b[0m\u001b[0;34m\u001b[0m\u001b[0m\n\u001b[1;32m   2481\u001b[0m         updated = session.run(fetches=fetches, feed_dict=feed_dict,\n\u001b[0;32m-> 2482\u001b[0;31m                               **self.session_kwargs)\n\u001b[0m\u001b[1;32m   2483\u001b[0m         \u001b[0;32mreturn\u001b[0m \u001b[0mupdated\u001b[0m\u001b[0;34m[\u001b[0m\u001b[0;34m:\u001b[0m\u001b[0mlen\u001b[0m\u001b[0;34m(\u001b[0m\u001b[0mself\u001b[0m\u001b[0;34m.\u001b[0m\u001b[0moutputs\u001b[0m\u001b[0;34m)\u001b[0m\u001b[0;34m]\u001b[0m\u001b[0;34m\u001b[0m\u001b[0m\n\u001b[1;32m   2484\u001b[0m \u001b[0;34m\u001b[0m\u001b[0m\n",
      "\u001b[0;32m/usr/local/lib/python3.6/dist-packages/tensorflow/python/client/session.py\u001b[0m in \u001b[0;36mrun\u001b[0;34m(self, fetches, feed_dict, options, run_metadata)\u001b[0m\n\u001b[1;32m    898\u001b[0m     \u001b[0;32mtry\u001b[0m\u001b[0;34m:\u001b[0m\u001b[0;34m\u001b[0m\u001b[0m\n\u001b[1;32m    899\u001b[0m       result = self._run(None, fetches, feed_dict, options_ptr,\n\u001b[0;32m--> 900\u001b[0;31m                          run_metadata_ptr)\n\u001b[0m\u001b[1;32m    901\u001b[0m       \u001b[0;32mif\u001b[0m \u001b[0mrun_metadata\u001b[0m\u001b[0;34m:\u001b[0m\u001b[0;34m\u001b[0m\u001b[0m\n\u001b[1;32m    902\u001b[0m         \u001b[0mproto_data\u001b[0m \u001b[0;34m=\u001b[0m \u001b[0mtf_session\u001b[0m\u001b[0;34m.\u001b[0m\u001b[0mTF_GetBuffer\u001b[0m\u001b[0;34m(\u001b[0m\u001b[0mrun_metadata_ptr\u001b[0m\u001b[0;34m)\u001b[0m\u001b[0;34m\u001b[0m\u001b[0m\n",
      "\u001b[0;32m/usr/local/lib/python3.6/dist-packages/tensorflow/python/client/session.py\u001b[0m in \u001b[0;36m_run\u001b[0;34m(self, handle, fetches, feed_dict, options, run_metadata)\u001b[0m\n\u001b[1;32m   1133\u001b[0m     \u001b[0;32mif\u001b[0m \u001b[0mfinal_fetches\u001b[0m \u001b[0;32mor\u001b[0m \u001b[0mfinal_targets\u001b[0m \u001b[0;32mor\u001b[0m \u001b[0;34m(\u001b[0m\u001b[0mhandle\u001b[0m \u001b[0;32mand\u001b[0m \u001b[0mfeed_dict_tensor\u001b[0m\u001b[0;34m)\u001b[0m\u001b[0;34m:\u001b[0m\u001b[0;34m\u001b[0m\u001b[0m\n\u001b[1;32m   1134\u001b[0m       results = self._do_run(handle, final_targets, final_fetches,\n\u001b[0;32m-> 1135\u001b[0;31m                              feed_dict_tensor, options, run_metadata)\n\u001b[0m\u001b[1;32m   1136\u001b[0m     \u001b[0;32melse\u001b[0m\u001b[0;34m:\u001b[0m\u001b[0;34m\u001b[0m\u001b[0m\n\u001b[1;32m   1137\u001b[0m       \u001b[0mresults\u001b[0m \u001b[0;34m=\u001b[0m \u001b[0;34m[\u001b[0m\u001b[0;34m]\u001b[0m\u001b[0;34m\u001b[0m\u001b[0m\n",
      "\u001b[0;32m/usr/local/lib/python3.6/dist-packages/tensorflow/python/client/session.py\u001b[0m in \u001b[0;36m_do_run\u001b[0;34m(self, handle, target_list, fetch_list, feed_dict, options, run_metadata)\u001b[0m\n\u001b[1;32m   1314\u001b[0m     \u001b[0;32mif\u001b[0m \u001b[0mhandle\u001b[0m \u001b[0;32mis\u001b[0m \u001b[0;32mNone\u001b[0m\u001b[0;34m:\u001b[0m\u001b[0;34m\u001b[0m\u001b[0m\n\u001b[1;32m   1315\u001b[0m       return self._do_call(_run_fn, feeds, fetches, targets, options,\n\u001b[0;32m-> 1316\u001b[0;31m                            run_metadata)\n\u001b[0m\u001b[1;32m   1317\u001b[0m     \u001b[0;32melse\u001b[0m\u001b[0;34m:\u001b[0m\u001b[0;34m\u001b[0m\u001b[0m\n\u001b[1;32m   1318\u001b[0m       \u001b[0;32mreturn\u001b[0m \u001b[0mself\u001b[0m\u001b[0;34m.\u001b[0m\u001b[0m_do_call\u001b[0m\u001b[0;34m(\u001b[0m\u001b[0m_prun_fn\u001b[0m\u001b[0;34m,\u001b[0m \u001b[0mhandle\u001b[0m\u001b[0;34m,\u001b[0m \u001b[0mfeeds\u001b[0m\u001b[0;34m,\u001b[0m \u001b[0mfetches\u001b[0m\u001b[0;34m)\u001b[0m\u001b[0;34m\u001b[0m\u001b[0m\n",
      "\u001b[0;32m/usr/local/lib/python3.6/dist-packages/tensorflow/python/client/session.py\u001b[0m in \u001b[0;36m_do_call\u001b[0;34m(self, fn, *args)\u001b[0m\n\u001b[1;32m   1320\u001b[0m   \u001b[0;32mdef\u001b[0m \u001b[0m_do_call\u001b[0m\u001b[0;34m(\u001b[0m\u001b[0mself\u001b[0m\u001b[0;34m,\u001b[0m \u001b[0mfn\u001b[0m\u001b[0;34m,\u001b[0m \u001b[0;34m*\u001b[0m\u001b[0margs\u001b[0m\u001b[0;34m)\u001b[0m\u001b[0;34m:\u001b[0m\u001b[0;34m\u001b[0m\u001b[0m\n\u001b[1;32m   1321\u001b[0m     \u001b[0;32mtry\u001b[0m\u001b[0;34m:\u001b[0m\u001b[0;34m\u001b[0m\u001b[0m\n\u001b[0;32m-> 1322\u001b[0;31m       \u001b[0;32mreturn\u001b[0m \u001b[0mfn\u001b[0m\u001b[0;34m(\u001b[0m\u001b[0;34m*\u001b[0m\u001b[0margs\u001b[0m\u001b[0;34m)\u001b[0m\u001b[0;34m\u001b[0m\u001b[0m\n\u001b[0m\u001b[1;32m   1323\u001b[0m     \u001b[0;32mexcept\u001b[0m \u001b[0merrors\u001b[0m\u001b[0;34m.\u001b[0m\u001b[0mOpError\u001b[0m \u001b[0;32mas\u001b[0m \u001b[0me\u001b[0m\u001b[0;34m:\u001b[0m\u001b[0;34m\u001b[0m\u001b[0m\n\u001b[1;32m   1324\u001b[0m       \u001b[0mmessage\u001b[0m \u001b[0;34m=\u001b[0m \u001b[0mcompat\u001b[0m\u001b[0;34m.\u001b[0m\u001b[0mas_text\u001b[0m\u001b[0;34m(\u001b[0m\u001b[0me\u001b[0m\u001b[0;34m.\u001b[0m\u001b[0mmessage\u001b[0m\u001b[0;34m)\u001b[0m\u001b[0;34m\u001b[0m\u001b[0m\n",
      "\u001b[0;32m/usr/local/lib/python3.6/dist-packages/tensorflow/python/client/session.py\u001b[0m in \u001b[0;36m_run_fn\u001b[0;34m(feed_dict, fetch_list, target_list, options, run_metadata)\u001b[0m\n\u001b[1;32m   1305\u001b[0m       \u001b[0mself\u001b[0m\u001b[0;34m.\u001b[0m\u001b[0m_extend_graph\u001b[0m\u001b[0;34m(\u001b[0m\u001b[0;34m)\u001b[0m\u001b[0;34m\u001b[0m\u001b[0m\n\u001b[1;32m   1306\u001b[0m       return self._call_tf_sessionrun(\n\u001b[0;32m-> 1307\u001b[0;31m           options, feed_dict, fetch_list, target_list, run_metadata)\n\u001b[0m\u001b[1;32m   1308\u001b[0m \u001b[0;34m\u001b[0m\u001b[0m\n\u001b[1;32m   1309\u001b[0m     \u001b[0;32mdef\u001b[0m \u001b[0m_prun_fn\u001b[0m\u001b[0;34m(\u001b[0m\u001b[0mhandle\u001b[0m\u001b[0;34m,\u001b[0m \u001b[0mfeed_dict\u001b[0m\u001b[0;34m,\u001b[0m \u001b[0mfetch_list\u001b[0m\u001b[0;34m)\u001b[0m\u001b[0;34m:\u001b[0m\u001b[0;34m\u001b[0m\u001b[0m\n",
      "\u001b[0;32m/usr/local/lib/python3.6/dist-packages/tensorflow/python/client/session.py\u001b[0m in \u001b[0;36m_call_tf_sessionrun\u001b[0;34m(self, options, feed_dict, fetch_list, target_list, run_metadata)\u001b[0m\n\u001b[1;32m   1407\u001b[0m       return tf_session.TF_SessionRun_wrapper(\n\u001b[1;32m   1408\u001b[0m           \u001b[0mself\u001b[0m\u001b[0;34m.\u001b[0m\u001b[0m_session\u001b[0m\u001b[0;34m,\u001b[0m \u001b[0moptions\u001b[0m\u001b[0;34m,\u001b[0m \u001b[0mfeed_dict\u001b[0m\u001b[0;34m,\u001b[0m \u001b[0mfetch_list\u001b[0m\u001b[0;34m,\u001b[0m \u001b[0mtarget_list\u001b[0m\u001b[0;34m,\u001b[0m\u001b[0;34m\u001b[0m\u001b[0m\n\u001b[0;32m-> 1409\u001b[0;31m           run_metadata)\n\u001b[0m\u001b[1;32m   1410\u001b[0m     \u001b[0;32melse\u001b[0m\u001b[0;34m:\u001b[0m\u001b[0;34m\u001b[0m\u001b[0m\n\u001b[1;32m   1411\u001b[0m       \u001b[0;32mwith\u001b[0m \u001b[0merrors\u001b[0m\u001b[0;34m.\u001b[0m\u001b[0mraise_exception_on_not_ok_status\u001b[0m\u001b[0;34m(\u001b[0m\u001b[0;34m)\u001b[0m \u001b[0;32mas\u001b[0m \u001b[0mstatus\u001b[0m\u001b[0;34m:\u001b[0m\u001b[0;34m\u001b[0m\u001b[0m\n",
      "\u001b[0;31mKeyboardInterrupt\u001b[0m: "
     ]
    }
   ],
   "source": [
    "model.fit(X_train, y_train, batch_size=128, epochs=200, verbose=1, validation_data=(X_test, y_test))"
   ]
  },
  {
   "cell_type": "code",
   "execution_count": null,
   "metadata": {},
   "outputs": [],
   "source": []
  }
 ],
 "metadata": {
  "celltoolbar": "Raw Cell Format",
  "kernelspec": {
   "display_name": "Python 3",
   "language": "python",
   "name": "python3"
  },
  "language_info": {
   "codemirror_mode": {
    "name": "ipython",
    "version": 3
   },
   "file_extension": ".py",
   "mimetype": "text/x-python",
   "name": "python",
   "nbconvert_exporter": "python",
   "pygments_lexer": "ipython3",
   "version": "3.6.5"
  }
 },
 "nbformat": 4,
 "nbformat_minor": 2
}
