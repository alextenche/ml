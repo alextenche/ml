{
 "cells": [
  {
   "cell_type": "code",
   "execution_count": 1,
   "metadata": {},
   "outputs": [],
   "source": [
    "import re\n",
    "import math\n",
    "import spacy\n",
    "import wikipedia\n",
    "\n",
    "from collections import Counter\n",
    "from spacy.matcher import Matcher"
   ]
  },
  {
   "cell_type": "code",
   "execution_count": 2,
   "metadata": {},
   "outputs": [],
   "source": [
    "nlp = spacy.load('en', disable=['parser', 'ner', 'textcat'])\n",
    "matched_phrases = []"
   ]
  },
  {
   "cell_type": "code",
   "execution_count": 3,
   "metadata": {},
   "outputs": [],
   "source": [
    "def collect_sents(matcher, doc, i, matches):\n",
    "    match_id, start, end = matches[i]\n",
    "    span = doc[start : end]\n",
    "    matched_phrases.append(span.lemma_)"
   ]
  },
  {
   "cell_type": "code",
   "execution_count": 4,
   "metadata": {},
   "outputs": [],
   "source": [
    "def extract_keywords_wikipedia(pagename, num_keywords):\n",
    "    global matched_phrases\n",
    "    page = wikipedia.page(pagename)\n",
    "    pagenlp = nlp(page.content)\n",
    "    matched_phrases = []\n",
    "    matches = matcher(pagenlp)\n",
    "    keywords = dict(Counter(matched_phrases).most_common(100))\n",
    "    keywords_cvalues = {}\n",
    "    for keyword in sorted(keywords.keys()):\n",
    "        parent_terms = list(filter(lambda t: t != keyword and re.match('\\\\b%s\\\\b' % keyword, t), keywords.keys()))\n",
    "        keywords_cvalues[keyword] = keywords[keyword]\n",
    "        for pt in parent_terms:\n",
    "            keywords_cvalues[keyword] -= float(keywords[pt])/float(len(parent_terms))\n",
    "        keywords_cvalues[keyword] *= 1 + math.log(len(keyword.split()), 2)\n",
    "    best_keywords = []\n",
    "    for keyword in sorted(keywords_cvalues, key=keywords_cvalues.get, reverse=True)[:num_keywords]:\n",
    "        best_keywords.append([keyword, keywords_cvalues[keyword]])\n",
    "    return best_keywords"
   ]
  },
  {
   "cell_type": "code",
   "execution_count": 5,
   "metadata": {},
   "outputs": [],
   "source": [
    "patterns = [[{'POS': 'NOUN', 'IS_ALPHA': True, 'IS_STOP': False, 'OP': '+'}]]\n",
    "matcher = Matcher(nlp.vocab)\n",
    "for pattern in patterns:\n",
    "    matcher.add('keyword', collect_sents, pattern)"
   ]
  },
  {
   "cell_type": "code",
   "execution_count": 6,
   "metadata": {},
   "outputs": [
    {
     "data": {
      "text/plain": [
       "[['city', 232.0],\n",
       " ['world', 79.0],\n",
       " ['population', 56.0],\n",
       " ['area', 52.0],\n",
       " ['system', 40.0],\n",
       " ['home', 37.0],\n",
       " ['park', 35.0],\n",
       " ['year', 28.0],\n",
       " ['center', 23.0],\n",
       " ['immigrant', 23.0]]"
      ]
     },
     "execution_count": 6,
     "metadata": {},
     "output_type": "execute_result"
    }
   ],
   "source": [
    "extract_keywords_wikipedia(\"New York City\", 10)"
   ]
  },
  {
   "cell_type": "code",
   "execution_count": 7,
   "metadata": {},
   "outputs": [
    {
     "data": {
      "text/plain": [
       "[['film', 41.0],\n",
       " ['car', 17.0],\n",
       " ['gang', 10.0],\n",
       " ['time', 8.0],\n",
       " ['vehicle', 8.0],\n",
       " ['week', 8.0],\n",
       " ['member', 7.0],\n",
       " ['scene', 7.0],\n",
       " ['budget', 6.0],\n",
       " ['production', 6.0]]"
      ]
     },
     "execution_count": 7,
     "metadata": {},
     "output_type": "execute_result"
    }
   ],
   "source": [
    "extract_keywords_wikipedia(\"Mad Max\", 10)"
   ]
  },
  {
   "cell_type": "code",
   "execution_count": 10,
   "metadata": {},
   "outputs": [
    {
     "data": {
      "text/plain": [
       "[['pc', 18.0],\n",
       " ['company', 17.0],\n",
       " ['computer', 17.0],\n",
       " ['series', 16.0],\n",
       " ['card', 12.0],\n",
       " ['monitor', 10.0],\n",
       " ['line', 9.0],\n",
       " ['product', 9.0],\n",
       " ['smartphone', 9.0],\n",
       " ['device', 8.0]]"
      ]
     },
     "execution_count": 10,
     "metadata": {},
     "output_type": "execute_result"
    }
   ],
   "source": [
    "extract_keywords_wikipedia(\"Asus\", 10)"
   ]
  },
  {
   "cell_type": "code",
   "execution_count": null,
   "metadata": {},
   "outputs": [],
   "source": []
  }
 ],
 "metadata": {
  "kernelspec": {
   "display_name": "Python 3",
   "language": "python",
   "name": "python3"
  },
  "language_info": {
   "codemirror_mode": {
    "name": "ipython",
    "version": 3
   },
   "file_extension": ".py",
   "mimetype": "text/x-python",
   "name": "python",
   "nbconvert_exporter": "python",
   "pygments_lexer": "ipython3",
   "version": "3.7.3"
  }
 },
 "nbformat": 4,
 "nbformat_minor": 2
}
