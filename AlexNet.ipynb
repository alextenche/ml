{
 "cells": [
  {
   "cell_type": "markdown",
   "metadata": {},
   "source": [
    "### classify oxford flowers"
   ]
  },
  {
   "cell_type": "code",
   "execution_count": 1,
   "metadata": {},
   "outputs": [],
   "source": [
    "import numpy as np\n",
    "np.random.seed(42)"
   ]
  },
  {
   "cell_type": "code",
   "execution_count": 2,
   "metadata": {},
   "outputs": [
    {
     "name": "stderr",
     "output_type": "stream",
     "text": [
      "/usr/local/lib/python3.6/dist-packages/h5py/__init__.py:36: FutureWarning: Conversion of the second argument of issubdtype from `float` to `np.floating` is deprecated. In future, it will be treated as `np.float64 == np.dtype(float).type`.\n",
      "  from ._conv import register_converters as _register_converters\n",
      "Using TensorFlow backend.\n"
     ]
    }
   ],
   "source": [
    "import keras\n",
    "from keras.models import Sequential\n",
    "from keras.layers import Dense, Dropout, Flatten, Conv2D, MaxPool2D\n",
    "from keras.layers.normalization import BatchNormalization"
   ]
  },
  {
   "cell_type": "markdown",
   "metadata": {},
   "source": [
    "### load and preprocess data"
   ]
  },
  {
   "cell_type": "code",
   "execution_count": 3,
   "metadata": {},
   "outputs": [],
   "source": [
    "import tflearn.datasets.oxflower17 as oxflower17"
   ]
  },
  {
   "cell_type": "code",
   "execution_count": 4,
   "metadata": {},
   "outputs": [],
   "source": [
    "X, y = oxflower17.load_data(one_hot=True)"
   ]
  },
  {
   "cell_type": "markdown",
   "metadata": {},
   "source": [
    "### design neural network"
   ]
  },
  {
   "cell_type": "code",
   "execution_count": 5,
   "metadata": {},
   "outputs": [],
   "source": [
    "model = Sequential()\n",
    "\n",
    "model.add(Conv2D(96, kernel_size=(11, 11), strides=(4, 4), activation='relu', input_shape=(224, 224, 3)))\n",
    "model.add(MaxPool2D(pool_size=(3, 3), strides=(2, 2)))\n",
    "model.add(BatchNormalization())\n",
    "\n",
    "model.add(Conv2D(256, kernel_size=(5, 5), activation='relu'))\n",
    "model.add(MaxPool2D(pool_size=(3, 3), strides=(2, 2)))\n",
    "model.add(BatchNormalization())\n",
    "\n",
    "model.add(Conv2D(256, kernel_size=(3, 3), activation='relu'))\n",
    "model.add(Conv2D(384, kernel_size=(3, 3), activation='relu'))\n",
    "model.add(Conv2D(384, kernel_size=(3, 3), activation='relu'))\n",
    "model.add(MaxPool2D(pool_size=(3, 3), strides=(2, 2)))\n",
    "model.add(BatchNormalization())\n",
    "\n",
    "model.add(Flatten())\n",
    "model.add(Dense(4096, activation='tanh'))\n",
    "model.add(Dropout(0.5))\n",
    "model.add(Dense(4096, activation='tanh'))\n",
    "model.add(Dropout(0.5))\n",
    "\n",
    "model.add(Dense(17, activation='softmax'))"
   ]
  },
  {
   "cell_type": "code",
   "execution_count": 6,
   "metadata": {},
   "outputs": [
    {
     "name": "stdout",
     "output_type": "stream",
     "text": [
      "_________________________________________________________________\n",
      "Layer (type)                 Output Shape              Param #   \n",
      "=================================================================\n",
      "conv2d_1 (Conv2D)            (None, 54, 54, 96)        34944     \n",
      "_________________________________________________________________\n",
      "max_pooling2d_1 (MaxPooling2 (None, 26, 26, 96)        0         \n",
      "_________________________________________________________________\n",
      "batch_normalization_1 (Batch (None, 26, 26, 96)        384       \n",
      "_________________________________________________________________\n",
      "conv2d_2 (Conv2D)            (None, 22, 22, 256)       614656    \n",
      "_________________________________________________________________\n",
      "max_pooling2d_2 (MaxPooling2 (None, 10, 10, 256)       0         \n",
      "_________________________________________________________________\n",
      "batch_normalization_2 (Batch (None, 10, 10, 256)       1024      \n",
      "_________________________________________________________________\n",
      "conv2d_3 (Conv2D)            (None, 8, 8, 256)         590080    \n",
      "_________________________________________________________________\n",
      "conv2d_4 (Conv2D)            (None, 6, 6, 384)         885120    \n",
      "_________________________________________________________________\n",
      "conv2d_5 (Conv2D)            (None, 4, 4, 384)         1327488   \n",
      "_________________________________________________________________\n",
      "max_pooling2d_3 (MaxPooling2 (None, 1, 1, 384)         0         \n",
      "_________________________________________________________________\n",
      "batch_normalization_3 (Batch (None, 1, 1, 384)         1536      \n",
      "_________________________________________________________________\n",
      "flatten_1 (Flatten)          (None, 384)               0         \n",
      "_________________________________________________________________\n",
      "dense_1 (Dense)              (None, 4096)              1576960   \n",
      "_________________________________________________________________\n",
      "dropout_1 (Dropout)          (None, 4096)              0         \n",
      "_________________________________________________________________\n",
      "dense_2 (Dense)              (None, 4096)              16781312  \n",
      "_________________________________________________________________\n",
      "dropout_2 (Dropout)          (None, 4096)              0         \n",
      "_________________________________________________________________\n",
      "dense_3 (Dense)              (None, 17)                69649     \n",
      "=================================================================\n",
      "Total params: 21,883,153\n",
      "Trainable params: 21,881,681\n",
      "Non-trainable params: 1,472\n",
      "_________________________________________________________________\n"
     ]
    }
   ],
   "source": [
    "model.summary()"
   ]
  },
  {
   "cell_type": "code",
   "execution_count": 7,
   "metadata": {},
   "outputs": [],
   "source": [
    "model.compile(loss='categorical_crossentropy',  optimizer='adam', metrics=['accuracy'])"
   ]
  },
  {
   "cell_type": "markdown",
   "metadata": {},
   "source": [
    "### train"
   ]
  },
  {
   "cell_type": "code",
   "execution_count": null,
   "metadata": {},
   "outputs": [
    {
     "name": "stdout",
     "output_type": "stream",
     "text": [
      "Train on 1224 samples, validate on 136 samples\n",
      "Epoch 1/100\n",
      "1224/1224 [==============================] - 4s 4ms/step - loss: 4.3934 - acc: 0.2279 - val_loss: 10.2990 - val_acc: 0.0956\n",
      "Epoch 2/100\n",
      "1224/1224 [==============================] - 2s 2ms/step - loss: 3.0913 - acc: 0.2917 - val_loss: 5.9573 - val_acc: 0.1912\n",
      "Epoch 3/100\n",
      "1224/1224 [==============================] - 2s 2ms/step - loss: 2.4773 - acc: 0.3685 - val_loss: 7.2804 - val_acc: 0.1618\n",
      "Epoch 4/100\n",
      "1224/1224 [==============================] - 2s 2ms/step - loss: 2.1699 - acc: 0.4134 - val_loss: 3.5867 - val_acc: 0.3676\n",
      "Epoch 5/100\n",
      "1224/1224 [==============================] - 2s 2ms/step - loss: 2.3218 - acc: 0.3848 - val_loss: 2.7839 - val_acc: 0.3309\n",
      "Epoch 6/100\n",
      "1224/1224 [==============================] - 2s 2ms/step - loss: 2.1187 - acc: 0.4191 - val_loss: 5.1387 - val_acc: 0.3088\n",
      "Epoch 7/100\n",
      "1224/1224 [==============================] - 2s 2ms/step - loss: 2.1864 - acc: 0.4338 - val_loss: 5.1511 - val_acc: 0.2500\n",
      "Epoch 8/100\n",
      "1224/1224 [==============================] - 2s 2ms/step - loss: 2.1640 - acc: 0.4600 - val_loss: 4.5863 - val_acc: 0.3971\n",
      "Epoch 9/100\n",
      "1224/1224 [==============================] - 2s 2ms/step - loss: 2.3192 - acc: 0.4183 - val_loss: 4.6834 - val_acc: 0.2647\n",
      "Epoch 10/100\n",
      "1224/1224 [==============================] - 2s 2ms/step - loss: 2.5143 - acc: 0.4020 - val_loss: 5.0966 - val_acc: 0.2426\n",
      "Epoch 11/100\n",
      "1224/1224 [==============================] - 2s 2ms/step - loss: 1.9819 - acc: 0.4518 - val_loss: 5.0908 - val_acc: 0.2721\n",
      "Epoch 12/100\n",
      "1224/1224 [==============================] - 2s 2ms/step - loss: 1.7432 - acc: 0.5025 - val_loss: 3.8436 - val_acc: 0.3603\n",
      "Epoch 13/100\n",
      "1224/1224 [==============================] - 2s 2ms/step - loss: 1.9055 - acc: 0.4975 - val_loss: 3.8101 - val_acc: 0.2941\n",
      "Epoch 14/100\n",
      "1224/1224 [==============================] - 2s 2ms/step - loss: 1.6945 - acc: 0.5041 - val_loss: 3.7978 - val_acc: 0.3309\n",
      "Epoch 15/100\n",
      "1224/1224 [==============================] - 2s 2ms/step - loss: 1.7164 - acc: 0.5392 - val_loss: 3.5194 - val_acc: 0.4044\n",
      "Epoch 16/100\n",
      "1224/1224 [==============================] - 2s 2ms/step - loss: 1.9274 - acc: 0.4788 - val_loss: 3.3695 - val_acc: 0.3750\n",
      "Epoch 17/100\n",
      "1224/1224 [==============================] - 2s 2ms/step - loss: 1.9668 - acc: 0.4812 - val_loss: 4.1267 - val_acc: 0.3971\n",
      "Epoch 18/100\n",
      "1224/1224 [==============================] - 2s 2ms/step - loss: 1.8894 - acc: 0.5139 - val_loss: 3.5808 - val_acc: 0.4044\n",
      "Epoch 19/100\n",
      "1224/1224 [==============================] - 2s 2ms/step - loss: 1.6502 - acc: 0.5384 - val_loss: 3.3096 - val_acc: 0.4338\n",
      "Epoch 20/100\n",
      "1224/1224 [==============================] - 2s 2ms/step - loss: 1.5529 - acc: 0.5547 - val_loss: 3.9847 - val_acc: 0.3750\n",
      "Epoch 21/100\n",
      "1224/1224 [==============================] - 2s 2ms/step - loss: 1.5850 - acc: 0.5752 - val_loss: 3.5508 - val_acc: 0.3897\n",
      "Epoch 22/100\n",
      "1224/1224 [==============================] - 2s 2ms/step - loss: 1.2544 - acc: 0.6373 - val_loss: 3.8642 - val_acc: 0.4044\n",
      "Epoch 23/100\n",
      "1224/1224 [==============================] - 2s 2ms/step - loss: 1.3515 - acc: 0.6487 - val_loss: 2.7449 - val_acc: 0.4632\n",
      "Epoch 24/100\n",
      "1224/1224 [==============================] - 2s 2ms/step - loss: 1.3481 - acc: 0.6176 - val_loss: 3.4526 - val_acc: 0.3897\n",
      "Epoch 25/100\n",
      "1224/1224 [==============================] - 2s 2ms/step - loss: 1.3501 - acc: 0.6520 - val_loss: 3.1401 - val_acc: 0.4706\n",
      "Epoch 26/100\n",
      "1224/1224 [==============================] - 2s 2ms/step - loss: 1.4346 - acc: 0.6364 - val_loss: 2.9887 - val_acc: 0.5368\n",
      "Epoch 27/100\n",
      "1224/1224 [==============================] - 2s 2ms/step - loss: 1.3779 - acc: 0.6381 - val_loss: 3.1023 - val_acc: 0.4044\n",
      "Epoch 28/100\n",
      "1224/1224 [==============================] - 2s 2ms/step - loss: 1.3675 - acc: 0.6266 - val_loss: 4.3557 - val_acc: 0.3971\n",
      "Epoch 29/100\n",
      "1224/1224 [==============================] - 2s 2ms/step - loss: 1.2101 - acc: 0.6593 - val_loss: 4.0445 - val_acc: 0.4118\n",
      "Epoch 30/100\n",
      "1224/1224 [==============================] - 2s 2ms/step - loss: 1.4324 - acc: 0.6275 - val_loss: 3.6508 - val_acc: 0.3971\n",
      "Epoch 31/100\n",
      "1224/1224 [==============================] - 2s 2ms/step - loss: 1.1482 - acc: 0.6528 - val_loss: 2.8165 - val_acc: 0.4485\n",
      "Epoch 32/100\n",
      "1224/1224 [==============================] - 2s 2ms/step - loss: 1.0061 - acc: 0.6928 - val_loss: 3.5236 - val_acc: 0.3897\n",
      "Epoch 33/100\n",
      "1224/1224 [==============================] - 2s 2ms/step - loss: 1.3255 - acc: 0.6724 - val_loss: 2.7137 - val_acc: 0.4853\n",
      "Epoch 34/100\n",
      "1224/1224 [==============================] - 2s 2ms/step - loss: 1.2781 - acc: 0.6757 - val_loss: 2.7960 - val_acc: 0.5441\n",
      "Epoch 35/100\n",
      "1224/1224 [==============================] - 2s 2ms/step - loss: 1.1491 - acc: 0.6887 - val_loss: 6.2935 - val_acc: 0.2574\n",
      "Epoch 36/100\n",
      "1224/1224 [==============================] - 2s 2ms/step - loss: 1.1330 - acc: 0.6846 - val_loss: 3.4774 - val_acc: 0.4706\n",
      "Epoch 37/100\n",
      "1224/1224 [==============================] - 2s 2ms/step - loss: 0.8442 - acc: 0.7361 - val_loss: 3.2156 - val_acc: 0.5147\n",
      "Epoch 38/100\n",
      "1224/1224 [==============================] - 2s 2ms/step - loss: 0.7719 - acc: 0.7721 - val_loss: 6.6563 - val_acc: 0.3382\n",
      "Epoch 39/100\n",
      "1224/1224 [==============================] - 2s 2ms/step - loss: 0.7951 - acc: 0.7680 - val_loss: 5.5715 - val_acc: 0.3088\n",
      "Epoch 40/100\n",
      "1224/1224 [==============================] - 2s 2ms/step - loss: 0.9368 - acc: 0.7533 - val_loss: 3.1048 - val_acc: 0.5147\n",
      "Epoch 41/100\n",
      "1224/1224 [==============================] - 2s 2ms/step - loss: 1.3076 - acc: 0.7124 - val_loss: 3.3426 - val_acc: 0.4779\n",
      "Epoch 42/100\n",
      "1224/1224 [==============================] - 2s 2ms/step - loss: 1.0694 - acc: 0.7173 - val_loss: 2.5554 - val_acc: 0.5368\n",
      "Epoch 43/100\n",
      "1224/1224 [==============================] - 2s 2ms/step - loss: 0.8599 - acc: 0.7508 - val_loss: 3.0339 - val_acc: 0.5000\n",
      "Epoch 44/100\n",
      "1224/1224 [==============================] - 2s 2ms/step - loss: 0.6181 - acc: 0.8072 - val_loss: 3.2169 - val_acc: 0.4926\n",
      "Epoch 45/100\n",
      "1224/1224 [==============================] - 2s 2ms/step - loss: 0.5549 - acc: 0.8342 - val_loss: 2.9191 - val_acc: 0.5588\n",
      "Epoch 46/100\n",
      "1224/1224 [==============================] - 2s 2ms/step - loss: 0.5463 - acc: 0.8399 - val_loss: 3.3438 - val_acc: 0.5074\n",
      "Epoch 47/100\n",
      "1224/1224 [==============================] - 2s 2ms/step - loss: 0.5475 - acc: 0.8350 - val_loss: 2.5146 - val_acc: 0.6029\n",
      "Epoch 48/100\n",
      "1224/1224 [==============================] - 2s 2ms/step - loss: 0.5039 - acc: 0.8431 - val_loss: 2.3117 - val_acc: 0.6176\n",
      "Epoch 49/100\n",
      "1224/1224 [==============================] - 2s 2ms/step - loss: 0.4092 - acc: 0.8791 - val_loss: 3.3192 - val_acc: 0.5588\n",
      "Epoch 50/100\n",
      "1224/1224 [==============================] - 2s 2ms/step - loss: 0.6858 - acc: 0.8268 - val_loss: 2.8523 - val_acc: 0.6103\n",
      "Epoch 51/100\n",
      "1224/1224 [==============================] - 2s 2ms/step - loss: 0.4871 - acc: 0.8619 - val_loss: 2.9391 - val_acc: 0.5735\n",
      "Epoch 52/100\n",
      "1224/1224 [==============================] - 2s 2ms/step - loss: 0.3495 - acc: 0.8938 - val_loss: 2.5001 - val_acc: 0.6397\n",
      "Epoch 53/100\n",
      "1224/1224 [==============================] - 2s 2ms/step - loss: 0.2617 - acc: 0.9150 - val_loss: 2.8750 - val_acc: 0.6250\n",
      "Epoch 54/100\n",
      "1224/1224 [==============================] - 2s 2ms/step - loss: 0.4585 - acc: 0.8701 - val_loss: 2.9305 - val_acc: 0.5588\n",
      "Epoch 55/100\n",
      "1224/1224 [==============================] - 2s 2ms/step - loss: 0.5514 - acc: 0.8562 - val_loss: 4.5817 - val_acc: 0.4191\n",
      "Epoch 56/100\n",
      "1224/1224 [==============================] - 2s 2ms/step - loss: 0.4233 - acc: 0.8734 - val_loss: 3.8233 - val_acc: 0.5147\n",
      "Epoch 57/100\n",
      "1224/1224 [==============================] - 2s 2ms/step - loss: 0.4293 - acc: 0.8881 - val_loss: 2.9232 - val_acc: 0.5956\n",
      "Epoch 58/100\n",
      "1224/1224 [==============================] - 2s 2ms/step - loss: 0.3548 - acc: 0.8971 - val_loss: 2.4802 - val_acc: 0.6029\n",
      "Epoch 59/100\n",
      "1224/1224 [==============================] - 2s 2ms/step - loss: 0.2919 - acc: 0.9093 - val_loss: 2.5372 - val_acc: 0.6029\n",
      "Epoch 60/100\n",
      "1224/1224 [==============================] - 2s 2ms/step - loss: 0.4456 - acc: 0.8815 - val_loss: 2.6989 - val_acc: 0.6176\n"
     ]
    },
    {
     "name": "stdout",
     "output_type": "stream",
     "text": [
      "Epoch 61/100\n",
      "1224/1224 [==============================] - 2s 2ms/step - loss: 0.4282 - acc: 0.8783 - val_loss: 2.8908 - val_acc: 0.5882\n",
      "Epoch 62/100\n",
      "1224/1224 [==============================] - 2s 2ms/step - loss: 0.2731 - acc: 0.9232 - val_loss: 2.5501 - val_acc: 0.6176\n",
      "Epoch 63/100\n",
      "1224/1224 [==============================] - 2s 2ms/step - loss: 0.4605 - acc: 0.8840 - val_loss: 2.7280 - val_acc: 0.6250\n",
      "Epoch 64/100\n",
      "1224/1224 [==============================] - 2s 2ms/step - loss: 0.2130 - acc: 0.9265 - val_loss: 2.9554 - val_acc: 0.6029\n",
      "Epoch 65/100\n",
      "1224/1224 [==============================] - 2s 2ms/step - loss: 0.4704 - acc: 0.9011 - val_loss: 3.0526 - val_acc: 0.5882\n",
      "Epoch 66/100\n",
      "1224/1224 [==============================] - 2s 2ms/step - loss: 0.3498 - acc: 0.9077 - val_loss: 3.8409 - val_acc: 0.5882\n",
      "Epoch 67/100\n",
      "1224/1224 [==============================] - 2s 2ms/step - loss: 0.2729 - acc: 0.9150 - val_loss: 3.1129 - val_acc: 0.6250\n",
      "Epoch 68/100\n",
      "1224/1224 [==============================] - 2s 2ms/step - loss: 0.2215 - acc: 0.9355 - val_loss: 3.1514 - val_acc: 0.6250\n",
      "Epoch 69/100\n",
      "1224/1224 [==============================] - 2s 2ms/step - loss: 0.2745 - acc: 0.9338 - val_loss: 3.3094 - val_acc: 0.6103\n",
      "Epoch 70/100\n",
      "1224/1224 [==============================] - 2s 2ms/step - loss: 0.1760 - acc: 0.9477 - val_loss: 2.6995 - val_acc: 0.6471\n",
      "Epoch 71/100\n",
      "1224/1224 [==============================] - 2s 2ms/step - loss: 0.1110 - acc: 0.9632 - val_loss: 2.7033 - val_acc: 0.6691\n",
      "Epoch 72/100\n",
      "1224/1224 [==============================] - 2s 2ms/step - loss: 0.2330 - acc: 0.9387 - val_loss: 3.0491 - val_acc: 0.5515\n",
      "Epoch 73/100\n",
      "1224/1224 [==============================] - 2s 2ms/step - loss: 0.3714 - acc: 0.9248 - val_loss: 3.9969 - val_acc: 0.5441\n",
      "Epoch 74/100\n",
      "1224/1224 [==============================] - 2s 2ms/step - loss: 0.3369 - acc: 0.9191 - val_loss: 2.6494 - val_acc: 0.5956\n",
      "Epoch 75/100\n",
      "1224/1224 [==============================] - 2s 2ms/step - loss: 0.1818 - acc: 0.9485 - val_loss: 2.9001 - val_acc: 0.5956\n",
      "Epoch 76/100\n",
      " 768/1224 [=================>............] - ETA: 0s - loss: 0.2329 - acc: 0.9375"
     ]
    }
   ],
   "source": [
    "model.fit(X, y, batch_size=64, epochs=100, verbose=1, validation_split=0.1, shuffle=True)"
   ]
  }
 ],
 "metadata": {
  "kernelspec": {
   "display_name": "Python 3",
   "language": "python",
   "name": "python3"
  },
  "language_info": {
   "codemirror_mode": {
    "name": "ipython",
    "version": 3
   },
   "file_extension": ".py",
   "mimetype": "text/x-python",
   "name": "python",
   "nbconvert_exporter": "python",
   "pygments_lexer": "ipython3",
   "version": "3.6.5"
  }
 },
 "nbformat": 4,
 "nbformat_minor": 2
}
