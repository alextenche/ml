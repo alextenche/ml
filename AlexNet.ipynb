{
 "cells": [
  {
   "cell_type": "markdown",
   "metadata": {},
   "source": [
    "### classify oxford flowers with AlexNet"
   ]
  },
  {
   "cell_type": "code",
   "execution_count": 1,
   "metadata": {},
   "outputs": [],
   "source": [
    "import numpy as np\n",
    "np.random.seed(42)"
   ]
  },
  {
   "cell_type": "code",
   "execution_count": 2,
   "metadata": {},
   "outputs": [
    {
     "name": "stderr",
     "output_type": "stream",
     "text": [
      "/usr/local/lib/python3.6/dist-packages/h5py/__init__.py:36: FutureWarning: Conversion of the second argument of issubdtype from `float` to `np.floating` is deprecated. In future, it will be treated as `np.float64 == np.dtype(float).type`.\n",
      "  from ._conv import register_converters as _register_converters\n",
      "Using TensorFlow backend.\n"
     ]
    }
   ],
   "source": [
    "import keras\n",
    "from keras.models import Sequential\n",
    "from keras.layers import Dense, Dropout, Flatten, Conv2D, MaxPool2D\n",
    "from keras.layers.normalization import BatchNormalization\n",
    "from keras.callbacks import TensorBoard"
   ]
  },
  {
   "cell_type": "markdown",
   "metadata": {},
   "source": [
    "### load and preprocess data"
   ]
  },
  {
   "cell_type": "code",
   "execution_count": 3,
   "metadata": {},
   "outputs": [],
   "source": [
    "import tflearn.datasets.oxflower17 as oxflower17"
   ]
  },
  {
   "cell_type": "code",
   "execution_count": 4,
   "metadata": {},
   "outputs": [],
   "source": [
    "X, y = oxflower17.load_data(one_hot=True)"
   ]
  },
  {
   "cell_type": "markdown",
   "metadata": {},
   "source": [
    "### design neural network"
   ]
  },
  {
   "cell_type": "code",
   "execution_count": 5,
   "metadata": {},
   "outputs": [],
   "source": [
    "model = Sequential()\n",
    "\n",
    "model.add(Conv2D(96, kernel_size=(11, 11), strides=(4, 4), activation='relu', input_shape=(224, 224, 3)))\n",
    "model.add(MaxPool2D(pool_size=(3, 3), strides=(2, 2)))\n",
    "model.add(BatchNormalization())\n",
    "\n",
    "model.add(Conv2D(256, kernel_size=(5, 5), activation='relu'))\n",
    "model.add(MaxPool2D(pool_size=(3, 3), strides=(2, 2)))\n",
    "model.add(BatchNormalization())\n",
    "\n",
    "model.add(Conv2D(256, kernel_size=(3, 3), activation='relu'))\n",
    "model.add(Conv2D(384, kernel_size=(3, 3), activation='relu'))\n",
    "model.add(Conv2D(384, kernel_size=(3, 3), activation='relu'))\n",
    "model.add(MaxPool2D(pool_size=(3, 3), strides=(2, 2)))\n",
    "model.add(BatchNormalization())\n",
    "\n",
    "model.add(Flatten())\n",
    "model.add(Dense(4096, activation='tanh'))\n",
    "model.add(Dropout(0.5))\n",
    "model.add(Dense(4096, activation='tanh'))\n",
    "model.add(Dropout(0.5))\n",
    "\n",
    "model.add(Dense(17, activation='softmax'))"
   ]
  },
  {
   "cell_type": "code",
   "execution_count": 6,
   "metadata": {},
   "outputs": [
    {
     "name": "stdout",
     "output_type": "stream",
     "text": [
      "_________________________________________________________________\n",
      "Layer (type)                 Output Shape              Param #   \n",
      "=================================================================\n",
      "conv2d_1 (Conv2D)            (None, 54, 54, 96)        34944     \n",
      "_________________________________________________________________\n",
      "max_pooling2d_1 (MaxPooling2 (None, 26, 26, 96)        0         \n",
      "_________________________________________________________________\n",
      "batch_normalization_1 (Batch (None, 26, 26, 96)        384       \n",
      "_________________________________________________________________\n",
      "conv2d_2 (Conv2D)            (None, 22, 22, 256)       614656    \n",
      "_________________________________________________________________\n",
      "max_pooling2d_2 (MaxPooling2 (None, 10, 10, 256)       0         \n",
      "_________________________________________________________________\n",
      "batch_normalization_2 (Batch (None, 10, 10, 256)       1024      \n",
      "_________________________________________________________________\n",
      "conv2d_3 (Conv2D)            (None, 8, 8, 256)         590080    \n",
      "_________________________________________________________________\n",
      "conv2d_4 (Conv2D)            (None, 6, 6, 384)         885120    \n",
      "_________________________________________________________________\n",
      "conv2d_5 (Conv2D)            (None, 4, 4, 384)         1327488   \n",
      "_________________________________________________________________\n",
      "max_pooling2d_3 (MaxPooling2 (None, 1, 1, 384)         0         \n",
      "_________________________________________________________________\n",
      "batch_normalization_3 (Batch (None, 1, 1, 384)         1536      \n",
      "_________________________________________________________________\n",
      "flatten_1 (Flatten)          (None, 384)               0         \n",
      "_________________________________________________________________\n",
      "dense_1 (Dense)              (None, 4096)              1576960   \n",
      "_________________________________________________________________\n",
      "dropout_1 (Dropout)          (None, 4096)              0         \n",
      "_________________________________________________________________\n",
      "dense_2 (Dense)              (None, 4096)              16781312  \n",
      "_________________________________________________________________\n",
      "dropout_2 (Dropout)          (None, 4096)              0         \n",
      "_________________________________________________________________\n",
      "dense_3 (Dense)              (None, 17)                69649     \n",
      "=================================================================\n",
      "Total params: 21,883,153\n",
      "Trainable params: 21,881,681\n",
      "Non-trainable params: 1,472\n",
      "_________________________________________________________________\n"
     ]
    }
   ],
   "source": [
    "model.summary()"
   ]
  },
  {
   "cell_type": "code",
   "execution_count": 7,
   "metadata": {},
   "outputs": [],
   "source": [
    "model.compile(loss='categorical_crossentropy',  optimizer='adam', metrics=['accuracy'])"
   ]
  },
  {
   "cell_type": "markdown",
   "metadata": {},
   "source": [
    "### configure tensorboard"
   ]
  },
  {
   "cell_type": "code",
   "execution_count": 8,
   "metadata": {},
   "outputs": [],
   "source": [
    "tensorboard = TensorBoard(log_dir='./logs/alexnet')"
   ]
  },
  {
   "cell_type": "markdown",
   "metadata": {},
   "source": [
    "### train"
   ]
  },
  {
   "cell_type": "code",
   "execution_count": 9,
   "metadata": {},
   "outputs": [
    {
     "name": "stdout",
     "output_type": "stream",
     "text": [
      "Train on 1224 samples, validate on 136 samples\n",
      "Epoch 1/100\n",
      "1224/1224 [==============================] - 4s 3ms/step - loss: 4.5451 - acc: 0.2369 - val_loss: 9.4702 - val_acc: 0.0956\n",
      "Epoch 2/100\n",
      "1224/1224 [==============================] - 2s 2ms/step - loss: 3.0309 - acc: 0.3113 - val_loss: 4.8797 - val_acc: 0.1324\n",
      "Epoch 3/100\n",
      "1224/1224 [==============================] - 2s 2ms/step - loss: 2.6065 - acc: 0.3194 - val_loss: 4.1767 - val_acc: 0.2059\n",
      "Epoch 4/100\n",
      "1224/1224 [==============================] - 2s 2ms/step - loss: 2.2432 - acc: 0.3938 - val_loss: 3.8500 - val_acc: 0.2279\n",
      "Epoch 5/100\n",
      "1224/1224 [==============================] - 2s 2ms/step - loss: 2.4091 - acc: 0.3701 - val_loss: 2.9888 - val_acc: 0.3235\n",
      "Epoch 6/100\n",
      "1224/1224 [==============================] - 2s 2ms/step - loss: 2.0813 - acc: 0.4142 - val_loss: 3.6563 - val_acc: 0.3382\n",
      "Epoch 7/100\n",
      "1224/1224 [==============================] - 2s 2ms/step - loss: 2.0995 - acc: 0.4477 - val_loss: 3.1406 - val_acc: 0.4338\n",
      "Epoch 8/100\n",
      "1224/1224 [==============================] - 2s 2ms/step - loss: 2.2833 - acc: 0.4281 - val_loss: 4.3548 - val_acc: 0.3235\n",
      "Epoch 9/100\n",
      "1224/1224 [==============================] - 2s 2ms/step - loss: 2.3989 - acc: 0.4175 - val_loss: 3.4652 - val_acc: 0.3088\n",
      "Epoch 10/100\n",
      "1224/1224 [==============================] - 2s 2ms/step - loss: 2.2753 - acc: 0.4167 - val_loss: 3.4556 - val_acc: 0.2721\n",
      "Epoch 11/100\n",
      "1224/1224 [==============================] - 2s 2ms/step - loss: 2.0411 - acc: 0.4469 - val_loss: 3.8642 - val_acc: 0.3382\n",
      "Epoch 12/100\n",
      "1224/1224 [==============================] - 2s 2ms/step - loss: 1.9629 - acc: 0.4902 - val_loss: 3.9742 - val_acc: 0.3529\n",
      "Epoch 13/100\n",
      "1224/1224 [==============================] - 2s 2ms/step - loss: 1.6416 - acc: 0.5343 - val_loss: 3.5350 - val_acc: 0.4632\n",
      "Epoch 14/100\n",
      "1224/1224 [==============================] - 2s 2ms/step - loss: 1.4936 - acc: 0.5784 - val_loss: 3.4705 - val_acc: 0.4779\n",
      "Epoch 15/100\n",
      "1224/1224 [==============================] - 2s 2ms/step - loss: 1.7175 - acc: 0.5253 - val_loss: 3.3764 - val_acc: 0.4559\n",
      "Epoch 16/100\n",
      "1224/1224 [==============================] - 2s 2ms/step - loss: 1.5991 - acc: 0.5629 - val_loss: 4.4399 - val_acc: 0.3897\n",
      "Epoch 17/100\n",
      "1224/1224 [==============================] - 2s 2ms/step - loss: 1.7543 - acc: 0.5539 - val_loss: 3.0005 - val_acc: 0.4853\n",
      "Epoch 18/100\n",
      "1224/1224 [==============================] - 2s 2ms/step - loss: 1.8164 - acc: 0.5319 - val_loss: 3.1595 - val_acc: 0.3750\n",
      "Epoch 19/100\n",
      "1224/1224 [==============================] - 2s 2ms/step - loss: 1.7284 - acc: 0.5466 - val_loss: 4.5507 - val_acc: 0.2868\n",
      "Epoch 20/100\n",
      "1224/1224 [==============================] - 2s 2ms/step - loss: 1.5580 - acc: 0.5572 - val_loss: 4.8090 - val_acc: 0.4044\n",
      "Epoch 21/100\n",
      "1224/1224 [==============================] - 2s 2ms/step - loss: 1.5373 - acc: 0.5882 - val_loss: 4.4141 - val_acc: 0.3897\n",
      "Epoch 22/100\n",
      "1224/1224 [==============================] - 2s 2ms/step - loss: 1.2762 - acc: 0.6454 - val_loss: 5.2025 - val_acc: 0.3235\n",
      "Epoch 23/100\n",
      "1224/1224 [==============================] - 2s 2ms/step - loss: 1.2342 - acc: 0.6601 - val_loss: 3.9235 - val_acc: 0.3971\n",
      "Epoch 24/100\n",
      "1224/1224 [==============================] - 2s 2ms/step - loss: 1.2390 - acc: 0.6430 - val_loss: 3.2892 - val_acc: 0.4926\n",
      "Epoch 25/100\n",
      "1224/1224 [==============================] - 2s 2ms/step - loss: 1.4478 - acc: 0.6373 - val_loss: 3.5251 - val_acc: 0.4338\n",
      "Epoch 26/100\n",
      "1224/1224 [==============================] - 2s 2ms/step - loss: 1.5250 - acc: 0.6078 - val_loss: 3.8297 - val_acc: 0.3015\n",
      "Epoch 27/100\n",
      "1224/1224 [==============================] - 2s 2ms/step - loss: 1.2530 - acc: 0.6462 - val_loss: 4.3189 - val_acc: 0.3456\n",
      "Epoch 28/100\n",
      "1224/1224 [==============================] - 2s 2ms/step - loss: 1.1309 - acc: 0.6977 - val_loss: 4.7821 - val_acc: 0.3382\n",
      "Epoch 29/100\n",
      "1224/1224 [==============================] - 2s 2ms/step - loss: 1.1943 - acc: 0.6699 - val_loss: 3.6323 - val_acc: 0.3824\n",
      "Epoch 30/100\n",
      "1224/1224 [==============================] - 2s 2ms/step - loss: 2.3302 - acc: 0.4534 - val_loss: 4.0747 - val_acc: 0.2279\n",
      "Epoch 31/100\n",
      "1224/1224 [==============================] - 2s 2ms/step - loss: 1.8319 - acc: 0.4788 - val_loss: 5.6089 - val_acc: 0.2426\n",
      "Epoch 32/100\n",
      "1224/1224 [==============================] - 2s 2ms/step - loss: 1.7694 - acc: 0.5261 - val_loss: 3.9468 - val_acc: 0.3897\n",
      "Epoch 33/100\n",
      "1224/1224 [==============================] - 2s 2ms/step - loss: 1.7324 - acc: 0.5596 - val_loss: 5.6110 - val_acc: 0.2279\n",
      "Epoch 34/100\n",
      "1224/1224 [==============================] - 2s 2ms/step - loss: 1.4069 - acc: 0.6176 - val_loss: 2.9364 - val_acc: 0.3897\n",
      "Epoch 35/100\n",
      "1224/1224 [==============================] - 2s 2ms/step - loss: 1.2829 - acc: 0.6291 - val_loss: 3.5849 - val_acc: 0.3971\n",
      "Epoch 36/100\n",
      "1224/1224 [==============================] - 2s 2ms/step - loss: 1.1513 - acc: 0.6609 - val_loss: 2.6439 - val_acc: 0.5441\n",
      "Epoch 37/100\n",
      "1224/1224 [==============================] - 2s 2ms/step - loss: 1.2639 - acc: 0.6609 - val_loss: 2.2662 - val_acc: 0.5588\n",
      "Epoch 38/100\n",
      "1224/1224 [==============================] - 2s 2ms/step - loss: 1.0777 - acc: 0.6830 - val_loss: 2.6396 - val_acc: 0.5515\n",
      "Epoch 39/100\n",
      "1224/1224 [==============================] - 2s 2ms/step - loss: 1.1272 - acc: 0.6765 - val_loss: 2.9349 - val_acc: 0.4706\n",
      "Epoch 40/100\n",
      "1224/1224 [==============================] - 2s 2ms/step - loss: 1.0471 - acc: 0.7018 - val_loss: 3.2463 - val_acc: 0.5000\n",
      "Epoch 41/100\n",
      "1224/1224 [==============================] - 2s 2ms/step - loss: 1.1248 - acc: 0.7116 - val_loss: 5.2633 - val_acc: 0.3088\n",
      "Epoch 42/100\n",
      "1224/1224 [==============================] - 2s 2ms/step - loss: 0.9266 - acc: 0.7304 - val_loss: 2.4485 - val_acc: 0.5882\n",
      "Epoch 43/100\n",
      "1224/1224 [==============================] - 2s 2ms/step - loss: 0.9189 - acc: 0.7337 - val_loss: 2.4749 - val_acc: 0.5882\n",
      "Epoch 44/100\n",
      "1224/1224 [==============================] - 2s 2ms/step - loss: 0.8271 - acc: 0.7647 - val_loss: 2.9956 - val_acc: 0.5000\n",
      "Epoch 45/100\n",
      "1224/1224 [==============================] - 2s 2ms/step - loss: 0.8347 - acc: 0.7753 - val_loss: 3.3707 - val_acc: 0.5294\n",
      "Epoch 46/100\n",
      "1224/1224 [==============================] - 2s 2ms/step - loss: 0.6992 - acc: 0.7990 - val_loss: 3.6097 - val_acc: 0.5147\n",
      "Epoch 47/100\n",
      "1224/1224 [==============================] - 2s 2ms/step - loss: 0.5563 - acc: 0.8268 - val_loss: 2.8855 - val_acc: 0.4926\n",
      "Epoch 48/100\n",
      "1224/1224 [==============================] - 2s 2ms/step - loss: 0.5265 - acc: 0.8505 - val_loss: 2.1618 - val_acc: 0.6250\n",
      "Epoch 49/100\n",
      "1224/1224 [==============================] - 2s 2ms/step - loss: 0.4435 - acc: 0.8603 - val_loss: 3.5263 - val_acc: 0.5441\n",
      "Epoch 50/100\n",
      "1224/1224 [==============================] - 2s 2ms/step - loss: 0.9438 - acc: 0.7761 - val_loss: 2.3337 - val_acc: 0.5956\n",
      "Epoch 51/100\n",
      "1224/1224 [==============================] - 2s 2ms/step - loss: 0.6118 - acc: 0.8080 - val_loss: 2.1295 - val_acc: 0.6471\n",
      "Epoch 52/100\n",
      "1224/1224 [==============================] - 2s 2ms/step - loss: 0.4257 - acc: 0.8562 - val_loss: 2.6303 - val_acc: 0.6103\n",
      "Epoch 53/100\n",
      "1224/1224 [==============================] - 2s 2ms/step - loss: 0.3908 - acc: 0.8791 - val_loss: 4.4498 - val_acc: 0.3971\n",
      "Epoch 54/100\n",
      "1224/1224 [==============================] - 2s 2ms/step - loss: 0.4172 - acc: 0.8701 - val_loss: 3.7267 - val_acc: 0.5294\n",
      "Epoch 55/100\n",
      "1224/1224 [==============================] - 2s 2ms/step - loss: 0.4001 - acc: 0.8848 - val_loss: 3.1310 - val_acc: 0.5809\n",
      "Epoch 56/100\n",
      "1224/1224 [==============================] - 2s 2ms/step - loss: 0.3734 - acc: 0.8807 - val_loss: 2.7990 - val_acc: 0.5882\n",
      "Epoch 57/100\n",
      "1224/1224 [==============================] - 2s 2ms/step - loss: 0.6278 - acc: 0.8374 - val_loss: 3.5289 - val_acc: 0.5441\n",
      "Epoch 58/100\n",
      "1224/1224 [==============================] - 2s 2ms/step - loss: 0.3954 - acc: 0.8758 - val_loss: 2.2230 - val_acc: 0.6691\n",
      "Epoch 59/100\n",
      "1224/1224 [==============================] - 2s 2ms/step - loss: 0.4536 - acc: 0.8701 - val_loss: 2.1070 - val_acc: 0.6838\n",
      "Epoch 60/100\n",
      "1224/1224 [==============================] - 2s 2ms/step - loss: 0.5320 - acc: 0.8489 - val_loss: 3.6161 - val_acc: 0.5588\n"
     ]
    },
    {
     "name": "stdout",
     "output_type": "stream",
     "text": [
      "Epoch 61/100\n",
      "1224/1224 [==============================] - 2s 2ms/step - loss: 0.7423 - acc: 0.8333 - val_loss: 3.0526 - val_acc: 0.5588\n",
      "Epoch 62/100\n",
      "1224/1224 [==============================] - 2s 2ms/step - loss: 0.3198 - acc: 0.9060 - val_loss: 2.7243 - val_acc: 0.5882\n",
      "Epoch 63/100\n",
      "1224/1224 [==============================] - 2s 2ms/step - loss: 0.2392 - acc: 0.9248 - val_loss: 2.6548 - val_acc: 0.6176\n",
      "Epoch 64/100\n",
      "1224/1224 [==============================] - 2s 2ms/step - loss: 0.2535 - acc: 0.9224 - val_loss: 2.6686 - val_acc: 0.6618\n",
      "Epoch 65/100\n",
      "1224/1224 [==============================] - 2s 2ms/step - loss: 0.3343 - acc: 0.9118 - val_loss: 2.6757 - val_acc: 0.6471\n",
      "Epoch 66/100\n",
      "1224/1224 [==============================] - 2s 2ms/step - loss: 0.1959 - acc: 0.9395 - val_loss: 3.1509 - val_acc: 0.6103\n",
      "Epoch 67/100\n",
      "1224/1224 [==============================] - 2s 2ms/step - loss: 0.2503 - acc: 0.9273 - val_loss: 2.7916 - val_acc: 0.6618\n",
      "Epoch 68/100\n",
      "1224/1224 [==============================] - 2s 2ms/step - loss: 0.2381 - acc: 0.9248 - val_loss: 3.3440 - val_acc: 0.5956\n",
      "Epoch 69/100\n",
      "1224/1224 [==============================] - 2s 2ms/step - loss: 0.2342 - acc: 0.9273 - val_loss: 2.8275 - val_acc: 0.6765\n",
      "Epoch 70/100\n",
      "1224/1224 [==============================] - 2s 2ms/step - loss: 0.2831 - acc: 0.9158 - val_loss: 3.1760 - val_acc: 0.6029\n",
      "Epoch 71/100\n",
      "1224/1224 [==============================] - 2s 2ms/step - loss: 0.2209 - acc: 0.9322 - val_loss: 3.9290 - val_acc: 0.5662\n",
      "Epoch 72/100\n",
      "1224/1224 [==============================] - 2s 2ms/step - loss: 0.1565 - acc: 0.9502 - val_loss: 2.9582 - val_acc: 0.6176\n",
      "Epoch 73/100\n",
      "1224/1224 [==============================] - 2s 2ms/step - loss: 0.1760 - acc: 0.9493 - val_loss: 2.9774 - val_acc: 0.6324\n",
      "Epoch 74/100\n",
      "1224/1224 [==============================] - 2s 2ms/step - loss: 0.3057 - acc: 0.9158 - val_loss: 3.4210 - val_acc: 0.5882\n",
      "Epoch 75/100\n",
      "1224/1224 [==============================] - 2s 2ms/step - loss: 0.1901 - acc: 0.9469 - val_loss: 3.3694 - val_acc: 0.5882\n",
      "Epoch 76/100\n",
      "1224/1224 [==============================] - 2s 2ms/step - loss: 0.2670 - acc: 0.9355 - val_loss: 3.0180 - val_acc: 0.6176\n",
      "Epoch 77/100\n",
      "1224/1224 [==============================] - 2s 2ms/step - loss: 0.2803 - acc: 0.9281 - val_loss: 2.9600 - val_acc: 0.6618\n",
      "Epoch 78/100\n",
      "1224/1224 [==============================] - 2s 2ms/step - loss: 0.4697 - acc: 0.8848 - val_loss: 3.6292 - val_acc: 0.5735\n",
      "Epoch 79/100\n",
      "1224/1224 [==============================] - 2s 2ms/step - loss: 0.5633 - acc: 0.8725 - val_loss: 2.8980 - val_acc: 0.5956\n",
      "Epoch 80/100\n",
      "1224/1224 [==============================] - 2s 2ms/step - loss: 0.5935 - acc: 0.8505 - val_loss: 3.4379 - val_acc: 0.5515\n",
      "Epoch 81/100\n",
      "1224/1224 [==============================] - 2s 2ms/step - loss: 0.3632 - acc: 0.8946 - val_loss: 3.4657 - val_acc: 0.5515\n",
      "Epoch 82/100\n",
      "1224/1224 [==============================] - 2s 2ms/step - loss: 0.2078 - acc: 0.9306 - val_loss: 4.0920 - val_acc: 0.5662\n",
      "Epoch 83/100\n",
      "1224/1224 [==============================] - 2s 2ms/step - loss: 0.1339 - acc: 0.9583 - val_loss: 2.9996 - val_acc: 0.6397\n",
      "Epoch 84/100\n",
      "1224/1224 [==============================] - 2s 2ms/step - loss: 0.0734 - acc: 0.9763 - val_loss: 2.6822 - val_acc: 0.7132\n",
      "Epoch 85/100\n",
      "1224/1224 [==============================] - 2s 2ms/step - loss: 0.0406 - acc: 0.9869 - val_loss: 2.8418 - val_acc: 0.6397\n",
      "Epoch 86/100\n",
      "1224/1224 [==============================] - 2s 2ms/step - loss: 0.0334 - acc: 0.9845 - val_loss: 2.7362 - val_acc: 0.6691\n",
      "Epoch 87/100\n",
      "1224/1224 [==============================] - 2s 2ms/step - loss: 0.1297 - acc: 0.9673 - val_loss: 2.8170 - val_acc: 0.6471\n",
      "Epoch 88/100\n",
      "1224/1224 [==============================] - 2s 2ms/step - loss: 0.0364 - acc: 0.9861 - val_loss: 3.1918 - val_acc: 0.6176\n",
      "Epoch 89/100\n",
      "1224/1224 [==============================] - 2s 2ms/step - loss: 0.1452 - acc: 0.9616 - val_loss: 2.8723 - val_acc: 0.6397\n",
      "Epoch 90/100\n",
      "1224/1224 [==============================] - 2s 2ms/step - loss: 0.2312 - acc: 0.9542 - val_loss: 2.9674 - val_acc: 0.6471\n",
      "Epoch 91/100\n",
      "1224/1224 [==============================] - 2s 2ms/step - loss: 0.3253 - acc: 0.9322 - val_loss: 3.1543 - val_acc: 0.6029\n",
      "Epoch 92/100\n",
      "1224/1224 [==============================] - 2s 2ms/step - loss: 0.2092 - acc: 0.9436 - val_loss: 3.8645 - val_acc: 0.5441\n",
      "Epoch 93/100\n",
      "1224/1224 [==============================] - 2s 2ms/step - loss: 0.5504 - acc: 0.8938 - val_loss: 3.5027 - val_acc: 0.5735\n",
      "Epoch 94/100\n",
      "1224/1224 [==============================] - 2s 2ms/step - loss: 0.7420 - acc: 0.8342 - val_loss: 7.4786 - val_acc: 0.2426\n",
      "Epoch 95/100\n",
      "1224/1224 [==============================] - 2s 2ms/step - loss: 0.9453 - acc: 0.7917 - val_loss: 4.1903 - val_acc: 0.4632\n",
      "Epoch 96/100\n",
      "1224/1224 [==============================] - 2s 2ms/step - loss: 0.5885 - acc: 0.8521 - val_loss: 5.2584 - val_acc: 0.4191\n",
      "Epoch 97/100\n",
      "1224/1224 [==============================] - 2s 2ms/step - loss: 0.5133 - acc: 0.8685 - val_loss: 3.7885 - val_acc: 0.5588\n",
      "Epoch 98/100\n",
      "1224/1224 [==============================] - 2s 2ms/step - loss: 0.5533 - acc: 0.8578 - val_loss: 4.2919 - val_acc: 0.4926\n",
      "Epoch 99/100\n",
      "1224/1224 [==============================] - 2s 2ms/step - loss: 0.4055 - acc: 0.8930 - val_loss: 3.4702 - val_acc: 0.5882\n",
      "Epoch 100/100\n",
      "1224/1224 [==============================] - 2s 2ms/step - loss: 0.2639 - acc: 0.9444 - val_loss: 3.4939 - val_acc: 0.6029\n"
     ]
    },
    {
     "data": {
      "text/plain": [
       "<keras.callbacks.History at 0x7fec3cffa9b0>"
      ]
     },
     "execution_count": 9,
     "metadata": {},
     "output_type": "execute_result"
    }
   ],
   "source": [
    "model.fit(X, y, batch_size=64, epochs=100, verbose=1, validation_split=0.1, shuffle=True, callbacks=[tensorboard])"
   ]
  }
 ],
 "metadata": {
  "kernelspec": {
   "display_name": "Python 3",
   "language": "python",
   "name": "python3"
  },
  "language_info": {
   "codemirror_mode": {
    "name": "ipython",
    "version": 3
   },
   "file_extension": ".py",
   "mimetype": "text/x-python",
   "name": "python",
   "nbconvert_exporter": "python",
   "pygments_lexer": "ipython3",
   "version": "3.6.5"
  }
 },
 "nbformat": 4,
 "nbformat_minor": 2
}
