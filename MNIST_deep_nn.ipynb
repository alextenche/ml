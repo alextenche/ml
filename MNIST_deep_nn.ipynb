{
 "cells": [
  {
   "cell_type": "markdown",
   "metadata": {},
   "source": [
    "## MNIST intermediate"
   ]
  },
  {
   "cell_type": "code",
   "execution_count": 1,
   "metadata": {},
   "outputs": [
    {
     "name": "stderr",
     "output_type": "stream",
     "text": [
      "/usr/local/lib/python3.6/dist-packages/h5py/__init__.py:36: FutureWarning: Conversion of the second argument of issubdtype from `float` to `np.floating` is deprecated. In future, it will be treated as `np.float64 == np.dtype(float).type`.\n",
      "  from ._conv import register_converters as _register_converters\n",
      "Using TensorFlow backend.\n"
     ]
    }
   ],
   "source": [
    "import numpy as np\n",
    "import keras\n",
    "from keras.datasets import mnist\n",
    "from keras.models import Sequential\n",
    "from keras.layers import Dense, Dropout\n",
    "from keras.layers.normalization import BatchNormalization\n",
    "from keras.optimizers import SGD\n",
    "from keras import regularizers\n",
    "from sklearn.preprocessing import MinMaxScaler\n",
    "\n",
    "np.random.seed(42)"
   ]
  },
  {
   "cell_type": "markdown",
   "metadata": {},
   "source": [
    "## Load data"
   ]
  },
  {
   "cell_type": "code",
   "execution_count": 2,
   "metadata": {},
   "outputs": [],
   "source": [
    "(X_train, y_train), (X_test, y_test) = mnist.load_data()"
   ]
  },
  {
   "cell_type": "markdown",
   "metadata": {},
   "source": [
    "### Preprocess data"
   ]
  },
  {
   "cell_type": "code",
   "execution_count": 3,
   "metadata": {},
   "outputs": [],
   "source": [
    "X_train = X_train.reshape(60000, 784).astype('float32')\n",
    "X_test = X_test.reshape(10000, 784).astype('float32')"
   ]
  },
  {
   "cell_type": "code",
   "execution_count": 4,
   "metadata": {},
   "outputs": [],
   "source": [
    "scaler = MinMaxScaler()"
   ]
  },
  {
   "cell_type": "code",
   "execution_count": 5,
   "metadata": {},
   "outputs": [
    {
     "data": {
      "text/plain": [
       "MinMaxScaler(copy=True, feature_range=(0, 1))"
      ]
     },
     "execution_count": 5,
     "metadata": {},
     "output_type": "execute_result"
    }
   ],
   "source": [
    "scaler.fit(X_train)"
   ]
  },
  {
   "cell_type": "code",
   "execution_count": 6,
   "metadata": {},
   "outputs": [],
   "source": [
    "X_train = scaler.transform(X_train)"
   ]
  },
  {
   "cell_type": "code",
   "execution_count": 7,
   "metadata": {},
   "outputs": [],
   "source": [
    "X_test = scaler.transform(X_test)"
   ]
  },
  {
   "cell_type": "code",
   "execution_count": 8,
   "metadata": {},
   "outputs": [],
   "source": [
    "clases = 10\n",
    "y_train = keras.utils.to_categorical(y_train, clases)\n",
    "y_test = keras.utils.to_categorical(y_test, clases)"
   ]
  },
  {
   "cell_type": "markdown",
   "metadata": {},
   "source": [
    "### Design neural network"
   ]
  },
  {
   "cell_type": "code",
   "execution_count": 9,
   "metadata": {},
   "outputs": [],
   "source": [
    "model = Sequential()"
   ]
  },
  {
   "cell_type": "code",
   "execution_count": 10,
   "metadata": {},
   "outputs": [],
   "source": [
    "model.add(Dense(64, activation = 'relu', input_shape=(784, )))\n",
    "model.add(BatchNormalization())\n",
    "model.add(Dropout(0.5))\n",
    "model.add(Dense(64, activation = 'relu'))\n",
    "model.add(BatchNormalization())\n",
    "model.add(Dropout(0.5))\n",
    "model.add(Dense(64, activation = 'relu'))\n",
    "model.add(BatchNormalization())\n",
    "model.add(Dropout(0.5))\n",
    "model.add(Dense(10, activation = 'softmax'))"
   ]
  },
  {
   "cell_type": "code",
   "execution_count": 11,
   "metadata": {},
   "outputs": [
    {
     "name": "stdout",
     "output_type": "stream",
     "text": [
      "_________________________________________________________________\n",
      "Layer (type)                 Output Shape              Param #   \n",
      "=================================================================\n",
      "dense_1 (Dense)              (None, 64)                50240     \n",
      "_________________________________________________________________\n",
      "batch_normalization_1 (Batch (None, 64)                256       \n",
      "_________________________________________________________________\n",
      "dropout_1 (Dropout)          (None, 64)                0         \n",
      "_________________________________________________________________\n",
      "dense_2 (Dense)              (None, 64)                4160      \n",
      "_________________________________________________________________\n",
      "batch_normalization_2 (Batch (None, 64)                256       \n",
      "_________________________________________________________________\n",
      "dropout_2 (Dropout)          (None, 64)                0         \n",
      "_________________________________________________________________\n",
      "dense_3 (Dense)              (None, 64)                4160      \n",
      "_________________________________________________________________\n",
      "batch_normalization_3 (Batch (None, 64)                256       \n",
      "_________________________________________________________________\n",
      "dropout_3 (Dropout)          (None, 64)                0         \n",
      "_________________________________________________________________\n",
      "dense_4 (Dense)              (None, 10)                650       \n",
      "=================================================================\n",
      "Total params: 59,978\n",
      "Trainable params: 59,594\n",
      "Non-trainable params: 384\n",
      "_________________________________________________________________\n"
     ]
    }
   ],
   "source": [
    "model.summary()"
   ]
  },
  {
   "cell_type": "markdown",
   "metadata": {},
   "source": [
    "### Configure the model"
   ]
  },
  {
   "cell_type": "code",
   "execution_count": 12,
   "metadata": {},
   "outputs": [],
   "source": [
    "model.compile(loss='categorical_crossentropy', optimizer='adam', metrics=['accuracy'])"
   ]
  },
  {
   "cell_type": "markdown",
   "metadata": {},
   "source": [
    "### Train"
   ]
  },
  {
   "cell_type": "code",
   "execution_count": 13,
   "metadata": {},
   "outputs": [
    {
     "name": "stdout",
     "output_type": "stream",
     "text": [
      "Train on 60000 samples, validate on 10000 samples\n",
      "Epoch 1/100\n",
      "60000/60000 [==============================] - 4s 62us/step - loss: 1.1536 - acc: 0.6265 - val_loss: 0.3197 - val_acc: 0.9085\n",
      "Epoch 2/100\n",
      "60000/60000 [==============================] - 3s 43us/step - loss: 0.5671 - acc: 0.8313 - val_loss: 0.2574 - val_acc: 0.9246\n",
      "Epoch 3/100\n",
      "60000/60000 [==============================] - 3s 43us/step - loss: 0.4634 - acc: 0.8666 - val_loss: 0.2298 - val_acc: 0.9335\n",
      "Epoch 4/100\n",
      "60000/60000 [==============================] - 3s 42us/step - loss: 0.4071 - acc: 0.8864 - val_loss: 0.2136 - val_acc: 0.9366\n",
      "Epoch 5/100\n",
      "60000/60000 [==============================] - 3s 42us/step - loss: 0.3752 - acc: 0.8944 - val_loss: 0.1938 - val_acc: 0.9429\n",
      "Epoch 6/100\n",
      "60000/60000 [==============================] - 3s 44us/step - loss: 0.3516 - acc: 0.9014 - val_loss: 0.1749 - val_acc: 0.9480\n",
      "Epoch 7/100\n",
      "60000/60000 [==============================] - 3s 43us/step - loss: 0.3351 - acc: 0.9067 - val_loss: 0.1695 - val_acc: 0.9515\n",
      "Epoch 8/100\n",
      "60000/60000 [==============================] - 2s 41us/step - loss: 0.3280 - acc: 0.9099 - val_loss: 0.1615 - val_acc: 0.9532\n",
      "Epoch 9/100\n",
      "60000/60000 [==============================] - 3s 43us/step - loss: 0.3163 - acc: 0.9126 - val_loss: 0.1593 - val_acc: 0.9537\n",
      "Epoch 10/100\n",
      "60000/60000 [==============================] - 2s 41us/step - loss: 0.3041 - acc: 0.9156 - val_loss: 0.1635 - val_acc: 0.9539\n",
      "Epoch 11/100\n",
      "60000/60000 [==============================] - 3s 44us/step - loss: 0.3008 - acc: 0.9169 - val_loss: 0.1595 - val_acc: 0.9545\n",
      "Epoch 12/100\n",
      "60000/60000 [==============================] - 3s 42us/step - loss: 0.2930 - acc: 0.9187 - val_loss: 0.1525 - val_acc: 0.9551\n",
      "Epoch 13/100\n",
      "60000/60000 [==============================] - 3s 44us/step - loss: 0.2826 - acc: 0.9220 - val_loss: 0.1503 - val_acc: 0.9581\n",
      "Epoch 14/100\n",
      "60000/60000 [==============================] - 3s 43us/step - loss: 0.2781 - acc: 0.9220 - val_loss: 0.1499 - val_acc: 0.9594\n",
      "Epoch 15/100\n",
      "60000/60000 [==============================] - 3s 42us/step - loss: 0.2711 - acc: 0.9246 - val_loss: 0.1452 - val_acc: 0.9601\n",
      "Epoch 16/100\n",
      "60000/60000 [==============================] - 2s 37us/step - loss: 0.2659 - acc: 0.9261 - val_loss: 0.1463 - val_acc: 0.9598\n",
      "Epoch 17/100\n",
      "60000/60000 [==============================] - 2s 37us/step - loss: 0.2642 - acc: 0.9271 - val_loss: 0.1427 - val_acc: 0.9601\n",
      "Epoch 18/100\n",
      "60000/60000 [==============================] - 2s 38us/step - loss: 0.2621 - acc: 0.9281 - val_loss: 0.1452 - val_acc: 0.9598\n",
      "Epoch 19/100\n",
      "60000/60000 [==============================] - 2s 36us/step - loss: 0.2560 - acc: 0.9285 - val_loss: 0.1391 - val_acc: 0.9621\n",
      "Epoch 20/100\n",
      "60000/60000 [==============================] - 2s 36us/step - loss: 0.2579 - acc: 0.9284 - val_loss: 0.1390 - val_acc: 0.9626\n",
      "Epoch 21/100\n",
      "60000/60000 [==============================] - 2s 36us/step - loss: 0.2497 - acc: 0.9303 - val_loss: 0.1413 - val_acc: 0.9615\n",
      "Epoch 22/100\n",
      "60000/60000 [==============================] - 2s 36us/step - loss: 0.2453 - acc: 0.9318 - val_loss: 0.1358 - val_acc: 0.9628\n",
      "Epoch 23/100\n",
      "60000/60000 [==============================] - 2s 36us/step - loss: 0.2491 - acc: 0.9308 - val_loss: 0.1411 - val_acc: 0.9620\n",
      "Epoch 24/100\n",
      "60000/60000 [==============================] - 2s 36us/step - loss: 0.2435 - acc: 0.9327 - val_loss: 0.1333 - val_acc: 0.9638\n",
      "Epoch 25/100\n",
      "60000/60000 [==============================] - 2s 36us/step - loss: 0.2442 - acc: 0.9325 - val_loss: 0.1292 - val_acc: 0.9639\n",
      "Epoch 26/100\n",
      "60000/60000 [==============================] - 2s 36us/step - loss: 0.2417 - acc: 0.9332 - val_loss: 0.1299 - val_acc: 0.9650\n",
      "Epoch 27/100\n",
      "60000/60000 [==============================] - 2s 36us/step - loss: 0.2396 - acc: 0.9338 - val_loss: 0.1239 - val_acc: 0.9649\n",
      "Epoch 28/100\n",
      "60000/60000 [==============================] - 2s 36us/step - loss: 0.2361 - acc: 0.9351 - val_loss: 0.1304 - val_acc: 0.9669\n",
      "Epoch 29/100\n",
      "60000/60000 [==============================] - 2s 37us/step - loss: 0.2391 - acc: 0.9335 - val_loss: 0.1304 - val_acc: 0.9650\n",
      "Epoch 30/100\n",
      "60000/60000 [==============================] - 2s 36us/step - loss: 0.2330 - acc: 0.9343 - val_loss: 0.1256 - val_acc: 0.9652\n",
      "Epoch 31/100\n",
      "60000/60000 [==============================] - 2s 36us/step - loss: 0.2334 - acc: 0.9347 - val_loss: 0.1258 - val_acc: 0.9671\n",
      "Epoch 32/100\n",
      "60000/60000 [==============================] - 2s 41us/step - loss: 0.2306 - acc: 0.9356 - val_loss: 0.1244 - val_acc: 0.9668\n",
      "Epoch 33/100\n",
      "60000/60000 [==============================] - 2s 38us/step - loss: 0.2315 - acc: 0.9361 - val_loss: 0.1210 - val_acc: 0.9666\n",
      "Epoch 34/100\n",
      "60000/60000 [==============================] - 2s 42us/step - loss: 0.2293 - acc: 0.9358 - val_loss: 0.1261 - val_acc: 0.9661\n",
      "Epoch 35/100\n",
      "60000/60000 [==============================] - 2s 37us/step - loss: 0.2299 - acc: 0.9353 - val_loss: 0.1229 - val_acc: 0.9666\n",
      "Epoch 36/100\n",
      "60000/60000 [==============================] - 2s 36us/step - loss: 0.2252 - acc: 0.9381 - val_loss: 0.1241 - val_acc: 0.9663\n",
      "Epoch 37/100\n",
      "60000/60000 [==============================] - 2s 37us/step - loss: 0.2246 - acc: 0.9370 - val_loss: 0.1225 - val_acc: 0.9677\n",
      "Epoch 38/100\n",
      "60000/60000 [==============================] - 2s 37us/step - loss: 0.2242 - acc: 0.9372 - val_loss: 0.1258 - val_acc: 0.9666\n",
      "Epoch 39/100\n",
      "60000/60000 [==============================] - 2s 40us/step - loss: 0.2198 - acc: 0.9379 - val_loss: 0.1240 - val_acc: 0.9667\n",
      "Epoch 40/100\n",
      "60000/60000 [==============================] - 2s 36us/step - loss: 0.2236 - acc: 0.9375 - val_loss: 0.1174 - val_acc: 0.9678\n",
      "Epoch 41/100\n",
      "60000/60000 [==============================] - 2s 40us/step - loss: 0.2215 - acc: 0.9382 - val_loss: 0.1260 - val_acc: 0.9666\n",
      "Epoch 42/100\n",
      "60000/60000 [==============================] - 3s 47us/step - loss: 0.2171 - acc: 0.9386 - val_loss: 0.1214 - val_acc: 0.9678\n",
      "Epoch 43/100\n",
      "60000/60000 [==============================] - 2s 42us/step - loss: 0.2199 - acc: 0.9389 - val_loss: 0.1212 - val_acc: 0.9679\n",
      "Epoch 44/100\n",
      "60000/60000 [==============================] - 2s 38us/step - loss: 0.2149 - acc: 0.9405 - val_loss: 0.1222 - val_acc: 0.9675\n",
      "Epoch 45/100\n",
      "60000/60000 [==============================] - 2s 38us/step - loss: 0.2170 - acc: 0.9396 - val_loss: 0.1218 - val_acc: 0.9676\n",
      "Epoch 46/100\n",
      "60000/60000 [==============================] - 2s 37us/step - loss: 0.2151 - acc: 0.9395 - val_loss: 0.1180 - val_acc: 0.9688\n",
      "Epoch 47/100\n",
      "60000/60000 [==============================] - 2s 36us/step - loss: 0.2123 - acc: 0.9409 - val_loss: 0.1206 - val_acc: 0.9672\n",
      "Epoch 48/100\n",
      "60000/60000 [==============================] - 2s 36us/step - loss: 0.2133 - acc: 0.9409 - val_loss: 0.1251 - val_acc: 0.9658\n",
      "Epoch 49/100\n",
      "60000/60000 [==============================] - 3s 47us/step - loss: 0.2136 - acc: 0.9417 - val_loss: 0.1233 - val_acc: 0.9676\n",
      "Epoch 50/100\n",
      "60000/60000 [==============================] - 2s 38us/step - loss: 0.2138 - acc: 0.9398 - val_loss: 0.1235 - val_acc: 0.9662\n",
      "Epoch 51/100\n",
      "60000/60000 [==============================] - 2s 39us/step - loss: 0.2131 - acc: 0.9399 - val_loss: 0.1197 - val_acc: 0.9672\n",
      "Epoch 52/100\n",
      "60000/60000 [==============================] - 2s 41us/step - loss: 0.2107 - acc: 0.9412 - val_loss: 0.1241 - val_acc: 0.9649\n",
      "Epoch 53/100\n",
      "60000/60000 [==============================] - 3s 45us/step - loss: 0.2087 - acc: 0.9411 - val_loss: 0.1148 - val_acc: 0.9674\n",
      "Epoch 54/100\n",
      "60000/60000 [==============================] - 3s 45us/step - loss: 0.2073 - acc: 0.9409 - val_loss: 0.1178 - val_acc: 0.9674\n",
      "Epoch 55/100\n",
      "60000/60000 [==============================] - 2s 42us/step - loss: 0.2122 - acc: 0.9391 - val_loss: 0.1180 - val_acc: 0.9682\n",
      "Epoch 56/100\n",
      "60000/60000 [==============================] - 3s 43us/step - loss: 0.2087 - acc: 0.9422 - val_loss: 0.1204 - val_acc: 0.9680\n",
      "Epoch 57/100\n",
      "60000/60000 [==============================] - 2s 41us/step - loss: 0.2058 - acc: 0.9427 - val_loss: 0.1223 - val_acc: 0.9662\n",
      "Epoch 58/100\n",
      "60000/60000 [==============================] - 3s 43us/step - loss: 0.2083 - acc: 0.9423 - val_loss: 0.1158 - val_acc: 0.9694\n",
      "Epoch 59/100\n"
     ]
    },
    {
     "name": "stdout",
     "output_type": "stream",
     "text": [
      "60000/60000 [==============================] - 2s 41us/step - loss: 0.2041 - acc: 0.9424 - val_loss: 0.1162 - val_acc: 0.9688\n",
      "Epoch 60/100\n",
      "60000/60000 [==============================] - 3s 44us/step - loss: 0.2070 - acc: 0.9420 - val_loss: 0.1138 - val_acc: 0.9679\n",
      "Epoch 61/100\n",
      "60000/60000 [==============================] - 2s 38us/step - loss: 0.1991 - acc: 0.9436 - val_loss: 0.1167 - val_acc: 0.9684\n",
      "Epoch 62/100\n",
      "60000/60000 [==============================] - 2s 36us/step - loss: 0.2020 - acc: 0.9431 - val_loss: 0.1180 - val_acc: 0.9684\n",
      "Epoch 63/100\n",
      "60000/60000 [==============================] - 2s 36us/step - loss: 0.2080 - acc: 0.9415 - val_loss: 0.1222 - val_acc: 0.9658\n",
      "Epoch 64/100\n",
      "60000/60000 [==============================] - 3s 43us/step - loss: 0.2017 - acc: 0.9439 - val_loss: 0.1167 - val_acc: 0.9679\n",
      "Epoch 65/100\n",
      "60000/60000 [==============================] - 2s 39us/step - loss: 0.2026 - acc: 0.9435 - val_loss: 0.1120 - val_acc: 0.9697\n",
      "Epoch 66/100\n",
      "60000/60000 [==============================] - 2s 40us/step - loss: 0.2042 - acc: 0.9439 - val_loss: 0.1175 - val_acc: 0.9689\n",
      "Epoch 67/100\n",
      "60000/60000 [==============================] - 2s 37us/step - loss: 0.1964 - acc: 0.9452 - val_loss: 0.1228 - val_acc: 0.9688\n",
      "Epoch 68/100\n",
      "60000/60000 [==============================] - 3s 43us/step - loss: 0.2016 - acc: 0.9429 - val_loss: 0.1167 - val_acc: 0.9688\n",
      "Epoch 69/100\n",
      "60000/60000 [==============================] - 2s 36us/step - loss: 0.1966 - acc: 0.9449 - val_loss: 0.1153 - val_acc: 0.9687\n",
      "Epoch 70/100\n",
      "60000/60000 [==============================] - 2s 36us/step - loss: 0.1992 - acc: 0.9432 - val_loss: 0.1185 - val_acc: 0.9677\n",
      "Epoch 71/100\n",
      "60000/60000 [==============================] - 2s 37us/step - loss: 0.1928 - acc: 0.9443 - val_loss: 0.1163 - val_acc: 0.9697\n",
      "Epoch 72/100\n",
      "60000/60000 [==============================] - 3s 42us/step - loss: 0.1940 - acc: 0.9452 - val_loss: 0.1137 - val_acc: 0.9691\n",
      "Epoch 73/100\n",
      "60000/60000 [==============================] - 3s 43us/step - loss: 0.1963 - acc: 0.9445 - val_loss: 0.1174 - val_acc: 0.9687\n",
      "Epoch 74/100\n",
      "60000/60000 [==============================] - 2s 41us/step - loss: 0.2002 - acc: 0.9439 - val_loss: 0.1162 - val_acc: 0.9684\n",
      "Epoch 75/100\n",
      "60000/60000 [==============================] - 2s 37us/step - loss: 0.1983 - acc: 0.9450 - val_loss: 0.1231 - val_acc: 0.9674\n",
      "Epoch 76/100\n",
      "60000/60000 [==============================] - 2s 36us/step - loss: 0.2002 - acc: 0.9439 - val_loss: 0.1174 - val_acc: 0.9692\n",
      "Epoch 77/100\n",
      "60000/60000 [==============================] - 2s 36us/step - loss: 0.1941 - acc: 0.9458 - val_loss: 0.1177 - val_acc: 0.9693\n",
      "Epoch 78/100\n",
      "60000/60000 [==============================] - 2s 36us/step - loss: 0.1982 - acc: 0.9447 - val_loss: 0.1135 - val_acc: 0.9682\n",
      "Epoch 79/100\n",
      "60000/60000 [==============================] - 2s 36us/step - loss: 0.1961 - acc: 0.9444 - val_loss: 0.1182 - val_acc: 0.9683\n",
      "Epoch 80/100\n",
      "60000/60000 [==============================] - 2s 36us/step - loss: 0.1947 - acc: 0.9453 - val_loss: 0.1217 - val_acc: 0.9673\n",
      "Epoch 81/100\n",
      "60000/60000 [==============================] - 2s 40us/step - loss: 0.1984 - acc: 0.9440 - val_loss: 0.1208 - val_acc: 0.9698\n",
      "Epoch 82/100\n",
      "60000/60000 [==============================] - 2s 37us/step - loss: 0.1887 - acc: 0.9456 - val_loss: 0.1200 - val_acc: 0.9695\n",
      "Epoch 83/100\n",
      "60000/60000 [==============================] - 2s 41us/step - loss: 0.1935 - acc: 0.9457 - val_loss: 0.1167 - val_acc: 0.9696\n",
      "Epoch 84/100\n",
      "60000/60000 [==============================] - 2s 40us/step - loss: 0.1886 - acc: 0.9453 - val_loss: 0.1161 - val_acc: 0.9701\n",
      "Epoch 85/100\n",
      "60000/60000 [==============================] - 2s 39us/step - loss: 0.1930 - acc: 0.9460 - val_loss: 0.1146 - val_acc: 0.9679\n",
      "Epoch 86/100\n",
      "60000/60000 [==============================] - 3s 45us/step - loss: 0.1910 - acc: 0.9470 - val_loss: 0.1189 - val_acc: 0.9690\n",
      "Epoch 87/100\n",
      "60000/60000 [==============================] - 3s 45us/step - loss: 0.1919 - acc: 0.9455 - val_loss: 0.1192 - val_acc: 0.9678\n",
      "Epoch 88/100\n",
      "60000/60000 [==============================] - 3s 43us/step - loss: 0.1906 - acc: 0.9468 - val_loss: 0.1227 - val_acc: 0.9688\n",
      "Epoch 89/100\n",
      "60000/60000 [==============================] - 3s 44us/step - loss: 0.1901 - acc: 0.9462 - val_loss: 0.1194 - val_acc: 0.9688\n",
      "Epoch 90/100\n",
      "60000/60000 [==============================] - 2s 41us/step - loss: 0.1917 - acc: 0.9459 - val_loss: 0.1201 - val_acc: 0.9682\n",
      "Epoch 91/100\n",
      "60000/60000 [==============================] - 2s 39us/step - loss: 0.1923 - acc: 0.9456 - val_loss: 0.1171 - val_acc: 0.9689\n",
      "Epoch 92/100\n",
      "60000/60000 [==============================] - 2s 42us/step - loss: 0.1921 - acc: 0.9459 - val_loss: 0.1158 - val_acc: 0.9693\n",
      "Epoch 93/100\n",
      "60000/60000 [==============================] - 2s 41us/step - loss: 0.1910 - acc: 0.9456 - val_loss: 0.1187 - val_acc: 0.9685\n",
      "Epoch 94/100\n",
      "60000/60000 [==============================] - 2s 39us/step - loss: 0.1926 - acc: 0.9459 - val_loss: 0.1191 - val_acc: 0.9684\n",
      "Epoch 95/100\n",
      "60000/60000 [==============================] - 2s 39us/step - loss: 0.1922 - acc: 0.9462 - val_loss: 0.1199 - val_acc: 0.9687\n",
      "Epoch 96/100\n",
      "60000/60000 [==============================] - 2s 41us/step - loss: 0.1877 - acc: 0.9470 - val_loss: 0.1159 - val_acc: 0.9688\n",
      "Epoch 97/100\n",
      "60000/60000 [==============================] - 3s 43us/step - loss: 0.1893 - acc: 0.9466 - val_loss: 0.1180 - val_acc: 0.9695\n",
      "Epoch 98/100\n",
      "60000/60000 [==============================] - 2s 41us/step - loss: 0.1893 - acc: 0.9473 - val_loss: 0.1202 - val_acc: 0.9688\n",
      "Epoch 99/100\n",
      "60000/60000 [==============================] - 2s 42us/step - loss: 0.1883 - acc: 0.9459 - val_loss: 0.1172 - val_acc: 0.9696\n",
      "Epoch 100/100\n",
      "60000/60000 [==============================] - 3s 43us/step - loss: 0.1883 - acc: 0.9466 - val_loss: 0.1166 - val_acc: 0.9700\n"
     ]
    },
    {
     "data": {
      "text/plain": [
       "<keras.callbacks.History at 0x7fce6ab59d30>"
      ]
     },
     "execution_count": 13,
     "metadata": {},
     "output_type": "execute_result"
    }
   ],
   "source": [
    "model.fit(X_train, y_train, batch_size=128, epochs=100, verbose=1, validation_data=(X_test, y_test))"
   ]
  },
  {
   "cell_type": "code",
   "execution_count": null,
   "metadata": {},
   "outputs": [],
   "source": []
  }
 ],
 "metadata": {
  "celltoolbar": "Raw Cell Format",
  "kernelspec": {
   "display_name": "Python 3",
   "language": "python",
   "name": "python3"
  },
  "language_info": {
   "codemirror_mode": {
    "name": "ipython",
    "version": 3
   },
   "file_extension": ".py",
   "mimetype": "text/x-python",
   "name": "python",
   "nbconvert_exporter": "python",
   "pygments_lexer": "ipython3",
   "version": "3.6.5"
  }
 },
 "nbformat": 4,
 "nbformat_minor": 2
}
