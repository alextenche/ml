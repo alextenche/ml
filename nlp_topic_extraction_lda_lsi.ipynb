{
 "cells": [
  {
   "cell_type": "code",
   "execution_count": null,
   "metadata": {},
   "outputs": [],
   "source": [
    "import glob\n",
    "import json\n",
    "import gensim\n",
    "import pickle\n",
    "import collections\n",
    "import pandas as pd\n",
    "import matplotlib.pyplot as plt\n",
    "import matplotlib.pyplot as plt\n",
    "\n",
    "from gensim.parsing.preprocessing import preprocess_string"
   ]
  },
  {
   "cell_type": "code",
   "execution_count": null,
   "metadata": {},
   "outputs": [],
   "source": [
    "get_ipython().magic('matplotlib inline')"
   ]
  },
  {
   "cell_type": "code",
   "execution_count": null,
   "metadata": {},
   "outputs": [],
   "source": [
    "pathToData = 'data/aristo-mini-corpus/Aristo-Mini-Corpus-Dec2016.txt'"
   ]
  },
  {
   "cell_type": "code",
   "execution_count": null,
   "metadata": {},
   "outputs": [],
   "source": [
    "def plotTopicProjections(model,dictionary,scale=False,plotNegative=False,nTerms=5):\n",
    "    '''\n",
    "    Convenience function to plot term importances in topics\n",
    "    @plotNegative is for models that return -ve term importances\n",
    "    @scale is either fixed at [-1,1] or autoscaled based on largest importance\n",
    "    @model is LDA/LSI gensim model object\n",
    "    '''\n",
    "    \n",
    "    topicProjections=model.get_topics()\n",
    "    \n",
    "    for n in range(topicProjections.shape[0]):\n",
    "        #print(i)\n",
    "        topicTerm=collections.Counter({dictionary[j]:p for j,p in\\\n",
    "                                       enumerate(topicProjections[n,:])})\n",
    "\n",
    "        most = topicTerm.most_common(nTerms)[::-1]\n",
    "        least = topicTerm.most_common()[-1*nTerms:]\n",
    "        \n",
    "        if not scale:\n",
    "            plt.xlim(-1,1)\n",
    "            maxExtent=1\n",
    "        else:\n",
    "            maxMost=max([m[1] for m in most])*1.1\n",
    "            minLeast=min([l[1] for l in least])*1.1\n",
    "            \n",
    "            maxMost=topicProjections.max()*1.1\n",
    "            minMost=topicProjections.min()*1.1\n",
    "            \n",
    "            maxExtent=max([abs(minLeast),abs(maxMost)])\n",
    "            plt.xlim(-1*maxExtent,maxExtent)\n",
    "                    \n",
    "        plt.barh(range(nTerms),[m[1] for m in most])\n",
    "        for i,m in enumerate(most):\n",
    "            plt.annotate('{:s} ({:.3f})'.format(m[0],m[1]),\\\n",
    "                         xy=(0.1*maxExtent,i-0.1),xycoords='data',fontsize=20)\n",
    "        \n",
    "        if not plotNegative:\n",
    "            if not scale:\n",
    "                plt.xlim(0,1)\n",
    "            else:\n",
    "                plt.xlim(0,maxExtent)\n",
    "        \n",
    "        plt.barh(range(nTerms),[l[1] for l in least])\n",
    "        for i,l in enumerate(least):\n",
    "            plt.annotate('{:s} ({:.3f})'.format(l[0],l[1]),\\\n",
    "                         xy=(-0.1*maxExtent,i-0.1),xycoords='data',ha='right',fontsize=20)\n",
    "        plt.axvline(color='grey')\n",
    "        plt.title('Topic {:d}'.format(n))\n",
    "        plt.yticks([],[])\n",
    "        plt.xlabel('Projection')\n",
    "        plt.show()"
   ]
  },
  {
   "cell_type": "code",
   "execution_count": null,
   "metadata": {},
   "outputs": [],
   "source": [
    "class textGen():\n",
    "    '''\n",
    "    Object to iterate over text out of memory\n",
    "    Generator: Yields values one at a time\n",
    "    @n is number of lines to read, -1 means all lines\n",
    "    '''\n",
    "    def __init__(self,n=-1):\n",
    "        print('Initialising textgenerator...')\n",
    "        self.n=n\n",
    "\n",
    "    def __iter__(self):    \n",
    "        with open(pathToData,'r',errors='ignore') as inFile:\n",
    "            for nLine,line in enumerate(inFile):\n",
    "                \n",
    "                if self.n>-1 and nLine>self.n:\n",
    "                    break\n",
    "                if len(line)>0:\n",
    "                \n",
    "                    if not len(line)==0:\n",
    "                        yield preprocess_string(line)"
   ]
  },
  {
   "cell_type": "code",
   "execution_count": null,
   "metadata": {},
   "outputs": [],
   "source": [
    "holdout = 50000"
   ]
  },
  {
   "cell_type": "code",
   "execution_count": null,
   "metadata": {},
   "outputs": [],
   "source": [
    "%time dictionary = gensim.corpora.Dictionary(textGen(n=holdout))"
   ]
  },
  {
   "cell_type": "code",
   "execution_count": null,
   "metadata": {},
   "outputs": [],
   "source": [
    "len(dictionary)"
   ]
  },
  {
   "cell_type": "code",
   "execution_count": null,
   "metadata": {},
   "outputs": [],
   "source": [
    "%time dictionary.filter_extremes()"
   ]
  },
  {
   "cell_type": "code",
   "execution_count": null,
   "metadata": {},
   "outputs": [],
   "source": [
    "len(dictionary)"
   ]
  },
  {
   "cell_type": "code",
   "execution_count": null,
   "metadata": {},
   "outputs": [],
   "source": [
    "class newsCorpus():\n",
    "    '''\n",
    "    Class wrapper for reading news data\n",
    "    Generator: Yields indexed documents one at a time\n",
    "    @n is number of lines to read, -1 means all lines\n",
    "    @start is line number to start returning data\n",
    "    (for creating holdout set)\n",
    "    '''\n",
    "    def __init__(self,n=-1,start=0):\n",
    "        print('Initialising corpus...')\n",
    "        self.n=n\n",
    "        self.start=start\n",
    "        \n",
    "    def __iter__(self):   \n",
    "        for nFile,file in enumerate(glob.glob(pathToData+'news*json')):\n",
    "            #print(nFile,self.n)\n",
    "            if self.n>-1 and nFile>self.n:\n",
    "                break\n",
    "\n",
    "            with open(file,'r') as inFile:\n",
    "                for line in inFile:\n",
    "\n",
    "                    if len(line)>0 and nFile>=self.start:\n",
    "                        d=json.loads(line)\n",
    "                        tokens=preprocess_string(d['text'])\n",
    "                        yield dictionary.doc2bow(tokens)"
   ]
  },
  {
   "cell_type": "markdown",
   "metadata": {},
   "source": [
    "### LDA"
   ]
  },
  {
   "cell_type": "code",
   "execution_count": null,
   "metadata": {},
   "outputs": [],
   "source": [
    "%time resLda_4topics = gensim.models.ldamulticore.LdaMulticore(newsCorpus(n=450000), num_topics=4, id2word=dictionary)"
   ]
  },
  {
   "cell_type": "code",
   "execution_count": null,
   "metadata": {},
   "outputs": [],
   "source": [
    "%time resLda_10topics = gensim.models.ldamulticore.LdaMulticore(newsCorpus(n=holdout), num_topics=10, id2word=dictionary)"
   ]
  },
  {
   "cell_type": "code",
   "execution_count": null,
   "metadata": {},
   "outputs": [],
   "source": [
    "plotTopicProjections(resLda_4topics, dictionary, scale=True, nTerms=10)"
   ]
  },
  {
   "cell_type": "code",
   "execution_count": null,
   "metadata": {},
   "outputs": [],
   "source": [
    "resLda_4topics.get_document_topics(dictionary.doc2bow(preprocess_string('This is Sparta')))"
   ]
  },
  {
   "cell_type": "code",
   "execution_count": null,
   "metadata": {},
   "outputs": [],
   "source": [
    "tfidf =  gensim.models.TfidfModel(dictionary=dictionary)"
   ]
  },
  {
   "cell_type": "code",
   "execution_count": null,
   "metadata": {},
   "outputs": [],
   "source": [
    "%time res_tfidf = gensim.models.ldamulticore.LdaMulticore(tfidf[newsCorpus(n=holdout)], num_topics=4, id2word=dictionary)"
   ]
  },
  {
   "cell_type": "code",
   "execution_count": null,
   "metadata": {},
   "outputs": [],
   "source": [
    "plotTopicProjections(res_tfidf, dictionary, scale=True, nTerms=7)"
   ]
  },
  {
   "cell_type": "markdown",
   "metadata": {},
   "source": [
    "### LSI"
   ]
  },
  {
   "cell_type": "code",
   "execution_count": null,
   "metadata": {},
   "outputs": [],
   "source": [
    "%time resLsi = gensim.models.lsimodel.LsiModel(newsCorpus(n=holdout), num_topics=4, id2word=dictionary)"
   ]
  },
  {
   "cell_type": "code",
   "execution_count": null,
   "metadata": {},
   "outputs": [],
   "source": [
    "plotTopicProjections(resLsi, dictionary, plotNegative=True, nTerms=10)"
   ]
  },
  {
   "cell_type": "code",
   "execution_count": null,
   "metadata": {},
   "outputs": [],
   "source": [
    "%time resLsiTfidf = gensim.models.lsimodel.LsiModel(tfidf_corpus[newsCorpus(n=holdout)],num_topics=4,id2word=dictionary)"
   ]
  },
  {
   "cell_type": "code",
   "execution_count": null,
   "metadata": {},
   "outputs": [],
   "source": []
  }
 ],
 "metadata": {
  "kernelspec": {
   "display_name": "Python 3",
   "language": "python",
   "name": "python3"
  },
  "language_info": {
   "codemirror_mode": {
    "name": "ipython",
    "version": 3
   },
   "file_extension": ".py",
   "mimetype": "text/x-python",
   "name": "python",
   "nbconvert_exporter": "python",
   "pygments_lexer": "ipython3",
   "version": "3.7.3"
  }
 },
 "nbformat": 4,
 "nbformat_minor": 2
}
