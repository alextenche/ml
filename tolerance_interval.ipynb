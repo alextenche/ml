{
 "cells": [
  {
   "cell_type": "code",
   "execution_count": 1,
   "metadata": {},
   "outputs": [],
   "source": [
    "# parametric tolerance interval\n",
    "import numpy as np\n",
    "from numpy.random import seed\n",
    "from numpy.random import randn\n",
    "from numpy import mean\n",
    "from numpy import sqrt\n",
    "from scipy.stats import chi2, norm"
   ]
  },
  {
   "cell_type": "code",
   "execution_count": 2,
   "metadata": {},
   "outputs": [],
   "source": [
    "# example of tolerance interval\n",
    "# The range from x to y covers 95% of the data with a confidence of 99%"
   ]
  },
  {
   "cell_type": "markdown",
   "metadata": {},
   "source": [
    "#### Tolerance Interval for Gaussian Distribution"
   ]
  },
  {
   "cell_type": "code",
   "execution_count": 3,
   "metadata": {},
   "outputs": [],
   "source": [
    "# seed the random number generator\n",
    "seed(42)"
   ]
  },
  {
   "cell_type": "code",
   "execution_count": 4,
   "metadata": {},
   "outputs": [],
   "source": [
    "# generate dataset\n",
    "mean, std = 50, 5 # mean and standard deviation\n",
    "data = 5 * randn(100) + 50"
   ]
  },
  {
   "cell_type": "code",
   "execution_count": 5,
   "metadata": {},
   "outputs": [
    {
     "data": {
      "text/plain": [
       "array([52.48357077, 49.30867849, 53.23844269, 57.61514928, 48.82923313,\n",
       "       48.82931522, 57.89606408, 53.83717365, 47.65262807, 52.71280022,\n",
       "       47.68291154, 47.67135123, 51.20981136, 40.43359878, 41.37541084,\n",
       "       47.18856235, 44.9358444 , 51.57123666, 45.45987962, 42.93848149,\n",
       "       57.32824384, 48.8711185 , 50.33764102, 42.87625907, 47.27808638,\n",
       "       50.55461295, 44.24503211, 51.87849009, 46.99680655, 48.54153125,\n",
       "       46.99146694, 59.26139092, 49.93251388, 44.71144536, 54.11272456,\n",
       "       43.89578175, 51.04431798, 40.20164938, 43.35906976, 50.98430618,\n",
       "       53.6923329 , 50.85684141, 49.42175859, 48.49448152, 42.60739005,\n",
       "       46.40077896, 47.69680615, 55.28561113, 51.71809145, 41.18479922,\n",
       "       51.62041985, 48.0745886 , 46.61539   , 53.05838144, 55.15499761,\n",
       "       54.6564006 , 45.80391238, 48.45393812, 51.65631716, 54.87772564,\n",
       "       47.60412881, 49.07170512, 44.46832513, 44.01896688, 54.06262911,\n",
       "       56.78120014, 49.63994939, 55.01766449, 51.80818013, 46.77440123,\n",
       "       51.80697803, 57.69018283, 49.8208698 , 57.82321828, 36.90127448,\n",
       "       54.10951252, 50.43523534, 48.50496325, 50.45880388, 40.06215543,\n",
       "       48.90164056, 51.78556286, 57.38947022, 47.40864891, 45.95753199,\n",
       "       47.49121478, 54.57701059, 51.64375555, 47.35119898, 52.56633717,\n",
       "       50.48538775, 54.84322495, 46.48973453, 48.36168927, 48.03945923,\n",
       "       42.68242526, 51.48060139, 51.30527636, 50.02556728, 48.82706433])"
      ]
     },
     "execution_count": 5,
     "metadata": {},
     "output_type": "execute_result"
    }
   ],
   "source": [
    "data"
   ]
  },
  {
   "cell_type": "code",
   "execution_count": 6,
   "metadata": {},
   "outputs": [],
   "source": [
    "# specify degrees of freedom\n",
    "n = len(data)\n",
    "dof = n - 1"
   ]
  },
  {
   "cell_type": "code",
   "execution_count": 7,
   "metadata": {},
   "outputs": [],
   "source": [
    "# specify data coverage\n",
    "prop = 0.95\n",
    "prop_inv = (1.0 - prop) / 2.0\n",
    "gauss_critical = norm.isf(prop_inv)"
   ]
  },
  {
   "cell_type": "code",
   "execution_count": 8,
   "metadata": {},
   "outputs": [
    {
     "name": "stdout",
     "output_type": "stream",
     "text": [
      "Gaussian critical value: 1.960 (coverage=95%)\n"
     ]
    }
   ],
   "source": [
    "print('Gaussian critical value: %.3f (coverage=%d%%)' % (gauss_critical, prop*100))"
   ]
  },
  {
   "cell_type": "code",
   "execution_count": 9,
   "metadata": {},
   "outputs": [],
   "source": [
    "# specify confidence\n",
    "prob = 0.99\n",
    "chi_critical = chi2.isf(q=prob, df=dof)"
   ]
  },
  {
   "cell_type": "code",
   "execution_count": 10,
   "metadata": {},
   "outputs": [
    {
     "name": "stdout",
     "output_type": "stream",
     "text": [
      "Chi-Squared critical value: 69.230 (prob=99%, dof=99)\n"
     ]
    }
   ],
   "source": [
    "print('Chi-Squared critical value: %.3f (prob=%d%%, dof=%d)' % (chi_critical, prob*100, dof))"
   ]
  },
  {
   "cell_type": "code",
   "execution_count": 11,
   "metadata": {},
   "outputs": [],
   "source": [
    "# tolerance\n",
    "interval = sqrt((dof * (1 + (1/n)) * gauss_critical**2) / chi_critical)"
   ]
  },
  {
   "cell_type": "code",
   "execution_count": 12,
   "metadata": {},
   "outputs": [
    {
     "name": "stdout",
     "output_type": "stream",
     "text": [
      "Tolerance Interval: 2.355\n"
     ]
    }
   ],
   "source": [
    "print('Tolerance Interval: %.3f' % interval)"
   ]
  },
  {
   "cell_type": "code",
   "execution_count": 13,
   "metadata": {},
   "outputs": [],
   "source": [
    "# summarize\n",
    "data_mean = np.mean(data)\n",
    "lower, upper = data_mean-interval, data_mean+interval"
   ]
  },
  {
   "cell_type": "code",
   "execution_count": 14,
   "metadata": {},
   "outputs": [
    {
     "name": "stdout",
     "output_type": "stream",
     "text": [
      "47.13 to 51.84 covers 95% of data with a confidence of 99%\n"
     ]
    }
   ],
   "source": [
    "print('%.2f to %.2f covers %d%% of data with a confidence of %d%%' % (lower, upper, prop*100, prob*100))"
   ]
  },
  {
   "cell_type": "code",
   "execution_count": null,
   "metadata": {},
   "outputs": [],
   "source": []
  }
 ],
 "metadata": {
  "kernelspec": {
   "display_name": "Python 3",
   "language": "python",
   "name": "python3"
  },
  "language_info": {
   "codemirror_mode": {
    "name": "ipython",
    "version": 3
   },
   "file_extension": ".py",
   "mimetype": "text/x-python",
   "name": "python",
   "nbconvert_exporter": "python",
   "pygments_lexer": "ipython3",
   "version": "3.6.5"
  }
 },
 "nbformat": 4,
 "nbformat_minor": 2
}
