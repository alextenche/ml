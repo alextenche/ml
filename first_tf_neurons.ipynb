{
 "cells": [
  {
   "cell_type": "code",
   "execution_count": 1,
   "metadata": {},
   "outputs": [
    {
     "name": "stderr",
     "output_type": "stream",
     "text": [
      "/usr/local/lib/python3.6/dist-packages/h5py/__init__.py:36: FutureWarning: Conversion of the second argument of issubdtype from `float` to `np.floating` is deprecated. In future, it will be treated as `np.float64 == np.dtype(float).type`.\n",
      "  from ._conv import register_converters as _register_converters\n"
     ]
    }
   ],
   "source": [
    "import numpy as np\n",
    "np.random.seed(42)\n",
    "import tensorflow as tf\n",
    "tf.set_random_seed(42)\n",
    "\n",
    "import matplotlib.pyplot as plt"
   ]
  },
  {
   "cell_type": "code",
   "execution_count": 2,
   "metadata": {},
   "outputs": [],
   "source": [
    "n_input = 784\n",
    "n_dense = 128"
   ]
  },
  {
   "cell_type": "markdown",
   "metadata": {},
   "source": [
    "### build neurons"
   ]
  },
  {
   "cell_type": "code",
   "execution_count": 3,
   "metadata": {},
   "outputs": [],
   "source": [
    "x = tf.placeholder(tf.float32, [None, n_input])\n",
    "b = tf.Variable(tf.zeros([n_dense]))\n",
    "# w = tf.Variable(tf.random_normal([n_input, n_dense]))\n",
    "w = tf.get_variable('w', [n_input, n_dense], initializer=tf.contrib.layers.xavier_initializer())"
   ]
  },
  {
   "cell_type": "code",
   "execution_count": 4,
   "metadata": {},
   "outputs": [],
   "source": [
    "z = tf.add(tf.matmul(x, w), b)\n",
    "a = tf.sigmoid(z)"
   ]
  },
  {
   "cell_type": "markdown",
   "metadata": {},
   "source": [
    "### initialize variables"
   ]
  },
  {
   "cell_type": "code",
   "execution_count": 5,
   "metadata": {},
   "outputs": [],
   "source": [
    "initializer_op = tf.global_variables_initializer()"
   ]
  },
  {
   "cell_type": "markdown",
   "metadata": {},
   "source": [
    "### execute graph"
   ]
  },
  {
   "cell_type": "code",
   "execution_count": 6,
   "metadata": {},
   "outputs": [],
   "source": [
    "with tf.Session() as session:\n",
    "    session.run(initializer_op)\n",
    "    \n",
    "    layer_output = session.run(a, feed_dict={x: np.random.random([1, n_input])})"
   ]
  },
  {
   "cell_type": "code",
   "execution_count": 7,
   "metadata": {},
   "outputs": [
    {
     "data": {
      "text/plain": [
       "array([[0.57073414, 0.6599264 , 0.61884737, 0.6418978 , 0.17006637,\n",
       "        0.5067499 , 0.62251973, 0.5875759 , 0.58370876, 0.6577584 ,\n",
       "        0.30484933, 0.52542555, 0.45554936, 0.64830405, 0.43454415,\n",
       "        0.7857834 , 0.4552595 , 0.51750416, 0.62821925, 0.64718074,\n",
       "        0.6129243 , 0.6998777 , 0.527227  , 0.6080919 , 0.4208006 ,\n",
       "        0.5824118 , 0.5268061 , 0.4764363 , 0.23155767, 0.5957253 ,\n",
       "        0.54326004, 0.29285476, 0.2562799 , 0.4451024 , 0.5118951 ,\n",
       "        0.61240494, 0.51017964, 0.2941035 , 0.5691688 , 0.17105685,\n",
       "        0.65683043, 0.22064033, 0.2818071 , 0.43392745, 0.41296217,\n",
       "        0.5518164 , 0.33718562, 0.27173844, 0.12078254, 0.63258475,\n",
       "        0.8511631 , 0.5485784 , 0.5644635 , 0.44318143, 0.21063527,\n",
       "        0.64221513, 0.58982664, 0.4790711 , 0.48277768, 0.45518854,\n",
       "        0.31939197, 0.70392007, 0.33859405, 0.17875832, 0.6972616 ,\n",
       "        0.74456227, 0.65599406, 0.3323811 , 0.45341542, 0.40397045,\n",
       "        0.24503854, 0.63733196, 0.3944128 , 0.44713956, 0.39294696,\n",
       "        0.56107044, 0.67454046, 0.57195616, 0.29888836, 0.5550676 ,\n",
       "        0.3468566 , 0.3893437 , 0.5412193 , 0.71514136, 0.44941247,\n",
       "        0.45905373, 0.4366926 , 0.6717918 , 0.622684  , 0.6520353 ,\n",
       "        0.54567546, 0.48498672, 0.25733876, 0.71395427, 0.43123737,\n",
       "        0.51963425, 0.7789721 , 0.49273372, 0.62162465, 0.501533  ,\n",
       "        0.41758838, 0.6701489 , 0.5553389 , 0.5868982 , 0.396538  ,\n",
       "        0.5549291 , 0.46856663, 0.69740385, 0.6959531 , 0.5135661 ,\n",
       "        0.47550088, 0.5329209 , 0.49567825, 0.50622505, 0.43856516,\n",
       "        0.520778  , 0.7371225 , 0.4906786 , 0.57469326, 0.4490573 ,\n",
       "        0.49557927, 0.43592906, 0.51303804, 0.43131626, 0.259693  ,\n",
       "        0.4128562 , 0.3403716 , 0.23098718]], dtype=float32)"
      ]
     },
     "execution_count": 7,
     "metadata": {},
     "output_type": "execute_result"
    }
   ],
   "source": [
    "layer_output"
   ]
  },
  {
   "cell_type": "code",
   "execution_count": 8,
   "metadata": {},
   "outputs": [
    {
     "data": {
      "image/png": "[encoded data removed]",
      "text/plain": [
       "<Figure size 432x288 with 1 Axes>"
      ]
     },
     "metadata": {},
     "output_type": "display_data"
    }
   ],
   "source": [
    "_ = plt.hist(np.transpose(layer_output))"
   ]
  },
  {
   "cell_type": "code",
   "execution_count": null,
   "metadata": {},
   "outputs": [],
   "source": []
  }
 ],
 "metadata": {
  "kernelspec": {
   "display_name": "Python 3",
   "language": "python",
   "name": "python3"
  },
  "language_info": {
   "codemirror_mode": {
    "name": "ipython",
    "version": 3
   },
   "file_extension": ".py",
   "mimetype": "text/x-python",
   "name": "python",
   "nbconvert_exporter": "python",
   "pygments_lexer": "ipython3",
   "version": "3.6.5"
  }
 },
 "nbformat": 4,
 "nbformat_minor": 2
}
