{
 "cells": [
  {
   "cell_type": "markdown",
   "metadata": {},
   "source": [
    "### load dependecies"
   ]
  },
  {
   "cell_type": "code",
   "execution_count": 1,
   "metadata": {},
   "outputs": [
    {
     "name": "stderr",
     "output_type": "stream",
     "text": [
      "/usr/local/lib/python3.6/dist-packages/h5py/__init__.py:36: FutureWarning: Conversion of the second argument of issubdtype from `float` to `np.floating` is deprecated. In future, it will be treated as `np.float64 == np.dtype(float).type`.\n",
      "  from ._conv import register_converters as _register_converters\n"
     ]
    }
   ],
   "source": [
    "import numpy as np\n",
    "np.random.seed(42)\n",
    "import tensorflow as tf\n",
    "tf.set_random_seed(42)\n",
    "import matplotlib.pyplot as plt\n",
    "import pandas as pd"
   ]
  },
  {
   "cell_type": "markdown",
   "metadata": {},
   "source": [
    "### create small dataset"
   ]
  },
  {
   "cell_type": "code",
   "execution_count": 2,
   "metadata": {},
   "outputs": [],
   "source": [
    "xs = np.linspace(0., 8, 10000000) # feature (independent variable)\n",
    "ys = 0.3 * xs - 0.8 + np.random.normal(scale=0.25, size=len(xs)) # labels (dependent variable)"
   ]
  },
  {
   "cell_type": "code",
   "execution_count": 3,
   "metadata": {},
   "outputs": [
    {
     "data": {
      "image/png": "[encoded data removed]",
      "text/plain": [
       "<Figure size 432x288 with 1 Axes>"
      ]
     },
     "metadata": {},
     "output_type": "display_data"
    }
   ],
   "source": [
    "fig, ax = plt.subplots()\n",
    "data_subset = pd.DataFrame(list(zip(xs, ys)), columns=['x', 'y']).sample(n=1000)\n",
    "_ = ax.scatter(data_subset.x, data_subset.y)"
   ]
  },
  {
   "cell_type": "code",
   "execution_count": 4,
   "metadata": {},
   "outputs": [],
   "source": [
    "m = tf.Variable(-0.5)\n",
    "b = tf.Variable(1.0)"
   ]
  },
  {
   "cell_type": "code",
   "execution_count": 5,
   "metadata": {},
   "outputs": [],
   "source": [
    "batch_size = 8"
   ]
  },
  {
   "cell_type": "code",
   "execution_count": 6,
   "metadata": {},
   "outputs": [],
   "source": [
    "xs_placeholder = tf.placeholder(tf.float32, [batch_size])\n",
    "ys_placeholder = tf.placeholder(tf.float32, [batch_size])"
   ]
  },
  {
   "cell_type": "markdown",
   "metadata": {},
   "source": [
    "### cost function"
   ]
  },
  {
   "cell_type": "code",
   "execution_count": 7,
   "metadata": {},
   "outputs": [],
   "source": [
    "total_error = 0"
   ]
  },
  {
   "cell_type": "code",
   "execution_count": 8,
   "metadata": {},
   "outputs": [],
   "source": [
    "ys_model = m * xs_placeholder + b\n",
    "total_error += tf.reduce_sum((ys_placeholder - ys_model)**2)"
   ]
  },
  {
   "cell_type": "markdown",
   "metadata": {},
   "source": [
    "### optimizer"
   ]
  },
  {
   "cell_type": "code",
   "execution_count": 9,
   "metadata": {},
   "outputs": [],
   "source": [
    "optimizer_op = tf.train.GradientDescentOptimizer(learning_rate=0.001).minimize(total_error)"
   ]
  },
  {
   "cell_type": "markdown",
   "metadata": {},
   "source": [
    "### initializer"
   ]
  },
  {
   "cell_type": "code",
   "execution_count": 10,
   "metadata": {},
   "outputs": [],
   "source": [
    "initializer_op = tf.global_variables_initializer()"
   ]
  },
  {
   "cell_type": "markdown",
   "metadata": {},
   "source": [
    "### execute session"
   ]
  },
  {
   "cell_type": "code",
   "execution_count": 11,
   "metadata": {},
   "outputs": [],
   "source": [
    "with tf.Session() as session:\n",
    "    session.run(initializer_op)\n",
    "    \n",
    "    n_batches = 1000\n",
    "    for i in range(n_batches):\n",
    "        random_indices = np.random.randint(len(xs), size=batch_size)\n",
    "        feed = {\n",
    "            xs_placeholder: xs[random_indices],\n",
    "            ys_placeholder: ys[random_indices]\n",
    "        }\n",
    "        session.run(optimizer_op, feed_dict=feed)\n",
    "    slope, intercept = session.run([m, b])"
   ]
  },
  {
   "cell_type": "code",
   "execution_count": 12,
   "metadata": {},
   "outputs": [
    {
     "data": {
      "text/plain": [
       "0.29386783"
      ]
     },
     "execution_count": 12,
     "metadata": {},
     "output_type": "execute_result"
    }
   ],
   "source": [
    "slope"
   ]
  },
  {
   "cell_type": "code",
   "execution_count": 13,
   "metadata": {},
   "outputs": [
    {
     "data": {
      "text/plain": [
       "-0.76844597"
      ]
     },
     "execution_count": 13,
     "metadata": {},
     "output_type": "execute_result"
    }
   ],
   "source": [
    "intercept"
   ]
  },
  {
   "cell_type": "code",
   "execution_count": 14,
   "metadata": {},
   "outputs": [],
   "source": [
    "y_hat = intercept + slope * np.array(xs)"
   ]
  },
  {
   "cell_type": "code",
   "execution_count": 15,
   "metadata": {},
   "outputs": [
    {
     "data": {
      "text/html": [
       "<div>\n",
       "<style scoped>\n",
       "    .dataframe tbody tr th:only-of-type {\n",
       "        vertical-align: middle;\n",
       "    }\n",
       "\n",
       "    .dataframe tbody tr th {\n",
       "        vertical-align: top;\n",
       "    }\n",
       "\n",
       "    .dataframe thead th {\n",
       "        text-align: right;\n",
       "    }\n",
       "</style>\n",
       "<table border=\"1\" class=\"dataframe\">\n",
       "  <thead>\n",
       "    <tr style=\"text-align: right;\">\n",
       "      <th></th>\n",
       "      <th>y</th>\n",
       "      <th>y_hat</th>\n",
       "    </tr>\n",
       "  </thead>\n",
       "  <tbody>\n",
       "    <tr>\n",
       "      <th>0</th>\n",
       "      <td>-0.675821</td>\n",
       "      <td>-0.768446</td>\n",
       "    </tr>\n",
       "    <tr>\n",
       "      <th>1</th>\n",
       "      <td>-0.834566</td>\n",
       "      <td>-0.768446</td>\n",
       "    </tr>\n",
       "    <tr>\n",
       "      <th>2</th>\n",
       "      <td>-0.638077</td>\n",
       "      <td>-0.768445</td>\n",
       "    </tr>\n",
       "    <tr>\n",
       "      <th>3</th>\n",
       "      <td>-0.419242</td>\n",
       "      <td>-0.768445</td>\n",
       "    </tr>\n",
       "    <tr>\n",
       "      <th>4</th>\n",
       "      <td>-0.858537</td>\n",
       "      <td>-0.768445</td>\n",
       "    </tr>\n",
       "    <tr>\n",
       "      <th>5</th>\n",
       "      <td>-0.858533</td>\n",
       "      <td>-0.768445</td>\n",
       "    </tr>\n",
       "    <tr>\n",
       "      <th>6</th>\n",
       "      <td>-0.405195</td>\n",
       "      <td>-0.768445</td>\n",
       "    </tr>\n",
       "    <tr>\n",
       "      <th>7</th>\n",
       "      <td>-0.608140</td>\n",
       "      <td>-0.768444</td>\n",
       "    </tr>\n",
       "    <tr>\n",
       "      <th>8</th>\n",
       "      <td>-0.917367</td>\n",
       "      <td>-0.768444</td>\n",
       "    </tr>\n",
       "    <tr>\n",
       "      <th>9</th>\n",
       "      <td>-0.664358</td>\n",
       "      <td>-0.768444</td>\n",
       "    </tr>\n",
       "    <tr>\n",
       "      <th>10</th>\n",
       "      <td>-0.915852</td>\n",
       "      <td>-0.768444</td>\n",
       "    </tr>\n",
       "    <tr>\n",
       "      <th>11</th>\n",
       "      <td>-0.916430</td>\n",
       "      <td>-0.768443</td>\n",
       "    </tr>\n",
       "    <tr>\n",
       "      <th>12</th>\n",
       "      <td>-0.739507</td>\n",
       "      <td>-0.768443</td>\n",
       "    </tr>\n",
       "    <tr>\n",
       "      <th>13</th>\n",
       "      <td>-1.278317</td>\n",
       "      <td>-0.768443</td>\n",
       "    </tr>\n",
       "    <tr>\n",
       "      <th>14</th>\n",
       "      <td>-1.231226</td>\n",
       "      <td>-0.768443</td>\n",
       "    </tr>\n",
       "    <tr>\n",
       "      <th>15</th>\n",
       "      <td>-0.940568</td>\n",
       "      <td>-0.768442</td>\n",
       "    </tr>\n",
       "    <tr>\n",
       "      <th>16</th>\n",
       "      <td>-1.053204</td>\n",
       "      <td>-0.768442</td>\n",
       "    </tr>\n",
       "    <tr>\n",
       "      <th>17</th>\n",
       "      <td>-0.721434</td>\n",
       "      <td>-0.768442</td>\n",
       "    </tr>\n",
       "    <tr>\n",
       "      <th>18</th>\n",
       "      <td>-1.027002</td>\n",
       "      <td>-0.768442</td>\n",
       "    </tr>\n",
       "    <tr>\n",
       "      <th>19</th>\n",
       "      <td>-1.153071</td>\n",
       "      <td>-0.768442</td>\n",
       "    </tr>\n",
       "    <tr>\n",
       "      <th>20</th>\n",
       "      <td>-0.433583</td>\n",
       "      <td>-0.768441</td>\n",
       "    </tr>\n",
       "    <tr>\n",
       "      <th>21</th>\n",
       "      <td>-0.856439</td>\n",
       "      <td>-0.768441</td>\n",
       "    </tr>\n",
       "    <tr>\n",
       "      <th>22</th>\n",
       "      <td>-0.783113</td>\n",
       "      <td>-0.768441</td>\n",
       "    </tr>\n",
       "    <tr>\n",
       "      <th>23</th>\n",
       "      <td>-1.156182</td>\n",
       "      <td>-0.768441</td>\n",
       "    </tr>\n",
       "    <tr>\n",
       "      <th>24</th>\n",
       "      <td>-0.936090</td>\n",
       "      <td>-0.768440</td>\n",
       "    </tr>\n",
       "    <tr>\n",
       "      <th>25</th>\n",
       "      <td>-0.772263</td>\n",
       "      <td>-0.768440</td>\n",
       "    </tr>\n",
       "    <tr>\n",
       "      <th>26</th>\n",
       "      <td>-1.087742</td>\n",
       "      <td>-0.768440</td>\n",
       "    </tr>\n",
       "    <tr>\n",
       "      <th>27</th>\n",
       "      <td>-0.706069</td>\n",
       "      <td>-0.768440</td>\n",
       "    </tr>\n",
       "    <tr>\n",
       "      <th>28</th>\n",
       "      <td>-0.950153</td>\n",
       "      <td>-0.768439</td>\n",
       "    </tr>\n",
       "    <tr>\n",
       "      <th>29</th>\n",
       "      <td>-0.872916</td>\n",
       "      <td>-0.768439</td>\n",
       "    </tr>\n",
       "    <tr>\n",
       "      <th>...</th>\n",
       "      <td>...</td>\n",
       "      <td>...</td>\n",
       "    </tr>\n",
       "    <tr>\n",
       "      <th>9999970</th>\n",
       "      <td>1.611871</td>\n",
       "      <td>1.582490</td>\n",
       "    </tr>\n",
       "    <tr>\n",
       "      <th>9999971</th>\n",
       "      <td>1.272251</td>\n",
       "      <td>1.582490</td>\n",
       "    </tr>\n",
       "    <tr>\n",
       "      <th>9999972</th>\n",
       "      <td>1.643326</td>\n",
       "      <td>1.582490</td>\n",
       "    </tr>\n",
       "    <tr>\n",
       "      <th>9999973</th>\n",
       "      <td>1.258224</td>\n",
       "      <td>1.582491</td>\n",
       "    </tr>\n",
       "    <tr>\n",
       "      <th>9999974</th>\n",
       "      <td>1.850853</td>\n",
       "      <td>1.582491</td>\n",
       "    </tr>\n",
       "    <tr>\n",
       "      <th>9999975</th>\n",
       "      <td>1.549450</td>\n",
       "      <td>1.582491</td>\n",
       "    </tr>\n",
       "    <tr>\n",
       "      <th>9999976</th>\n",
       "      <td>1.571811</td>\n",
       "      <td>1.582491</td>\n",
       "    </tr>\n",
       "    <tr>\n",
       "      <th>9999977</th>\n",
       "      <td>1.548410</td>\n",
       "      <td>1.582491</td>\n",
       "    </tr>\n",
       "    <tr>\n",
       "      <th>9999978</th>\n",
       "      <td>1.621685</td>\n",
       "      <td>1.582492</td>\n",
       "    </tr>\n",
       "    <tr>\n",
       "      <th>9999979</th>\n",
       "      <td>1.111268</td>\n",
       "      <td>1.582492</td>\n",
       "    </tr>\n",
       "    <tr>\n",
       "      <th>9999980</th>\n",
       "      <td>1.539303</td>\n",
       "      <td>1.582492</td>\n",
       "    </tr>\n",
       "    <tr>\n",
       "      <th>9999981</th>\n",
       "      <td>1.376668</td>\n",
       "      <td>1.582492</td>\n",
       "    </tr>\n",
       "    <tr>\n",
       "      <th>9999982</th>\n",
       "      <td>1.550580</td>\n",
       "      <td>1.582493</td>\n",
       "    </tr>\n",
       "    <tr>\n",
       "      <th>9999983</th>\n",
       "      <td>1.270899</td>\n",
       "      <td>1.582493</td>\n",
       "    </tr>\n",
       "    <tr>\n",
       "      <th>9999984</th>\n",
       "      <td>1.588022</td>\n",
       "      <td>1.582493</td>\n",
       "    </tr>\n",
       "    <tr>\n",
       "      <th>9999985</th>\n",
       "      <td>1.559651</td>\n",
       "      <td>1.582493</td>\n",
       "    </tr>\n",
       "    <tr>\n",
       "      <th>9999986</th>\n",
       "      <td>1.429437</td>\n",
       "      <td>1.582494</td>\n",
       "    </tr>\n",
       "    <tr>\n",
       "      <th>9999987</th>\n",
       "      <td>1.597062</td>\n",
       "      <td>1.582494</td>\n",
       "    </tr>\n",
       "    <tr>\n",
       "      <th>9999988</th>\n",
       "      <td>1.771173</td>\n",
       "      <td>1.582494</td>\n",
       "    </tr>\n",
       "    <tr>\n",
       "      <th>9999989</th>\n",
       "      <td>1.595127</td>\n",
       "      <td>1.582494</td>\n",
       "    </tr>\n",
       "    <tr>\n",
       "      <th>9999990</th>\n",
       "      <td>1.775730</td>\n",
       "      <td>1.582495</td>\n",
       "    </tr>\n",
       "    <tr>\n",
       "      <th>9999991</th>\n",
       "      <td>1.473317</td>\n",
       "      <td>1.582495</td>\n",
       "    </tr>\n",
       "    <tr>\n",
       "      <th>9999992</th>\n",
       "      <td>1.368005</td>\n",
       "      <td>1.582495</td>\n",
       "    </tr>\n",
       "    <tr>\n",
       "      <th>9999993</th>\n",
       "      <td>1.552293</td>\n",
       "      <td>1.582495</td>\n",
       "    </tr>\n",
       "    <tr>\n",
       "      <th>9999994</th>\n",
       "      <td>1.590703</td>\n",
       "      <td>1.582495</td>\n",
       "    </tr>\n",
       "    <tr>\n",
       "      <th>9999995</th>\n",
       "      <td>1.756536</td>\n",
       "      <td>1.582496</td>\n",
       "    </tr>\n",
       "    <tr>\n",
       "      <th>9999996</th>\n",
       "      <td>1.453746</td>\n",
       "      <td>1.582496</td>\n",
       "    </tr>\n",
       "    <tr>\n",
       "      <th>9999997</th>\n",
       "      <td>1.966739</td>\n",
       "      <td>1.582496</td>\n",
       "    </tr>\n",
       "    <tr>\n",
       "      <th>9999998</th>\n",
       "      <td>1.761102</td>\n",
       "      <td>1.582496</td>\n",
       "    </tr>\n",
       "    <tr>\n",
       "      <th>9999999</th>\n",
       "      <td>1.830903</td>\n",
       "      <td>1.582497</td>\n",
       "    </tr>\n",
       "  </tbody>\n",
       "</table>\n",
       "<p>10000000 rows × 2 columns</p>\n",
       "</div>"
      ],
      "text/plain": [
       "                y     y_hat\n",
       "0       -0.675821 -0.768446\n",
       "1       -0.834566 -0.768446\n",
       "2       -0.638077 -0.768445\n",
       "3       -0.419242 -0.768445\n",
       "4       -0.858537 -0.768445\n",
       "5       -0.858533 -0.768445\n",
       "6       -0.405195 -0.768445\n",
       "7       -0.608140 -0.768444\n",
       "8       -0.917367 -0.768444\n",
       "9       -0.664358 -0.768444\n",
       "10      -0.915852 -0.768444\n",
       "11      -0.916430 -0.768443\n",
       "12      -0.739507 -0.768443\n",
       "13      -1.278317 -0.768443\n",
       "14      -1.231226 -0.768443\n",
       "15      -0.940568 -0.768442\n",
       "16      -1.053204 -0.768442\n",
       "17      -0.721434 -0.768442\n",
       "18      -1.027002 -0.768442\n",
       "19      -1.153071 -0.768442\n",
       "20      -0.433583 -0.768441\n",
       "21      -0.856439 -0.768441\n",
       "22      -0.783113 -0.768441\n",
       "23      -1.156182 -0.768441\n",
       "24      -0.936090 -0.768440\n",
       "25      -0.772263 -0.768440\n",
       "26      -1.087742 -0.768440\n",
       "27      -0.706069 -0.768440\n",
       "28      -0.950153 -0.768439\n",
       "29      -0.872916 -0.768439\n",
       "...           ...       ...\n",
       "9999970  1.611871  1.582490\n",
       "9999971  1.272251  1.582490\n",
       "9999972  1.643326  1.582490\n",
       "9999973  1.258224  1.582491\n",
       "9999974  1.850853  1.582491\n",
       "9999975  1.549450  1.582491\n",
       "9999976  1.571811  1.582491\n",
       "9999977  1.548410  1.582491\n",
       "9999978  1.621685  1.582492\n",
       "9999979  1.111268  1.582492\n",
       "9999980  1.539303  1.582492\n",
       "9999981  1.376668  1.582492\n",
       "9999982  1.550580  1.582493\n",
       "9999983  1.270899  1.582493\n",
       "9999984  1.588022  1.582493\n",
       "9999985  1.559651  1.582493\n",
       "9999986  1.429437  1.582494\n",
       "9999987  1.597062  1.582494\n",
       "9999988  1.771173  1.582494\n",
       "9999989  1.595127  1.582494\n",
       "9999990  1.775730  1.582495\n",
       "9999991  1.473317  1.582495\n",
       "9999992  1.368005  1.582495\n",
       "9999993  1.552293  1.582495\n",
       "9999994  1.590703  1.582495\n",
       "9999995  1.756536  1.582496\n",
       "9999996  1.453746  1.582496\n",
       "9999997  1.966739  1.582496\n",
       "9999998  1.761102  1.582496\n",
       "9999999  1.830903  1.582497\n",
       "\n",
       "[10000000 rows x 2 columns]"
      ]
     },
     "execution_count": 15,
     "metadata": {},
     "output_type": "execute_result"
    }
   ],
   "source": [
    "pd.DataFrame(list(zip(ys, y_hat)), columns=['y', 'y_hat'])"
   ]
  },
  {
   "cell_type": "code",
   "execution_count": 16,
   "metadata": {},
   "outputs": [
    {
     "data": {
      "image/png": "[encoded data removed]",
      "text/plain": [
       "<Figure size 432x288 with 1 Axes>"
      ]
     },
     "metadata": {},
     "output_type": "display_data"
    }
   ],
   "source": [
    "fig, ax = plt.subplots()\n",
    "\n",
    "ax.scatter(xs, ys)\n",
    "x_min, x_max = ax.get_xlim()\n",
    "y_min, y_max = intercept, intercept + slope * (x_max - x_min)\n",
    "\n",
    "ax.plot([x_min, x_max], [y_min, y_max])\n",
    "_ = ax.set_xlim([x_min, x_max])"
   ]
  },
  {
   "cell_type": "code",
   "execution_count": null,
   "metadata": {},
   "outputs": [],
   "source": []
  }
 ],
 "metadata": {
  "kernelspec": {
   "display_name": "Python 3",
   "language": "python",
   "name": "python3"
  },
  "language_info": {
   "codemirror_mode": {
    "name": "ipython",
    "version": 3
   },
   "file_extension": ".py",
   "mimetype": "text/x-python",
   "name": "python",
   "nbconvert_exporter": "python",
   "pygments_lexer": "ipython3",
   "version": "3.6.5"
  }
 },
 "nbformat": 4,
 "nbformat_minor": 2
}
