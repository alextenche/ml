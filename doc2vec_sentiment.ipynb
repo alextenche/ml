{
 "cells": [
  {
   "cell_type": "code",
   "execution_count": 4,
   "metadata": {},
   "outputs": [],
   "source": [
    "import re\n",
    "import os\n",
    "import random\n",
    "\n",
    "from gensim.models.doc2vec import TaggedDocument\n",
    "from gensim.models import Doc2Vec"
   ]
  },
  {
   "cell_type": "code",
   "execution_count": 5,
   "metadata": {},
   "outputs": [],
   "source": [
    "def extract_words(sentence):\n",
    "    sentence = sentence.lower()\n",
    "    sentence = re.sub(r'<[^>]+>', ' ', sentence)\n",
    "    sentence = re.sub(r'(\\w)\\'(\\w)', '\\1\\2', sentence)\n",
    "    sentence = re.sub(r'\\W', ' ', sentence)\n",
    "    sentence = re.sub(r'\\s+', ' ', sentence)\n",
    "    sentence = sentence.strip()\n",
    "    return sentence.split()"
   ]
  },
  {
   "cell_type": "code",
   "execution_count": 6,
   "metadata": {},
   "outputs": [],
   "source": [
    "unsup_sentences = []"
   ]
  },
  {
   "cell_type": "code",
   "execution_count": 7,
   "metadata": {},
   "outputs": [],
   "source": [
    "# http://ai.stanford.edu/~amaas/data/sentiment\n",
    "for dirname in [\"train/pos\", \"train/neg\", \"train/unsup\", \"test/pos\", \"test/neg\"]:\n",
    "    for fname in sorted(os.listdir(\"data/aclImdb/\" + dirname)):\n",
    "        if fname[-4:] == '.txt':\n",
    "            with open(\"data/aclImdb/\" + dirname + \"/\" + fname, encoding='utf-8') as f:\n",
    "                sentences = f.read()\n",
    "                words = extract_words(sentences)\n",
    "                unsup_sentences.append(TaggedDocument(words, [dirname + \"/\" + fname]))"
   ]
  },
  {
   "cell_type": "code",
   "execution_count": 8,
   "metadata": {},
   "outputs": [
    {
     "data": {
      "text/plain": [
       "100000"
      ]
     },
     "execution_count": 8,
     "metadata": {},
     "output_type": "execute_result"
    }
   ],
   "source": [
    "len(unsup_sentences)"
   ]
  },
  {
   "cell_type": "code",
   "execution_count": 9,
   "metadata": {},
   "outputs": [],
   "source": [
    "# http://www.cs.cornell.edu/people/pabo/movie-review-data/\n",
    "for dirname in [\"data/review_polarity/txt_sentoken/pos\", \"data/review_polarity/txt_sentoken/neg\"]:\n",
    "    for fname in sorted(os.listdir(dirname)):\n",
    "        if fname[-4:] == '.txt':\n",
    "            with open(dirname + \"/\" + fname, encoding='utf-8') as f:\n",
    "                for i, sentences in enumerate(f):\n",
    "                    words = extract_words(sentences)\n",
    "                    unsup_sentences.append(TaggedDocument(words, ['%s/%s-%d' % (dirname, fname, i)]))"
   ]
  },
  {
   "cell_type": "code",
   "execution_count": 10,
   "metadata": {},
   "outputs": [
    {
     "data": {
      "text/plain": [
       "164720"
      ]
     },
     "execution_count": 10,
     "metadata": {},
     "output_type": "execute_result"
    }
   ],
   "source": [
    "len(unsup_sentences)"
   ]
  },
  {
   "cell_type": "code",
   "execution_count": 11,
   "metadata": {},
   "outputs": [
    {
     "data": {
      "text/plain": [
       "TaggedDocument(words=['starring', 'tim', 'roth', 'jennifer', 'beals', 'antonio', 'banderas', 'quentin', 'tarantino', 'valeria', 'golino', 'madonna', 'bruce', 'willis', 'marisa', 'tomei', 'alicia', 'witt', 'lili', 'taylor', 'and', 'ione', 'skye'], tags=['data/review_polarity/txt_sentoken/neg/cv977_4776.txt-5'])"
      ]
     },
     "execution_count": 11,
     "metadata": {},
     "output_type": "execute_result"
    }
   ],
   "source": [
    "unsup_sentences[164000]"
   ]
  },
  {
   "cell_type": "code",
   "execution_count": 12,
   "metadata": {},
   "outputs": [],
   "source": [
    "# https://nlp.stanford.edu/sentiment/\n",
    "with open(\"data/stanfordSentimentTreebank/original_rt_snippets.txt\", encoding='utf-8') as f:\n",
    "    for i, sentence in enumerate(f):\n",
    "        words = extract_words(sentence)\n",
    "        unsup_sentences.append(TaggedDocument(words, ['rt-%d' % i]))"
   ]
  },
  {
   "cell_type": "code",
   "execution_count": 13,
   "metadata": {},
   "outputs": [
    {
     "data": {
      "text/plain": [
       "175325"
      ]
     },
     "execution_count": 13,
     "metadata": {},
     "output_type": "execute_result"
    }
   ],
   "source": [
    "len(unsup_sentences)"
   ]
  },
  {
   "cell_type": "code",
   "execution_count": 14,
   "metadata": {},
   "outputs": [
    {
     "data": {
      "text/plain": [
       "TaggedDocument(words=['i', 'a', 'movie', 'that', 'ends', 'with', 'truckzilla', 'for', 'cryin', 'out', 'loud', 'if', 'that', 'does', 'clue', 'you', 'in', 'that', 'somethin', 'horribly', 'wrong', 'nothing', 'will'], tags=['rt-10280'])"
      ]
     },
     "execution_count": 14,
     "metadata": {},
     "output_type": "execute_result"
    }
   ],
   "source": [
    "unsup_sentences[175000]"
   ]
  },
  {
   "cell_type": "code",
   "execution_count": 15,
   "metadata": {},
   "outputs": [],
   "source": [
    "class PermuteSentences(object):\n",
    "    def __init__(self, sentences):\n",
    "        self.sentences = sentences\n",
    "        \n",
    "    def __iter__(self):\n",
    "        shuffled = list(self.sentences)\n",
    "        random.shuffle(shuffled)\n",
    "        for sentence in shuffled:\n",
    "            yield sentence"
   ]
  },
  {
   "cell_type": "code",
   "execution_count": 16,
   "metadata": {},
   "outputs": [],
   "source": [
    "permuter = PermuteSentences(unsup_sentences)"
   ]
  },
  {
   "cell_type": "code",
   "execution_count": 25,
   "metadata": {},
   "outputs": [],
   "source": [
    "model = Doc2Vec(permuter, dn=0, hs=1, vector_size=70)"
   ]
  },
  {
   "cell_type": "code",
   "execution_count": 26,
   "metadata": {},
   "outputs": [],
   "source": [
    "model.save('models/reviews_70.d2v')"
   ]
  },
  {
   "cell_type": "code",
   "execution_count": 21,
   "metadata": {},
   "outputs": [
    {
     "data": {
      "text/plain": [
       "array([-2.21584029e-02,  1.40059814e-01,  1.10775471e-01, -1.37958556e-01,\n",
       "        1.84793174e-02, -9.72866733e-03, -2.86999419e-02,  1.50538996e-04,\n",
       "        1.31784946e-01, -6.05217926e-03, -1.08003214e-01, -2.38595173e-01,\n",
       "        3.11588142e-02,  2.03356370e-02,  7.07082748e-02, -8.12748075e-02,\n",
       "        1.22072197e-01, -2.98364818e-01,  2.12156728e-01, -3.31813157e-01,\n",
       "        2.34340951e-01,  1.17587045e-01, -1.94785446e-01, -1.36342958e-01,\n",
       "       -3.91722202e-01, -7.58900344e-02,  2.26971105e-01,  1.75877586e-01,\n",
       "        1.45304158e-01, -2.39197552e-01,  1.87830225e-01,  1.18280936e-03,\n",
       "        3.40742469e-02,  7.93473572e-02, -2.02818945e-01,  1.78153478e-02,\n",
       "        4.78179641e-02, -1.24255742e-03, -7.85557181e-02,  4.21098769e-02,\n",
       "       -2.58627310e-02,  1.96892098e-02, -1.81037530e-01, -1.92666218e-01,\n",
       "        1.22619141e-03, -7.86005259e-02, -1.08408615e-01, -7.14767650e-02,\n",
       "        1.20176807e-01,  1.16375268e-01], dtype=float32)"
      ]
     },
     "execution_count": 21,
     "metadata": {},
     "output_type": "execute_result"
    }
   ],
   "source": [
    "model.infer_vector(extract_words(\"This place is not worth your time, let alone Vegas.\"))"
   ]
  },
  {
   "cell_type": "code",
   "execution_count": 22,
   "metadata": {},
   "outputs": [
    {
     "data": {
      "text/plain": [
       "array([[0.6106016]], dtype=float32)"
      ]
     },
     "execution_count": 22,
     "metadata": {},
     "output_type": "execute_result"
    }
   ],
   "source": [
    "from sklearn.metrics.pairwise import cosine_similarity\n",
    "cosine_similarity(\n",
    "    [model.infer_vector(extract_words(\"This place is not worth your time, let alone Vegas.\"))],\n",
    "    [model.infer_vector(extract_words(\"This is not the best time.\"))]\n",
    ")"
   ]
  },
  {
   "cell_type": "code",
   "execution_count": 24,
   "metadata": {},
   "outputs": [
    {
     "data": {
      "text/plain": [
       "array([[0.14926729]], dtype=float32)"
      ]
     },
     "execution_count": 24,
     "metadata": {},
     "output_type": "execute_result"
    }
   ],
   "source": [
    "cosine_similarity(\n",
    "    [model.infer_vector(extract_words(\"Highly recommended.\"))],\n",
    "    [model.infer_vector(extract_words(\"Service sucks.\"))]\n",
    ")"
   ]
  },
  {
   "cell_type": "code",
   "execution_count": null,
   "metadata": {},
   "outputs": [],
   "source": []
  }
 ],
 "metadata": {
  "kernelspec": {
   "display_name": "Python 3",
   "language": "python",
   "name": "python3"
  },
  "language_info": {
   "codemirror_mode": {
    "name": "ipython",
    "version": 3
   },
   "file_extension": ".py",
   "mimetype": "text/x-python",
   "name": "python",
   "nbconvert_exporter": "python",
   "pygments_lexer": "ipython3",
   "version": "3.7.3"
  }
 },
 "nbformat": 4,
 "nbformat_minor": 2
}
