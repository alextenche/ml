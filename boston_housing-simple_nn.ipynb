{
 "cells": [
  {
   "cell_type": "code",
   "execution_count": 1,
   "metadata": {},
   "outputs": [
    {
     "name": "stderr",
     "output_type": "stream",
     "text": [
      "/usr/local/lib/python3.6/dist-packages/h5py/__init__.py:36: FutureWarning: Conversion of the second argument of issubdtype from `float` to `np.floating` is deprecated. In future, it will be treated as `np.float64 == np.dtype(float).type`.\n",
      "  from ._conv import register_converters as _register_converters\n"
     ]
    }
   ],
   "source": [
    "from numpy.random import seed\n",
    "seed(42)\n",
    "from tensorflow import set_random_seed\n",
    "set_random_seed(42)"
   ]
  },
  {
   "cell_type": "code",
   "execution_count": 2,
   "metadata": {},
   "outputs": [
    {
     "name": "stderr",
     "output_type": "stream",
     "text": [
      "Using TensorFlow backend.\n"
     ]
    }
   ],
   "source": [
    "import keras\n",
    "from keras.models import Sequential\n",
    "from keras.layers import Activation, Dense\n",
    "from keras.optimizers import SGD"
   ]
  },
  {
   "cell_type": "code",
   "execution_count": 3,
   "metadata": {},
   "outputs": [],
   "source": [
    "from keras.datasets import boston_housing\n",
    "(x_train, y_train), (x_test, y_test) = boston_housing.load_data()"
   ]
  },
  {
   "cell_type": "code",
   "execution_count": 4,
   "metadata": {},
   "outputs": [
    {
     "data": {
      "text/plain": [
       "(404, 13)"
      ]
     },
     "execution_count": 4,
     "metadata": {},
     "output_type": "execute_result"
    }
   ],
   "source": [
    "x_train.shape"
   ]
  },
  {
   "cell_type": "code",
   "execution_count": 5,
   "metadata": {},
   "outputs": [
    {
     "name": "stdout",
     "output_type": "stream",
     "text": [
      "_________________________________________________________________\n",
      "Layer (type)                 Output Shape              Param #   \n",
      "=================================================================\n",
      "dense_1 (Dense)              (None, 13)                182       \n",
      "_________________________________________________________________\n",
      "dense_2 (Dense)              (None, 1)                 14        \n",
      "=================================================================\n",
      "Total params: 196\n",
      "Trainable params: 196\n",
      "Non-trainable params: 0\n",
      "_________________________________________________________________\n"
     ]
    }
   ],
   "source": [
    "basic_model =  Sequential()\n",
    "basic_model.add(Dense(units=13, input_dim = 13, kernel_initializer='normal'))\n",
    "basic_model.add(Dense(units=1, kernel_initializer='normal', activation='linear'))\n",
    "basic_model.compile(optimizer=SGD(lr=0.00001), loss='mean_absolute_error', metrics=['accuracy'])\n",
    "basic_model.summary()"
   ]
  },
  {
   "cell_type": "code",
   "execution_count": 6,
   "metadata": {},
   "outputs": [
    {
     "name": "stdout",
     "output_type": "stream",
     "text": [
      "_________________________________________________________________\n",
      "Layer (type)                 Output Shape              Param #   \n",
      "=================================================================\n",
      "dense_3 (Dense)              (None, 32)                448       \n",
      "_________________________________________________________________\n",
      "dense_4 (Dense)              (None, 16)                528       \n",
      "_________________________________________________________________\n",
      "dense_5 (Dense)              (None, 1)                 17        \n",
      "=================================================================\n",
      "Total params: 993\n",
      "Trainable params: 993\n",
      "Non-trainable params: 0\n",
      "_________________________________________________________________\n"
     ]
    }
   ],
   "source": [
    "advanced_model =  Sequential()\n",
    "advanced_model.add(Dense(units=32, input_dim = 13, kernel_initializer='truncated_normal'))\n",
    "advanced_model.add(Dense(units=16, kernel_initializer='truncated_normal'))\n",
    "advanced_model.add(Dense(units=1, kernel_initializer='truncated_normal'))\n",
    "advanced_model.compile(optimizer='adam', loss='mean_absolute_error', metrics=['accuracy'])\n",
    "advanced_model.summary()"
   ]
  },
  {
   "cell_type": "code",
   "execution_count": 7,
   "metadata": {},
   "outputs": [
    {
     "name": "stdout",
     "output_type": "stream",
     "text": [
      "Train on 363 samples, validate on 41 samples\n",
      "Epoch 1/100\n",
      "363/363 [==============================] - 1s 2ms/step - loss: 20.9210 - acc: 0.0000e+00 - val_loss: 19.4423 - val_acc: 0.0244\n",
      "Epoch 2/100\n",
      "363/363 [==============================] - 0s 33us/step - loss: 19.8208 - acc: 0.0055 - val_loss: 18.4734 - val_acc: 0.0000e+00\n",
      "Epoch 3/100\n",
      "363/363 [==============================] - 0s 30us/step - loss: 18.8248 - acc: 0.0000e+00 - val_loss: 17.5106 - val_acc: 0.0000e+00\n",
      "Epoch 4/100\n",
      "363/363 [==============================] - 0s 30us/step - loss: 17.8673 - acc: 0.0000e+00 - val_loss: 16.6174 - val_acc: 0.0000e+00\n",
      "Epoch 5/100\n",
      "363/363 [==============================] - 0s 31us/step - loss: 16.9737 - acc: 0.0000e+00 - val_loss: 15.8082 - val_acc: 0.0000e+00\n",
      "Epoch 6/100\n",
      "363/363 [==============================] - 0s 28us/step - loss: 16.1669 - acc: 0.0000e+00 - val_loss: 15.0703 - val_acc: 0.0000e+00\n",
      "Epoch 7/100\n",
      "363/363 [==============================] - 0s 29us/step - loss: 15.4724 - acc: 0.0000e+00 - val_loss: 14.4068 - val_acc: 0.0000e+00\n",
      "Epoch 8/100\n",
      "363/363 [==============================] - 0s 30us/step - loss: 14.8934 - acc: 0.0028 - val_loss: 13.8730 - val_acc: 0.0000e+00\n",
      "Epoch 9/100\n",
      "363/363 [==============================] - 0s 32us/step - loss: 14.4202 - acc: 0.0028 - val_loss: 13.3878 - val_acc: 0.0000e+00\n",
      "Epoch 10/100\n",
      "363/363 [==============================] - 0s 32us/step - loss: 13.9978 - acc: 0.0000e+00 - val_loss: 12.9282 - val_acc: 0.0000e+00\n",
      "Epoch 11/100\n",
      "363/363 [==============================] - 0s 30us/step - loss: 13.6055 - acc: 0.0000e+00 - val_loss: 12.5185 - val_acc: 0.0000e+00\n",
      "Epoch 12/100\n",
      "363/363 [==============================] - 0s 28us/step - loss: 13.2495 - acc: 0.0000e+00 - val_loss: 12.1342 - val_acc: 0.0000e+00\n",
      "Epoch 13/100\n",
      "363/363 [==============================] - 0s 31us/step - loss: 12.9105 - acc: 0.0000e+00 - val_loss: 11.7807 - val_acc: 0.0000e+00\n",
      "Epoch 14/100\n",
      "363/363 [==============================] - 0s 33us/step - loss: 12.5956 - acc: 0.0028 - val_loss: 11.4700 - val_acc: 0.0488\n",
      "Epoch 15/100\n",
      "363/363 [==============================] - 0s 32us/step - loss: 12.3001 - acc: 0.0028 - val_loss: 11.2157 - val_acc: 0.0244\n",
      "Epoch 16/100\n",
      "363/363 [==============================] - 0s 31us/step - loss: 12.0309 - acc: 0.0000e+00 - val_loss: 11.0076 - val_acc: 0.0000e+00\n",
      "Epoch 17/100\n",
      "363/363 [==============================] - 0s 32us/step - loss: 11.7800 - acc: 0.0000e+00 - val_loss: 10.7975 - val_acc: 0.0000e+00\n",
      "Epoch 18/100\n",
      "363/363 [==============================] - 0s 31us/step - loss: 11.5391 - acc: 0.0000e+00 - val_loss: 10.5913 - val_acc: 0.0000e+00\n",
      "Epoch 19/100\n",
      "363/363 [==============================] - 0s 30us/step - loss: 11.3189 - acc: 0.0000e+00 - val_loss: 10.3933 - val_acc: 0.0000e+00\n",
      "Epoch 20/100\n",
      "363/363 [==============================] - 0s 30us/step - loss: 11.1211 - acc: 0.0000e+00 - val_loss: 10.2026 - val_acc: 0.0000e+00\n",
      "Epoch 21/100\n",
      "363/363 [==============================] - 0s 35us/step - loss: 10.9395 - acc: 0.0000e+00 - val_loss: 10.0226 - val_acc: 0.0000e+00\n",
      "Epoch 22/100\n",
      "363/363 [==============================] - 0s 34us/step - loss: 10.7774 - acc: 0.0028 - val_loss: 9.8564 - val_acc: 0.0000e+00\n",
      "Epoch 23/100\n",
      "363/363 [==============================] - 0s 32us/step - loss: 10.6180 - acc: 0.0028 - val_loss: 9.7062 - val_acc: 0.0244\n",
      "Epoch 24/100\n",
      "363/363 [==============================] - 0s 35us/step - loss: 10.4660 - acc: 0.0083 - val_loss: 9.5694 - val_acc: 0.0244\n",
      "Epoch 25/100\n",
      "363/363 [==============================] - 0s 28us/step - loss: 10.3162 - acc: 0.0055 - val_loss: 9.4481 - val_acc: 0.0244\n",
      "Epoch 26/100\n",
      "363/363 [==============================] - 0s 49us/step - loss: 10.1825 - acc: 0.0028 - val_loss: 9.3323 - val_acc: 0.0000e+00\n",
      "Epoch 27/100\n",
      "363/363 [==============================] - 0s 36us/step - loss: 10.0625 - acc: 0.0028 - val_loss: 9.2166 - val_acc: 0.0000e+00\n",
      "Epoch 28/100\n",
      "363/363 [==============================] - 0s 34us/step - loss: 9.9514 - acc: 0.0000e+00 - val_loss: 9.1072 - val_acc: 0.0000e+00\n",
      "Epoch 29/100\n",
      "363/363 [==============================] - 0s 29us/step - loss: 9.8496 - acc: 0.0028 - val_loss: 9.0006 - val_acc: 0.0000e+00\n",
      "Epoch 30/100\n",
      "363/363 [==============================] - 0s 42us/step - loss: 9.7521 - acc: 0.0028 - val_loss: 8.8942 - val_acc: 0.0000e+00\n",
      "Epoch 31/100\n",
      "363/363 [==============================] - 0s 31us/step - loss: 9.6587 - acc: 0.0028 - val_loss: 8.7861 - val_acc: 0.0000e+00\n",
      "Epoch 32/100\n",
      "363/363 [==============================] - 0s 31us/step - loss: 9.5631 - acc: 0.0028 - val_loss: 8.6798 - val_acc: 0.0000e+00\n",
      "Epoch 33/100\n",
      "363/363 [==============================] - 0s 35us/step - loss: 9.4704 - acc: 0.0028 - val_loss: 8.5785 - val_acc: 0.0000e+00\n",
      "Epoch 34/100\n",
      "363/363 [==============================] - 0s 35us/step - loss: 9.3832 - acc: 0.0000e+00 - val_loss: 8.4841 - val_acc: 0.0000e+00\n",
      "Epoch 35/100\n",
      "363/363 [==============================] - 0s 31us/step - loss: 9.3011 - acc: 0.0000e+00 - val_loss: 8.3942 - val_acc: 0.0000e+00\n",
      "Epoch 36/100\n",
      "363/363 [==============================] - 0s 33us/step - loss: 9.2239 - acc: 0.0000e+00 - val_loss: 8.3043 - val_acc: 0.0000e+00\n",
      "Epoch 37/100\n",
      "363/363 [==============================] - 0s 28us/step - loss: 9.1471 - acc: 0.0000e+00 - val_loss: 8.2186 - val_acc: 0.0000e+00\n",
      "Epoch 38/100\n",
      "363/363 [==============================] - 0s 30us/step - loss: 9.0741 - acc: 0.0028 - val_loss: 8.1356 - val_acc: 0.0000e+00\n",
      "Epoch 39/100\n",
      "363/363 [==============================] - 0s 29us/step - loss: 8.9976 - acc: 0.0000e+00 - val_loss: 8.0531 - val_acc: 0.0244\n",
      "Epoch 40/100\n",
      "363/363 [==============================] - 0s 35us/step - loss: 8.9208 - acc: 0.0028 - val_loss: 7.9739 - val_acc: 0.0244\n",
      "Epoch 41/100\n",
      "363/363 [==============================] - 0s 31us/step - loss: 8.8481 - acc: 0.0028 - val_loss: 7.8945 - val_acc: 0.0244\n",
      "Epoch 42/100\n",
      "363/363 [==============================] - 0s 28us/step - loss: 8.7725 - acc: 0.0028 - val_loss: 7.8266 - val_acc: 0.0244\n",
      "Epoch 43/100\n",
      "363/363 [==============================] - 0s 34us/step - loss: 8.7046 - acc: 0.0028 - val_loss: 7.7595 - val_acc: 0.0244\n",
      "Epoch 44/100\n",
      "363/363 [==============================] - 0s 30us/step - loss: 8.6278 - acc: 0.0028 - val_loss: 7.6936 - val_acc: 0.0000e+00\n",
      "Epoch 45/100\n",
      "363/363 [==============================] - 0s 29us/step - loss: 8.5511 - acc: 0.0028 - val_loss: 7.6272 - val_acc: 0.0000e+00\n",
      "Epoch 46/100\n",
      "363/363 [==============================] - 0s 32us/step - loss: 8.4807 - acc: 0.0028 - val_loss: 7.5620 - val_acc: 0.0000e+00\n",
      "Epoch 47/100\n",
      "363/363 [==============================] - 0s 39us/step - loss: 8.4116 - acc: 0.0028 - val_loss: 7.4990 - val_acc: 0.0000e+00\n",
      "Epoch 48/100\n",
      "363/363 [==============================] - 0s 29us/step - loss: 8.3408 - acc: 0.0028 - val_loss: 7.4345 - val_acc: 0.0000e+00\n",
      "Epoch 49/100\n",
      "363/363 [==============================] - 0s 31us/step - loss: 8.2740 - acc: 0.0028 - val_loss: 7.3714 - val_acc: 0.0000e+00\n",
      "Epoch 50/100\n",
      "363/363 [==============================] - 0s 29us/step - loss: 8.2095 - acc: 0.0028 - val_loss: 7.3089 - val_acc: 0.0000e+00\n",
      "Epoch 51/100\n",
      "363/363 [==============================] - 0s 31us/step - loss: 8.1450 - acc: 0.0028 - val_loss: 7.2466 - val_acc: 0.0000e+00\n",
      "Epoch 52/100\n",
      "363/363 [==============================] - 0s 32us/step - loss: 8.0810 - acc: 0.0028 - val_loss: 7.1862 - val_acc: 0.0000e+00\n",
      "Epoch 53/100\n",
      "363/363 [==============================] - 0s 31us/step - loss: 8.0225 - acc: 0.0028 - val_loss: 7.1269 - val_acc: 0.0000e+00\n",
      "Epoch 54/100\n",
      "363/363 [==============================] - 0s 31us/step - loss: 7.9604 - acc: 0.0028 - val_loss: 7.0678 - val_acc: 0.0000e+00\n",
      "Epoch 55/100\n",
      "363/363 [==============================] - 0s 33us/step - loss: 7.9011 - acc: 0.0055 - val_loss: 7.0087 - val_acc: 0.0000e+00\n",
      "Epoch 56/100\n",
      "363/363 [==============================] - 0s 33us/step - loss: 7.8431 - acc: 0.0055 - val_loss: 6.9502 - val_acc: 0.0000e+00\n",
      "Epoch 57/100\n",
      "363/363 [==============================] - 0s 29us/step - loss: 7.7901 - acc: 0.0055 - val_loss: 6.8946 - val_acc: 0.0000e+00\n",
      "Epoch 58/100\n",
      "363/363 [==============================] - 0s 36us/step - loss: 7.7389 - acc: 0.0055 - val_loss: 6.8378 - val_acc: 0.0000e+00\n",
      "Epoch 59/100\n"
     ]
    },
    {
     "name": "stdout",
     "output_type": "stream",
     "text": [
      "363/363 [==============================] - 0s 58us/step - loss: 7.6849 - acc: 0.0055 - val_loss: 6.7778 - val_acc: 0.0000e+00\n",
      "Epoch 60/100\n",
      "363/363 [==============================] - 0s 35us/step - loss: 7.6303 - acc: 0.0055 - val_loss: 6.7230 - val_acc: 0.0000e+00\n",
      "Epoch 61/100\n",
      "363/363 [==============================] - 0s 34us/step - loss: 7.5784 - acc: 0.0083 - val_loss: 6.6688 - val_acc: 0.0000e+00\n",
      "Epoch 62/100\n",
      "363/363 [==============================] - 0s 35us/step - loss: 7.5375 - acc: 0.0083 - val_loss: 6.6193 - val_acc: 0.0000e+00\n",
      "Epoch 63/100\n",
      "363/363 [==============================] - 0s 37us/step - loss: 7.4910 - acc: 0.0083 - val_loss: 6.5673 - val_acc: 0.0000e+00\n",
      "Epoch 64/100\n",
      "363/363 [==============================] - 0s 40us/step - loss: 7.4547 - acc: 0.0083 - val_loss: 6.5169 - val_acc: 0.0000e+00\n",
      "Epoch 65/100\n",
      "363/363 [==============================] - 0s 32us/step - loss: 7.4110 - acc: 0.0083 - val_loss: 6.4658 - val_acc: 0.0000e+00\n",
      "Epoch 66/100\n",
      "363/363 [==============================] - 0s 31us/step - loss: 7.3726 - acc: 0.0055 - val_loss: 6.4159 - val_acc: 0.0000e+00\n",
      "Epoch 67/100\n",
      "363/363 [==============================] - 0s 29us/step - loss: 7.3352 - acc: 0.0055 - val_loss: 6.3659 - val_acc: 0.0000e+00\n",
      "Epoch 68/100\n",
      "363/363 [==============================] - 0s 26us/step - loss: 7.3023 - acc: 0.0055 - val_loss: 6.3183 - val_acc: 0.0000e+00\n",
      "Epoch 69/100\n",
      "363/363 [==============================] - 0s 31us/step - loss: 7.2672 - acc: 0.0055 - val_loss: 6.2732 - val_acc: 0.0000e+00\n",
      "Epoch 70/100\n",
      "363/363 [==============================] - 0s 28us/step - loss: 7.2422 - acc: 0.0055 - val_loss: 6.2297 - val_acc: 0.0000e+00\n",
      "Epoch 71/100\n",
      "363/363 [==============================] - 0s 33us/step - loss: 7.2093 - acc: 0.0055 - val_loss: 6.1887 - val_acc: 0.0000e+00\n",
      "Epoch 72/100\n",
      "363/363 [==============================] - 0s 27us/step - loss: 7.1869 - acc: 0.0028 - val_loss: 6.1477 - val_acc: 0.0000e+00\n",
      "Epoch 73/100\n",
      "363/363 [==============================] - 0s 26us/step - loss: 7.1573 - acc: 0.0055 - val_loss: 6.1038 - val_acc: 0.0000e+00\n",
      "Epoch 74/100\n",
      "363/363 [==============================] - 0s 28us/step - loss: 7.1285 - acc: 0.0028 - val_loss: 6.0630 - val_acc: 0.0000e+00\n",
      "Epoch 75/100\n",
      "363/363 [==============================] - 0s 44us/step - loss: 7.1016 - acc: 0.0028 - val_loss: 6.0209 - val_acc: 0.0000e+00\n",
      "Epoch 76/100\n",
      "363/363 [==============================] - 0s 31us/step - loss: 7.0753 - acc: 0.0000e+00 - val_loss: 5.9811 - val_acc: 0.0000e+00\n",
      "Epoch 77/100\n",
      "363/363 [==============================] - 0s 32us/step - loss: 7.0488 - acc: 0.0000e+00 - val_loss: 5.9446 - val_acc: 0.0000e+00\n",
      "Epoch 78/100\n",
      "363/363 [==============================] - 0s 30us/step - loss: 7.0276 - acc: 0.0000e+00 - val_loss: 5.9113 - val_acc: 0.0000e+00\n",
      "Epoch 79/100\n",
      "363/363 [==============================] - 0s 33us/step - loss: 7.0055 - acc: 0.0000e+00 - val_loss: 5.8818 - val_acc: 0.0000e+00\n",
      "Epoch 80/100\n",
      "363/363 [==============================] - 0s 34us/step - loss: 6.9844 - acc: 0.0000e+00 - val_loss: 5.8557 - val_acc: 0.0000e+00\n",
      "Epoch 81/100\n",
      "363/363 [==============================] - 0s 31us/step - loss: 6.9662 - acc: 0.0000e+00 - val_loss: 5.8319 - val_acc: 0.0000e+00\n",
      "Epoch 82/100\n",
      "363/363 [==============================] - 0s 35us/step - loss: 6.9453 - acc: 0.0000e+00 - val_loss: 5.8036 - val_acc: 0.0000e+00\n",
      "Epoch 83/100\n",
      "363/363 [==============================] - 0s 36us/step - loss: 6.9233 - acc: 0.0028 - val_loss: 5.7794 - val_acc: 0.0000e+00\n",
      "Epoch 84/100\n",
      "363/363 [==============================] - 0s 28us/step - loss: 6.9033 - acc: 0.0055 - val_loss: 5.7531 - val_acc: 0.0000e+00\n",
      "Epoch 85/100\n",
      "363/363 [==============================] - 0s 39us/step - loss: 6.8863 - acc: 0.0055 - val_loss: 5.7276 - val_acc: 0.0000e+00\n",
      "Epoch 86/100\n",
      "363/363 [==============================] - 0s 33us/step - loss: 6.8685 - acc: 0.0055 - val_loss: 5.7053 - val_acc: 0.0000e+00\n",
      "Epoch 87/100\n",
      "363/363 [==============================] - 0s 31us/step - loss: 6.8522 - acc: 0.0055 - val_loss: 5.6839 - val_acc: 0.0000e+00\n",
      "Epoch 88/100\n",
      "363/363 [==============================] - 0s 36us/step - loss: 6.8345 - acc: 0.0083 - val_loss: 5.6637 - val_acc: 0.0000e+00\n",
      "Epoch 89/100\n",
      "363/363 [==============================] - 0s 36us/step - loss: 6.8171 - acc: 0.0083 - val_loss: 5.6393 - val_acc: 0.0000e+00\n",
      "Epoch 90/100\n",
      "363/363 [==============================] - 0s 34us/step - loss: 6.8048 - acc: 0.0083 - val_loss: 5.6169 - val_acc: 0.0000e+00\n",
      "Epoch 91/100\n",
      "363/363 [==============================] - 0s 35us/step - loss: 6.7907 - acc: 0.0083 - val_loss: 5.5986 - val_acc: 0.0000e+00\n",
      "Epoch 92/100\n",
      "363/363 [==============================] - 0s 36us/step - loss: 6.7753 - acc: 0.0083 - val_loss: 5.5779 - val_acc: 0.0000e+00\n",
      "Epoch 93/100\n",
      "363/363 [==============================] - 0s 28us/step - loss: 6.7633 - acc: 0.0083 - val_loss: 5.5554 - val_acc: 0.0000e+00\n",
      "Epoch 94/100\n",
      "363/363 [==============================] - 0s 36us/step - loss: 6.7544 - acc: 0.0083 - val_loss: 5.5351 - val_acc: 0.0000e+00\n",
      "Epoch 95/100\n",
      "363/363 [==============================] - 0s 33us/step - loss: 6.7406 - acc: 0.0083 - val_loss: 5.5151 - val_acc: 0.0000e+00\n",
      "Epoch 96/100\n",
      "363/363 [==============================] - 0s 34us/step - loss: 6.7326 - acc: 0.0083 - val_loss: 5.4958 - val_acc: 0.0000e+00\n",
      "Epoch 97/100\n",
      "363/363 [==============================] - 0s 33us/step - loss: 6.7206 - acc: 0.0138 - val_loss: 5.4779 - val_acc: 0.0000e+00\n",
      "Epoch 98/100\n",
      "363/363 [==============================] - 0s 31us/step - loss: 6.7100 - acc: 0.0138 - val_loss: 5.4603 - val_acc: 0.0000e+00\n",
      "Epoch 99/100\n",
      "363/363 [==============================] - 0s 31us/step - loss: 6.7014 - acc: 0.0138 - val_loss: 5.4458 - val_acc: 0.0000e+00\n",
      "Epoch 100/100\n",
      "363/363 [==============================] - 0s 34us/step - loss: 6.6936 - acc: 0.0138 - val_loss: 5.4307 - val_acc: 0.0000e+00\n"
     ]
    },
    {
     "data": {
      "text/plain": [
       "<keras.callbacks.History at 0x7f783fe4acf8>"
      ]
     },
     "execution_count": 7,
     "metadata": {},
     "output_type": "execute_result"
    }
   ],
   "source": [
    "basic_model.fit(x_train, y_train, epochs=100, batch_size=64, verbose=1, validation_split=0.1)"
   ]
  },
  {
   "cell_type": "code",
   "execution_count": 8,
   "metadata": {},
   "outputs": [
    {
     "name": "stdout",
     "output_type": "stream",
     "text": [
      "Train on 363 samples, validate on 41 samples\n",
      "Epoch 1/100\n",
      "363/363 [==============================] - 0s 397us/step - loss: 20.1610 - acc: 0.0055 - val_loss: 17.2317 - val_acc: 0.0000e+00\n",
      "Epoch 2/100\n",
      "363/363 [==============================] - 0s 40us/step - loss: 16.3725 - acc: 0.0000e+00 - val_loss: 12.6172 - val_acc: 0.0000e+00\n",
      "Epoch 3/100\n",
      "363/363 [==============================] - 0s 41us/step - loss: 11.9077 - acc: 0.0000e+00 - val_loss: 8.7290 - val_acc: 0.0244\n",
      "Epoch 4/100\n",
      "363/363 [==============================] - 0s 39us/step - loss: 9.3120 - acc: 0.0000e+00 - val_loss: 8.0242 - val_acc: 0.0000e+00\n",
      "Epoch 5/100\n",
      "363/363 [==============================] - 0s 36us/step - loss: 9.1914 - acc: 0.0055 - val_loss: 7.5058 - val_acc: 0.0000e+00\n",
      "Epoch 6/100\n",
      "363/363 [==============================] - 0s 37us/step - loss: 8.3347 - acc: 0.0055 - val_loss: 6.9822 - val_acc: 0.0000e+00\n",
      "Epoch 7/100\n",
      "363/363 [==============================] - 0s 35us/step - loss: 7.6121 - acc: 0.0055 - val_loss: 6.5521 - val_acc: 0.0000e+00\n",
      "Epoch 8/100\n",
      "363/363 [==============================] - 0s 32us/step - loss: 7.1637 - acc: 0.0028 - val_loss: 5.8535 - val_acc: 0.0000e+00\n",
      "Epoch 9/100\n",
      "363/363 [==============================] - 0s 35us/step - loss: 6.7068 - acc: 0.0110 - val_loss: 5.2937 - val_acc: 0.0000e+00\n",
      "Epoch 10/100\n",
      "363/363 [==============================] - 0s 34us/step - loss: 6.3783 - acc: 0.0110 - val_loss: 5.0531 - val_acc: 0.0000e+00\n",
      "Epoch 11/100\n",
      "363/363 [==============================] - 0s 35us/step - loss: 6.2626 - acc: 0.0138 - val_loss: 4.9717 - val_acc: 0.0000e+00\n",
      "Epoch 12/100\n",
      "363/363 [==============================] - 0s 32us/step - loss: 6.1626 - acc: 0.0110 - val_loss: 4.7145 - val_acc: 0.0244\n",
      "Epoch 13/100\n",
      "363/363 [==============================] - 0s 41us/step - loss: 6.1559 - acc: 0.0138 - val_loss: 4.9740 - val_acc: 0.0000e+00\n",
      "Epoch 14/100\n",
      "363/363 [==============================] - 0s 43us/step - loss: 6.1066 - acc: 0.0083 - val_loss: 4.7447 - val_acc: 0.0488\n",
      "Epoch 15/100\n",
      "363/363 [==============================] - 0s 34us/step - loss: 6.1087 - acc: 0.0028 - val_loss: 4.8744 - val_acc: 0.0000e+00\n",
      "Epoch 16/100\n",
      "363/363 [==============================] - 0s 34us/step - loss: 6.0809 - acc: 0.0138 - val_loss: 4.7162 - val_acc: 0.0488\n",
      "Epoch 17/100\n",
      "363/363 [==============================] - 0s 33us/step - loss: 6.0552 - acc: 0.0193 - val_loss: 4.9477 - val_acc: 0.0000e+00\n",
      "Epoch 18/100\n",
      "363/363 [==============================] - 0s 33us/step - loss: 6.0063 - acc: 0.0138 - val_loss: 4.6516 - val_acc: 0.0488\n",
      "Epoch 19/100\n",
      "363/363 [==============================] - 0s 36us/step - loss: 6.0245 - acc: 0.0110 - val_loss: 4.7462 - val_acc: 0.0000e+00\n",
      "Epoch 20/100\n",
      "363/363 [==============================] - 0s 33us/step - loss: 6.0038 - acc: 0.0083 - val_loss: 4.9767 - val_acc: 0.0000e+00\n",
      "Epoch 21/100\n",
      "363/363 [==============================] - 0s 39us/step - loss: 6.0103 - acc: 0.0110 - val_loss: 4.6091 - val_acc: 0.0244\n",
      "Epoch 22/100\n",
      "363/363 [==============================] - 0s 35us/step - loss: 5.9639 - acc: 0.0193 - val_loss: 4.8491 - val_acc: 0.0000e+00\n",
      "Epoch 23/100\n",
      "363/363 [==============================] - 0s 38us/step - loss: 5.9446 - acc: 0.0138 - val_loss: 4.7503 - val_acc: 0.0000e+00\n",
      "Epoch 24/100\n",
      "363/363 [==============================] - 0s 37us/step - loss: 5.9218 - acc: 0.0110 - val_loss: 4.7460 - val_acc: 0.0000e+00\n",
      "Epoch 25/100\n",
      "363/363 [==============================] - 0s 34us/step - loss: 5.9113 - acc: 0.0083 - val_loss: 4.7814 - val_acc: 0.0000e+00\n",
      "Epoch 26/100\n",
      "363/363 [==============================] - 0s 39us/step - loss: 5.9015 - acc: 0.0138 - val_loss: 4.6654 - val_acc: 0.0000e+00\n",
      "Epoch 27/100\n",
      "363/363 [==============================] - 0s 37us/step - loss: 5.9113 - acc: 0.0138 - val_loss: 4.8060 - val_acc: 0.0000e+00\n",
      "Epoch 28/100\n",
      "363/363 [==============================] - 0s 35us/step - loss: 5.8932 - acc: 0.0193 - val_loss: 4.4769 - val_acc: 0.0732\n",
      "Epoch 29/100\n",
      "363/363 [==============================] - 0s 35us/step - loss: 5.8580 - acc: 0.0138 - val_loss: 4.9062 - val_acc: 0.0244\n",
      "Epoch 30/100\n",
      "363/363 [==============================] - 0s 33us/step - loss: 5.8754 - acc: 0.0110 - val_loss: 4.6615 - val_acc: 0.0000e+00\n",
      "Epoch 31/100\n",
      "363/363 [==============================] - 0s 34us/step - loss: 5.8945 - acc: 0.0165 - val_loss: 4.5909 - val_acc: 0.0000e+00\n",
      "Epoch 32/100\n",
      "363/363 [==============================] - 0s 33us/step - loss: 5.8655 - acc: 0.0138 - val_loss: 4.7407 - val_acc: 0.0000e+00\n",
      "Epoch 33/100\n",
      "363/363 [==============================] - 0s 37us/step - loss: 5.8497 - acc: 0.0220 - val_loss: 4.4982 - val_acc: 0.0000e+00\n",
      "Epoch 34/100\n",
      "363/363 [==============================] - 0s 33us/step - loss: 5.8261 - acc: 0.0165 - val_loss: 4.8316 - val_acc: 0.0000e+00\n",
      "Epoch 35/100\n",
      "363/363 [==============================] - 0s 38us/step - loss: 5.8065 - acc: 0.0083 - val_loss: 4.5652 - val_acc: 0.0000e+00\n",
      "Epoch 36/100\n",
      "363/363 [==============================] - 0s 36us/step - loss: 5.8152 - acc: 0.0248 - val_loss: 4.7152 - val_acc: 0.0000e+00\n",
      "Epoch 37/100\n",
      "363/363 [==============================] - 0s 35us/step - loss: 5.9084 - acc: 0.0083 - val_loss: 4.6053 - val_acc: 0.0000e+00\n",
      "Epoch 38/100\n",
      "363/363 [==============================] - 0s 45us/step - loss: 5.8651 - acc: 0.0193 - val_loss: 4.5307 - val_acc: 0.0000e+00\n",
      "Epoch 39/100\n",
      "363/363 [==============================] - 0s 45us/step - loss: 5.8000 - acc: 0.0083 - val_loss: 4.8578 - val_acc: 0.0000e+00\n",
      "Epoch 40/100\n",
      "363/363 [==============================] - 0s 39us/step - loss: 5.7646 - acc: 0.0165 - val_loss: 4.4667 - val_acc: 0.0488\n",
      "Epoch 41/100\n",
      "363/363 [==============================] - 0s 43us/step - loss: 5.7689 - acc: 0.0165 - val_loss: 4.7720 - val_acc: 0.0000e+00\n",
      "Epoch 42/100\n",
      "363/363 [==============================] - 0s 40us/step - loss: 5.7954 - acc: 0.0083 - val_loss: 4.6525 - val_acc: 0.0000e+00\n",
      "Epoch 43/100\n",
      "363/363 [==============================] - 0s 41us/step - loss: 5.7863 - acc: 0.0193 - val_loss: 4.5049 - val_acc: 0.0244\n",
      "Epoch 44/100\n",
      "363/363 [==============================] - 0s 40us/step - loss: 5.6937 - acc: 0.0138 - val_loss: 4.7573 - val_acc: 0.0000e+00\n",
      "Epoch 45/100\n",
      "363/363 [==============================] - 0s 44us/step - loss: 5.6898 - acc: 0.0220 - val_loss: 4.4320 - val_acc: 0.0488\n",
      "Epoch 46/100\n",
      "363/363 [==============================] - 0s 41us/step - loss: 5.7139 - acc: 0.0138 - val_loss: 4.7147 - val_acc: 0.0000e+00\n",
      "Epoch 47/100\n",
      "363/363 [==============================] - 0s 37us/step - loss: 5.6673 - acc: 0.0165 - val_loss: 4.5496 - val_acc: 0.0244\n",
      "Epoch 48/100\n",
      "363/363 [==============================] - 0s 40us/step - loss: 5.6556 - acc: 0.0220 - val_loss: 4.5805 - val_acc: 0.0244\n",
      "Epoch 49/100\n",
      "363/363 [==============================] - 0s 37us/step - loss: 5.6686 - acc: 0.0165 - val_loss: 4.6201 - val_acc: 0.0000e+00\n",
      "Epoch 50/100\n",
      "363/363 [==============================] - 0s 39us/step - loss: 5.6781 - acc: 0.0138 - val_loss: 4.5140 - val_acc: 0.0244\n",
      "Epoch 51/100\n",
      "363/363 [==============================] - 0s 44us/step - loss: 5.6404 - acc: 0.0138 - val_loss: 4.6147 - val_acc: 0.0000e+00\n",
      "Epoch 52/100\n",
      "363/363 [==============================] - 0s 39us/step - loss: 5.5944 - acc: 0.0193 - val_loss: 4.4014 - val_acc: 0.0244\n",
      "Epoch 53/100\n",
      "363/363 [==============================] - 0s 39us/step - loss: 5.5904 - acc: 0.0220 - val_loss: 4.6958 - val_acc: 0.0000e+00\n",
      "Epoch 54/100\n",
      "363/363 [==============================] - 0s 36us/step - loss: 5.6650 - acc: 0.0083 - val_loss: 4.3978 - val_acc: 0.0488\n",
      "Epoch 55/100\n",
      "363/363 [==============================] - 0s 39us/step - loss: 5.5882 - acc: 0.0248 - val_loss: 4.5010 - val_acc: 0.0244\n",
      "Epoch 56/100\n",
      "363/363 [==============================] - 0s 37us/step - loss: 5.5802 - acc: 0.0165 - val_loss: 4.6030 - val_acc: 0.0244\n",
      "Epoch 57/100\n",
      "363/363 [==============================] - 0s 38us/step - loss: 5.5795 - acc: 0.0138 - val_loss: 4.5399 - val_acc: 0.0244\n",
      "Epoch 58/100\n",
      "363/363 [==============================] - 0s 41us/step - loss: 5.5545 - acc: 0.0220 - val_loss: 4.4423 - val_acc: 0.0244\n",
      "Epoch 59/100\n",
      "363/363 [==============================] - 0s 37us/step - loss: 5.5459 - acc: 0.0165 - val_loss: 4.5492 - val_acc: 0.0244\n",
      "Epoch 60/100\n"
     ]
    },
    {
     "name": "stdout",
     "output_type": "stream",
     "text": [
      "363/363 [==============================] - 0s 38us/step - loss: 5.5093 - acc: 0.0275 - val_loss: 4.4329 - val_acc: 0.0244\n",
      "Epoch 61/100\n",
      "363/363 [==============================] - 0s 39us/step - loss: 5.4848 - acc: 0.0248 - val_loss: 4.5489 - val_acc: 0.0244\n",
      "Epoch 62/100\n",
      "363/363 [==============================] - 0s 40us/step - loss: 5.4738 - acc: 0.0193 - val_loss: 4.4855 - val_acc: 0.0244\n",
      "Epoch 63/100\n",
      "363/363 [==============================] - 0s 36us/step - loss: 5.4734 - acc: 0.0165 - val_loss: 4.4306 - val_acc: 0.0244\n",
      "Epoch 64/100\n",
      "363/363 [==============================] - 0s 40us/step - loss: 5.4420 - acc: 0.0165 - val_loss: 4.4108 - val_acc: 0.0000e+00\n",
      "Epoch 65/100\n",
      "363/363 [==============================] - 0s 36us/step - loss: 5.4318 - acc: 0.0220 - val_loss: 4.7119 - val_acc: 0.0488\n",
      "Epoch 66/100\n",
      "363/363 [==============================] - 0s 43us/step - loss: 5.4891 - acc: 0.0083 - val_loss: 4.4197 - val_acc: 0.0000e+00\n",
      "Epoch 67/100\n",
      "363/363 [==============================] - 0s 44us/step - loss: 5.3941 - acc: 0.0165 - val_loss: 4.4311 - val_acc: 0.0000e+00\n",
      "Epoch 68/100\n",
      "363/363 [==============================] - 0s 53us/step - loss: 5.3781 - acc: 0.0110 - val_loss: 4.5424 - val_acc: 0.0000e+00\n",
      "Epoch 69/100\n",
      "363/363 [==============================] - 0s 42us/step - loss: 5.3979 - acc: 0.0193 - val_loss: 4.5669 - val_acc: 0.0000e+00\n",
      "Epoch 70/100\n",
      "363/363 [==============================] - 0s 42us/step - loss: 5.4246 - acc: 0.0083 - val_loss: 4.3215 - val_acc: 0.0000e+00\n",
      "Epoch 71/100\n",
      "363/363 [==============================] - 0s 40us/step - loss: 5.4114 - acc: 0.0138 - val_loss: 4.4904 - val_acc: 0.0000e+00\n",
      "Epoch 72/100\n",
      "363/363 [==============================] - 0s 44us/step - loss: 5.3171 - acc: 0.0138 - val_loss: 4.6251 - val_acc: 0.0000e+00\n",
      "Epoch 73/100\n",
      "363/363 [==============================] - 0s 41us/step - loss: 5.2860 - acc: 0.0193 - val_loss: 4.4349 - val_acc: 0.0000e+00\n",
      "Epoch 74/100\n",
      "363/363 [==============================] - 0s 42us/step - loss: 5.2599 - acc: 0.0165 - val_loss: 4.5399 - val_acc: 0.0000e+00\n",
      "Epoch 75/100\n",
      "363/363 [==============================] - 0s 78us/step - loss: 5.2440 - acc: 0.0138 - val_loss: 4.4221 - val_acc: 0.0000e+00\n",
      "Epoch 76/100\n",
      "363/363 [==============================] - 0s 42us/step - loss: 5.2358 - acc: 0.0165 - val_loss: 4.7859 - val_acc: 0.0244\n",
      "Epoch 77/100\n",
      "363/363 [==============================] - 0s 40us/step - loss: 5.2981 - acc: 0.0083 - val_loss: 4.2197 - val_acc: 0.0488\n",
      "Epoch 78/100\n",
      "363/363 [==============================] - 0s 52us/step - loss: 5.2934 - acc: 0.0110 - val_loss: 4.8273 - val_acc: 0.0488\n",
      "Epoch 79/100\n",
      "363/363 [==============================] - 0s 46us/step - loss: 5.2146 - acc: 0.0083 - val_loss: 4.2867 - val_acc: 0.0000e+00\n",
      "Epoch 80/100\n",
      "363/363 [==============================] - 0s 46us/step - loss: 5.1942 - acc: 0.0138 - val_loss: 4.4756 - val_acc: 0.0000e+00\n",
      "Epoch 81/100\n",
      "363/363 [==============================] - 0s 43us/step - loss: 5.1504 - acc: 0.0165 - val_loss: 4.3375 - val_acc: 0.0000e+00\n",
      "Epoch 82/100\n",
      "363/363 [==============================] - 0s 43us/step - loss: 5.1567 - acc: 0.0165 - val_loss: 4.6486 - val_acc: 0.0000e+00\n",
      "Epoch 83/100\n",
      "363/363 [==============================] - 0s 39us/step - loss: 5.1492 - acc: 0.0055 - val_loss: 4.2993 - val_acc: 0.0488\n",
      "Epoch 84/100\n",
      "363/363 [==============================] - 0s 39us/step - loss: 5.1355 - acc: 0.0138 - val_loss: 4.7097 - val_acc: 0.0000e+00\n",
      "Epoch 85/100\n",
      "363/363 [==============================] - 0s 41us/step - loss: 5.0655 - acc: 0.0138 - val_loss: 4.2230 - val_acc: 0.0488\n",
      "Epoch 86/100\n",
      "363/363 [==============================] - 0s 35us/step - loss: 5.0776 - acc: 0.0110 - val_loss: 4.7467 - val_acc: 0.0244\n",
      "Epoch 87/100\n",
      "363/363 [==============================] - 0s 36us/step - loss: 5.1186 - acc: 0.0138 - val_loss: 4.3366 - val_acc: 0.0000e+00\n",
      "Epoch 88/100\n",
      "363/363 [==============================] - 0s 35us/step - loss: 5.0131 - acc: 0.0110 - val_loss: 4.5974 - val_acc: 0.0000e+00\n",
      "Epoch 89/100\n",
      "363/363 [==============================] - 0s 35us/step - loss: 4.9793 - acc: 0.0110 - val_loss: 4.3226 - val_acc: 0.0000e+00\n",
      "Epoch 90/100\n",
      "363/363 [==============================] - 0s 38us/step - loss: 5.0652 - acc: 0.0138 - val_loss: 4.8500 - val_acc: 0.0244\n",
      "Epoch 91/100\n",
      "363/363 [==============================] - 0s 38us/step - loss: 4.9726 - acc: 0.0220 - val_loss: 4.3416 - val_acc: 0.0000e+00\n",
      "Epoch 92/100\n",
      "363/363 [==============================] - 0s 36us/step - loss: 4.9489 - acc: 0.0138 - val_loss: 4.6824 - val_acc: 0.0000e+00\n",
      "Epoch 93/100\n",
      "363/363 [==============================] - 0s 37us/step - loss: 5.0158 - acc: 0.0138 - val_loss: 4.3450 - val_acc: 0.0000e+00\n",
      "Epoch 94/100\n",
      "363/363 [==============================] - 0s 37us/step - loss: 4.9203 - acc: 0.0138 - val_loss: 4.4727 - val_acc: 0.0000e+00\n",
      "Epoch 95/100\n",
      "363/363 [==============================] - 0s 35us/step - loss: 4.9436 - acc: 0.0138 - val_loss: 4.3743 - val_acc: 0.0000e+00\n",
      "Epoch 96/100\n",
      "363/363 [==============================] - 0s 46us/step - loss: 4.9503 - acc: 0.0055 - val_loss: 4.5674 - val_acc: 0.0000e+00\n",
      "Epoch 97/100\n",
      "363/363 [==============================] - 0s 38us/step - loss: 4.8964 - acc: 0.0110 - val_loss: 4.6386 - val_acc: 0.0244\n",
      "Epoch 98/100\n",
      "363/363 [==============================] - 0s 37us/step - loss: 4.8786 - acc: 0.0055 - val_loss: 4.4510 - val_acc: 0.0000e+00\n",
      "Epoch 99/100\n",
      "363/363 [==============================] - 0s 38us/step - loss: 4.8710 - acc: 0.0165 - val_loss: 4.2105 - val_acc: 0.0488\n",
      "Epoch 100/100\n",
      "363/363 [==============================] - 0s 44us/step - loss: 4.8277 - acc: 0.0055 - val_loss: 4.7279 - val_acc: 0.0244\n"
     ]
    },
    {
     "data": {
      "text/plain": [
       "<keras.callbacks.History at 0x7f783fe4ad30>"
      ]
     },
     "execution_count": 8,
     "metadata": {},
     "output_type": "execute_result"
    }
   ],
   "source": [
    "advanced_model.fit(x_train, y_train, epochs=100, batch_size=64, verbose=1, validation_split=0.1)"
   ]
  },
  {
   "cell_type": "code",
   "execution_count": 9,
   "metadata": {},
   "outputs": [],
   "source": [
    "def test_model(model):\n",
    "    evaluation = model.evaluate(x_test, y_test, verbose=0)\n",
    "    print('loss on test dataset: %.2f ' % (evaluation[0]))\n",
    "    print('accuracy on test dataset: %.2f ' % (evaluation[1]))"
   ]
  },
  {
   "cell_type": "markdown",
   "metadata": {},
   "source": [
    "#### test basic_model"
   ]
  },
  {
   "cell_type": "code",
   "execution_count": 10,
   "metadata": {},
   "outputs": [
    {
     "name": "stdout",
     "output_type": "stream",
     "text": [
      "loss on test dataset: 7.08 \n",
      "accuracy on test dataset: 0.01 \n"
     ]
    }
   ],
   "source": [
    "test_model(basic_model)"
   ]
  },
  {
   "cell_type": "markdown",
   "metadata": {},
   "source": [
    "#### test advanced_model"
   ]
  },
  {
   "cell_type": "code",
   "execution_count": 11,
   "metadata": {},
   "outputs": [
    {
     "name": "stdout",
     "output_type": "stream",
     "text": [
      "loss on test dataset: 5.25 \n",
      "accuracy on test dataset: 0.01 \n"
     ]
    }
   ],
   "source": [
    "test_model(advanced_model)"
   ]
  },
  {
   "cell_type": "code",
   "execution_count": null,
   "metadata": {},
   "outputs": [],
   "source": []
  }
 ],
 "metadata": {
  "kernelspec": {
   "display_name": "Python 3",
   "language": "python",
   "name": "python3"
  },
  "language_info": {
   "codemirror_mode": {
    "name": "ipython",
    "version": 3
   },
   "file_extension": ".py",
   "mimetype": "text/x-python",
   "name": "python",
   "nbconvert_exporter": "python",
   "pygments_lexer": "ipython3",
   "version": "3.6.5"
  }
 },
 "nbformat": 4,
 "nbformat_minor": 2
}
